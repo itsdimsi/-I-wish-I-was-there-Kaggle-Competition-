{
  "nbformat": 4,
  "nbformat_minor": 0,
  "metadata": {
    "colab": {
      "name": "machine_learning.ipynb",
      "provenance": [],
      "collapsed_sections": [],
      "machine_shape": "hm"
    },
    "kernelspec": {
      "display_name": "Python 3.9.4 64-bit",
      "name": "python394jvsc74a57bd0c3e9baa4faad802794489d99e35786459a043bcc135a553d53c38a18e4f7d5ee"
    },
    "language_info": {
      "codemirror_mode": {
        "name": "ipython",
        "version": 3
      },
      "file_extension": ".py",
      "mimetype": "text/x-python",
      "name": "python",
      "nbconvert_exporter": "python",
      "pygments_lexer": "ipython3",
      "version": "3.9.4"
    },
    "metadata": {
      "interpreter": {
        "hash": "c3e9baa4faad802794489d99e35786459a043bcc135a553d53c38a18e4f7d5ee"
      }
    }
  },
  "cells": [
    {
      "cell_type": "markdown",
      "metadata": {
        "id": "CHBts9BDbwad"
      },
      "source": [
        "# Importing Libraries"
      ]
    },
    {
      "cell_type": "code",
      "metadata": {
        "colab": {
          "base_uri": "https://localhost:8080/"
        },
        "id": "EsASTLyIbwam",
        "outputId": "72675576-3ba4-49f5-f852-04196404fab1"
      },
      "source": [
        "import matplotlib.pyplot as plt\n",
        "from sklearn.model_selection import cross_val_score\n",
        "import pandas as pd\n",
        "from sklearn.feature_selection import SelectKBest, f_classif\n",
        "from imblearn.pipeline import make_pipeline,Pipeline\n",
        "import numpy as np \n",
        "import math\n",
        "import scipy\n",
        "import sklearn\n",
        "from scipy import stats\n",
        "from sklearn.preprocessing import Normalizer\n",
        "from sklearn.preprocessing import StandardScaler\n",
        "from sklearn.preprocessing import MaxAbsScaler\n",
        "from sklearn.model_selection import StratifiedKFold\n",
        "from imblearn.over_sampling import SMOTE\n",
        "from sklearn.svm import SVC\n",
        "from sklearn.model_selection import GridSearchCV"
      ],
      "execution_count": null,
      "outputs": [
        {
          "output_type": "stream",
          "text": [
            "/usr/local/lib/python3.7/dist-packages/sklearn/externals/six.py:31: FutureWarning: The module is deprecated in version 0.21 and will be removed in version 0.23 since we've dropped support for Python 2.7. Please rely on the official version of six (https://pypi.org/project/six/).\n",
            "  \"(https://pypi.org/project/six/).\", FutureWarning)\n",
            "/usr/local/lib/python3.7/dist-packages/sklearn/utils/deprecation.py:144: FutureWarning: The sklearn.neighbors.base module is  deprecated in version 0.22 and will be removed in version 0.24. The corresponding classes / functions should instead be imported from sklearn.neighbors. Anything that cannot be imported from sklearn.neighbors is now part of the private API.\n",
            "  warnings.warn(message, FutureWarning)\n"
          ],
          "name": "stderr"
        }
      ]
    },
    {
      "cell_type": "markdown",
      "metadata": {
        "id": "lFSeX37Abwao"
      },
      "source": [
        "# Loading the Data"
      ]
    },
    {
      "cell_type": "code",
      "metadata": {
        "colab": {
          "base_uri": "https://localhost:8080/"
        },
        "id": "sLnyRh5BcErf",
        "outputId": "9c2cd60c-e190-4de7-8972-5ed604cdf459"
      },
      "source": [
        "from google.colab import drive\n",
        "#mount google drive\n",
        "drive.mount('/content/drive/')\n",
        "import sys\n",
        "sys.path.append('/content/drive/My Drive')"
      ],
      "execution_count": null,
      "outputs": [
        {
          "output_type": "stream",
          "text": [
            "Drive already mounted at /content/drive/; to attempt to forcibly remount, call drive.mount(\"/content/drive/\", force_remount=True).\n"
          ],
          "name": "stdout"
        }
      ]
    },
    {
      "cell_type": "markdown",
      "metadata": {
        "id": "HRhcSgoObwap"
      },
      "source": [
        "## Training Data"
      ]
    },
    {
      "cell_type": "code",
      "metadata": {
        "colab": {
          "base_uri": "https://localhost:8080/",
          "height": 283
        },
        "id": "yEvLvCCBbwap",
        "outputId": "657781ad-0470-4ed5-db61-b674b219de7a"
      },
      "source": [
        "training = pd.read_csv('/content/drive/My Drive/i-wish-i-was-there/training.csv', index_col=0) # reading the data, translating it into a pandas dataframe\n",
        "display(training.head()) # display the first 5 rows of the dataframe\n"
      ],
      "execution_count": null,
      "outputs": [
        {
          "output_type": "display_data",
          "data": {
            "text/html": [
              "<div>\n",
              "<style scoped>\n",
              "    .dataframe tbody tr th:only-of-type {\n",
              "        vertical-align: middle;\n",
              "    }\n",
              "\n",
              "    .dataframe tbody tr th {\n",
              "        vertical-align: top;\n",
              "    }\n",
              "\n",
              "    .dataframe thead th {\n",
              "        text-align: right;\n",
              "    }\n",
              "</style>\n",
              "<table border=\"1\" class=\"dataframe\">\n",
              "  <thead>\n",
              "    <tr style=\"text-align: right;\">\n",
              "      <th></th>\n",
              "      <th>CNNs</th>\n",
              "      <th>CNNs.1</th>\n",
              "      <th>CNNs.2</th>\n",
              "      <th>CNNs.3</th>\n",
              "      <th>CNNs.4</th>\n",
              "      <th>CNNs.5</th>\n",
              "      <th>CNNs.6</th>\n",
              "      <th>CNNs.7</th>\n",
              "      <th>CNNs.8</th>\n",
              "      <th>CNNs.9</th>\n",
              "      <th>CNNs.10</th>\n",
              "      <th>CNNs.11</th>\n",
              "      <th>CNNs.12</th>\n",
              "      <th>CNNs.13</th>\n",
              "      <th>CNNs.14</th>\n",
              "      <th>CNNs.15</th>\n",
              "      <th>CNNs.16</th>\n",
              "      <th>CNNs.17</th>\n",
              "      <th>CNNs.18</th>\n",
              "      <th>CNNs.19</th>\n",
              "      <th>CNNs.20</th>\n",
              "      <th>CNNs.21</th>\n",
              "      <th>CNNs.22</th>\n",
              "      <th>CNNs.23</th>\n",
              "      <th>CNNs.24</th>\n",
              "      <th>CNNs.25</th>\n",
              "      <th>CNNs.26</th>\n",
              "      <th>CNNs.27</th>\n",
              "      <th>CNNs.28</th>\n",
              "      <th>CNNs.29</th>\n",
              "      <th>CNNs.30</th>\n",
              "      <th>CNNs.31</th>\n",
              "      <th>CNNs.32</th>\n",
              "      <th>CNNs.33</th>\n",
              "      <th>CNNs.34</th>\n",
              "      <th>CNNs.35</th>\n",
              "      <th>CNNs.36</th>\n",
              "      <th>CNNs.37</th>\n",
              "      <th>CNNs.38</th>\n",
              "      <th>CNNs.39</th>\n",
              "      <th>...</th>\n",
              "      <th>GIST.473</th>\n",
              "      <th>GIST.474</th>\n",
              "      <th>GIST.475</th>\n",
              "      <th>GIST.476</th>\n",
              "      <th>GIST.477</th>\n",
              "      <th>GIST.478</th>\n",
              "      <th>GIST.479</th>\n",
              "      <th>GIST.480</th>\n",
              "      <th>GIST.481</th>\n",
              "      <th>GIST.482</th>\n",
              "      <th>GIST.483</th>\n",
              "      <th>GIST.484</th>\n",
              "      <th>GIST.485</th>\n",
              "      <th>GIST.486</th>\n",
              "      <th>GIST.487</th>\n",
              "      <th>GIST.488</th>\n",
              "      <th>GIST.489</th>\n",
              "      <th>GIST.490</th>\n",
              "      <th>GIST.491</th>\n",
              "      <th>GIST.492</th>\n",
              "      <th>GIST.493</th>\n",
              "      <th>GIST.494</th>\n",
              "      <th>GIST.495</th>\n",
              "      <th>GIST.496</th>\n",
              "      <th>GIST.497</th>\n",
              "      <th>GIST.498</th>\n",
              "      <th>GIST.499</th>\n",
              "      <th>GIST.500</th>\n",
              "      <th>GIST.501</th>\n",
              "      <th>GIST.502</th>\n",
              "      <th>GIST.503</th>\n",
              "      <th>GIST.504</th>\n",
              "      <th>GIST.505</th>\n",
              "      <th>GIST.506</th>\n",
              "      <th>GIST.507</th>\n",
              "      <th>GIST.508</th>\n",
              "      <th>GIST.509</th>\n",
              "      <th>GIST.510</th>\n",
              "      <th>GIST.511</th>\n",
              "      <th>prediction</th>\n",
              "    </tr>\n",
              "    <tr>\n",
              "      <th>ID</th>\n",
              "      <th></th>\n",
              "      <th></th>\n",
              "      <th></th>\n",
              "      <th></th>\n",
              "      <th></th>\n",
              "      <th></th>\n",
              "      <th></th>\n",
              "      <th></th>\n",
              "      <th></th>\n",
              "      <th></th>\n",
              "      <th></th>\n",
              "      <th></th>\n",
              "      <th></th>\n",
              "      <th></th>\n",
              "      <th></th>\n",
              "      <th></th>\n",
              "      <th></th>\n",
              "      <th></th>\n",
              "      <th></th>\n",
              "      <th></th>\n",
              "      <th></th>\n",
              "      <th></th>\n",
              "      <th></th>\n",
              "      <th></th>\n",
              "      <th></th>\n",
              "      <th></th>\n",
              "      <th></th>\n",
              "      <th></th>\n",
              "      <th></th>\n",
              "      <th></th>\n",
              "      <th></th>\n",
              "      <th></th>\n",
              "      <th></th>\n",
              "      <th></th>\n",
              "      <th></th>\n",
              "      <th></th>\n",
              "      <th></th>\n",
              "      <th></th>\n",
              "      <th></th>\n",
              "      <th></th>\n",
              "      <th></th>\n",
              "      <th></th>\n",
              "      <th></th>\n",
              "      <th></th>\n",
              "      <th></th>\n",
              "      <th></th>\n",
              "      <th></th>\n",
              "      <th></th>\n",
              "      <th></th>\n",
              "      <th></th>\n",
              "      <th></th>\n",
              "      <th></th>\n",
              "      <th></th>\n",
              "      <th></th>\n",
              "      <th></th>\n",
              "      <th></th>\n",
              "      <th></th>\n",
              "      <th></th>\n",
              "      <th></th>\n",
              "      <th></th>\n",
              "      <th></th>\n",
              "      <th></th>\n",
              "      <th></th>\n",
              "      <th></th>\n",
              "      <th></th>\n",
              "      <th></th>\n",
              "      <th></th>\n",
              "      <th></th>\n",
              "      <th></th>\n",
              "      <th></th>\n",
              "      <th></th>\n",
              "      <th></th>\n",
              "      <th></th>\n",
              "      <th></th>\n",
              "      <th></th>\n",
              "      <th></th>\n",
              "      <th></th>\n",
              "      <th></th>\n",
              "      <th></th>\n",
              "      <th></th>\n",
              "      <th></th>\n",
              "    </tr>\n",
              "  </thead>\n",
              "  <tbody>\n",
              "    <tr>\n",
              "      <th>1</th>\n",
              "      <td>2.40260</td>\n",
              "      <td>0.55496</td>\n",
              "      <td>0.00000</td>\n",
              "      <td>0.00000</td>\n",
              "      <td>0.00000</td>\n",
              "      <td>0.00000</td>\n",
              "      <td>0.33893</td>\n",
              "      <td>0.00000</td>\n",
              "      <td>1.3191</td>\n",
              "      <td>0.22121</td>\n",
              "      <td>0.00000</td>\n",
              "      <td>0.00000</td>\n",
              "      <td>0.00000</td>\n",
              "      <td>1.182200</td>\n",
              "      <td>0.00000</td>\n",
              "      <td>0.0000</td>\n",
              "      <td>0.00000</td>\n",
              "      <td>0.000000</td>\n",
              "      <td>0.0000</td>\n",
              "      <td>0.000000</td>\n",
              "      <td>0.00000</td>\n",
              "      <td>0.00000</td>\n",
              "      <td>0.00000</td>\n",
              "      <td>0.00000</td>\n",
              "      <td>0.574640</td>\n",
              "      <td>0.0000</td>\n",
              "      <td>0.000000</td>\n",
              "      <td>0.00000</td>\n",
              "      <td>0.0</td>\n",
              "      <td>0.00000</td>\n",
              "      <td>0.00000</td>\n",
              "      <td>0.0000</td>\n",
              "      <td>0.00000</td>\n",
              "      <td>0.00000</td>\n",
              "      <td>0.00000</td>\n",
              "      <td>0.0000</td>\n",
              "      <td>0.00000</td>\n",
              "      <td>0.00000</td>\n",
              "      <td>0.00000</td>\n",
              "      <td>0.0</td>\n",
              "      <td>...</td>\n",
              "      <td>0.026257</td>\n",
              "      <td>0.022237</td>\n",
              "      <td>0.035813</td>\n",
              "      <td>0.025761</td>\n",
              "      <td>0.026295</td>\n",
              "      <td>0.027581</td>\n",
              "      <td>0.015342</td>\n",
              "      <td>0.026628</td>\n",
              "      <td>0.013269</td>\n",
              "      <td>0.024359</td>\n",
              "      <td>0.018712</td>\n",
              "      <td>0.024926</td>\n",
              "      <td>0.021963</td>\n",
              "      <td>0.021773</td>\n",
              "      <td>0.023568</td>\n",
              "      <td>0.019834</td>\n",
              "      <td>0.014300</td>\n",
              "      <td>0.025260</td>\n",
              "      <td>0.019607</td>\n",
              "      <td>0.027114</td>\n",
              "      <td>0.026370</td>\n",
              "      <td>0.025588</td>\n",
              "      <td>0.013442</td>\n",
              "      <td>0.037338</td>\n",
              "      <td>0.044497</td>\n",
              "      <td>0.035463</td>\n",
              "      <td>0.029618</td>\n",
              "      <td>0.021774</td>\n",
              "      <td>0.035416</td>\n",
              "      <td>0.037913</td>\n",
              "      <td>0.025488</td>\n",
              "      <td>0.021384</td>\n",
              "      <td>0.026530</td>\n",
              "      <td>0.037562</td>\n",
              "      <td>0.033369</td>\n",
              "      <td>0.030079</td>\n",
              "      <td>0.057239</td>\n",
              "      <td>0.048746</td>\n",
              "      <td>0.037217</td>\n",
              "      <td>0</td>\n",
              "    </tr>\n",
              "    <tr>\n",
              "      <th>2</th>\n",
              "      <td>0.00000</td>\n",
              "      <td>0.90992</td>\n",
              "      <td>0.00000</td>\n",
              "      <td>0.00000</td>\n",
              "      <td>0.00000</td>\n",
              "      <td>0.55614</td>\n",
              "      <td>0.17685</td>\n",
              "      <td>0.00000</td>\n",
              "      <td>0.0000</td>\n",
              "      <td>0.00000</td>\n",
              "      <td>0.00000</td>\n",
              "      <td>0.00000</td>\n",
              "      <td>0.00000</td>\n",
              "      <td>0.000000</td>\n",
              "      <td>0.70426</td>\n",
              "      <td>0.0000</td>\n",
              "      <td>0.00000</td>\n",
              "      <td>0.000000</td>\n",
              "      <td>0.0000</td>\n",
              "      <td>0.047146</td>\n",
              "      <td>0.00000</td>\n",
              "      <td>0.55651</td>\n",
              "      <td>0.00000</td>\n",
              "      <td>0.00000</td>\n",
              "      <td>1.710600</td>\n",
              "      <td>1.1107</td>\n",
              "      <td>0.000000</td>\n",
              "      <td>0.00000</td>\n",
              "      <td>0.0</td>\n",
              "      <td>0.00000</td>\n",
              "      <td>0.00000</td>\n",
              "      <td>0.0000</td>\n",
              "      <td>0.00000</td>\n",
              "      <td>0.00000</td>\n",
              "      <td>0.00000</td>\n",
              "      <td>1.3409</td>\n",
              "      <td>0.23577</td>\n",
              "      <td>0.65543</td>\n",
              "      <td>0.34635</td>\n",
              "      <td>0.0</td>\n",
              "      <td>...</td>\n",
              "      <td>0.030806</td>\n",
              "      <td>0.028828</td>\n",
              "      <td>0.049244</td>\n",
              "      <td>0.008391</td>\n",
              "      <td>0.032814</td>\n",
              "      <td>0.021262</td>\n",
              "      <td>0.053216</td>\n",
              "      <td>0.045054</td>\n",
              "      <td>0.023659</td>\n",
              "      <td>0.016105</td>\n",
              "      <td>0.030475</td>\n",
              "      <td>0.031841</td>\n",
              "      <td>0.027860</td>\n",
              "      <td>0.039781</td>\n",
              "      <td>0.022238</td>\n",
              "      <td>0.010312</td>\n",
              "      <td>0.019339</td>\n",
              "      <td>0.015486</td>\n",
              "      <td>0.021439</td>\n",
              "      <td>0.010026</td>\n",
              "      <td>0.023999</td>\n",
              "      <td>0.017424</td>\n",
              "      <td>0.027451</td>\n",
              "      <td>0.040467</td>\n",
              "      <td>0.030169</td>\n",
              "      <td>0.035430</td>\n",
              "      <td>0.025522</td>\n",
              "      <td>0.010907</td>\n",
              "      <td>0.030225</td>\n",
              "      <td>0.037154</td>\n",
              "      <td>0.019238</td>\n",
              "      <td>0.010607</td>\n",
              "      <td>0.027920</td>\n",
              "      <td>0.024132</td>\n",
              "      <td>0.018205</td>\n",
              "      <td>0.013909</td>\n",
              "      <td>0.023270</td>\n",
              "      <td>0.027539</td>\n",
              "      <td>0.024225</td>\n",
              "      <td>0</td>\n",
              "    </tr>\n",
              "    <tr>\n",
              "      <th>3</th>\n",
              "      <td>0.00000</td>\n",
              "      <td>0.15810</td>\n",
              "      <td>0.00000</td>\n",
              "      <td>0.30995</td>\n",
              "      <td>0.00000</td>\n",
              "      <td>0.55401</td>\n",
              "      <td>0.14810</td>\n",
              "      <td>0.00000</td>\n",
              "      <td>0.8690</td>\n",
              "      <td>0.68585</td>\n",
              "      <td>0.26028</td>\n",
              "      <td>0.00000</td>\n",
              "      <td>0.16087</td>\n",
              "      <td>0.198750</td>\n",
              "      <td>0.00000</td>\n",
              "      <td>1.0874</td>\n",
              "      <td>0.65465</td>\n",
              "      <td>0.099921</td>\n",
              "      <td>0.0000</td>\n",
              "      <td>0.000000</td>\n",
              "      <td>0.28526</td>\n",
              "      <td>0.00000</td>\n",
              "      <td>0.55342</td>\n",
              "      <td>0.46603</td>\n",
              "      <td>0.000000</td>\n",
              "      <td>0.0000</td>\n",
              "      <td>0.003528</td>\n",
              "      <td>0.00000</td>\n",
              "      <td>0.0</td>\n",
              "      <td>0.49692</td>\n",
              "      <td>0.18403</td>\n",
              "      <td>0.0000</td>\n",
              "      <td>0.39905</td>\n",
              "      <td>0.59798</td>\n",
              "      <td>0.96267</td>\n",
              "      <td>0.0000</td>\n",
              "      <td>1.19440</td>\n",
              "      <td>0.16481</td>\n",
              "      <td>0.66010</td>\n",
              "      <td>0.0</td>\n",
              "      <td>...</td>\n",
              "      <td>0.031535</td>\n",
              "      <td>0.022017</td>\n",
              "      <td>0.012663</td>\n",
              "      <td>0.022578</td>\n",
              "      <td>0.028834</td>\n",
              "      <td>0.027053</td>\n",
              "      <td>0.014175</td>\n",
              "      <td>0.003631</td>\n",
              "      <td>0.016840</td>\n",
              "      <td>0.025665</td>\n",
              "      <td>0.005014</td>\n",
              "      <td>0.002510</td>\n",
              "      <td>0.018211</td>\n",
              "      <td>0.029064</td>\n",
              "      <td>0.006209</td>\n",
              "      <td>0.010019</td>\n",
              "      <td>0.016031</td>\n",
              "      <td>0.023201</td>\n",
              "      <td>0.007252</td>\n",
              "      <td>0.011563</td>\n",
              "      <td>0.037755</td>\n",
              "      <td>0.029861</td>\n",
              "      <td>0.005622</td>\n",
              "      <td>0.002741</td>\n",
              "      <td>0.019477</td>\n",
              "      <td>0.021964</td>\n",
              "      <td>0.004842</td>\n",
              "      <td>0.001397</td>\n",
              "      <td>0.013861</td>\n",
              "      <td>0.021931</td>\n",
              "      <td>0.005746</td>\n",
              "      <td>0.007854</td>\n",
              "      <td>0.020796</td>\n",
              "      <td>0.039895</td>\n",
              "      <td>0.006463</td>\n",
              "      <td>0.008838</td>\n",
              "      <td>0.042023</td>\n",
              "      <td>0.045477</td>\n",
              "      <td>0.006091</td>\n",
              "      <td>0</td>\n",
              "    </tr>\n",
              "    <tr>\n",
              "      <th>4</th>\n",
              "      <td>0.59358</td>\n",
              "      <td>0.00000</td>\n",
              "      <td>0.00000</td>\n",
              "      <td>0.00000</td>\n",
              "      <td>0.00000</td>\n",
              "      <td>0.00000</td>\n",
              "      <td>0.00000</td>\n",
              "      <td>0.69931</td>\n",
              "      <td>0.0000</td>\n",
              "      <td>0.89240</td>\n",
              "      <td>0.37683</td>\n",
              "      <td>1.22810</td>\n",
              "      <td>0.86470</td>\n",
              "      <td>0.045856</td>\n",
              "      <td>0.00000</td>\n",
              "      <td>0.0000</td>\n",
              "      <td>0.00000</td>\n",
              "      <td>0.587140</td>\n",
              "      <td>0.0000</td>\n",
              "      <td>0.000000</td>\n",
              "      <td>0.00000</td>\n",
              "      <td>0.24957</td>\n",
              "      <td>0.00000</td>\n",
              "      <td>0.00000</td>\n",
              "      <td>0.216290</td>\n",
              "      <td>0.0000</td>\n",
              "      <td>0.713450</td>\n",
              "      <td>0.42922</td>\n",
              "      <td>0.0</td>\n",
              "      <td>0.00000</td>\n",
              "      <td>0.87437</td>\n",
              "      <td>0.0000</td>\n",
              "      <td>0.30495</td>\n",
              "      <td>0.00000</td>\n",
              "      <td>0.00000</td>\n",
              "      <td>0.0000</td>\n",
              "      <td>0.00000</td>\n",
              "      <td>1.71300</td>\n",
              "      <td>0.00000</td>\n",
              "      <td>0.0</td>\n",
              "      <td>...</td>\n",
              "      <td>0.047665</td>\n",
              "      <td>0.050777</td>\n",
              "      <td>0.083101</td>\n",
              "      <td>0.067032</td>\n",
              "      <td>0.057620</td>\n",
              "      <td>0.049326</td>\n",
              "      <td>0.042877</td>\n",
              "      <td>0.032275</td>\n",
              "      <td>0.031641</td>\n",
              "      <td>0.031658</td>\n",
              "      <td>0.026700</td>\n",
              "      <td>0.037861</td>\n",
              "      <td>0.041324</td>\n",
              "      <td>0.021998</td>\n",
              "      <td>0.018935</td>\n",
              "      <td>0.056127</td>\n",
              "      <td>0.050249</td>\n",
              "      <td>0.047804</td>\n",
              "      <td>0.080956</td>\n",
              "      <td>0.053136</td>\n",
              "      <td>0.051407</td>\n",
              "      <td>0.039121</td>\n",
              "      <td>0.042495</td>\n",
              "      <td>0.037705</td>\n",
              "      <td>0.034538</td>\n",
              "      <td>0.045489</td>\n",
              "      <td>0.028306</td>\n",
              "      <td>0.057239</td>\n",
              "      <td>0.046565</td>\n",
              "      <td>0.019960</td>\n",
              "      <td>0.021584</td>\n",
              "      <td>0.047490</td>\n",
              "      <td>0.054562</td>\n",
              "      <td>0.070832</td>\n",
              "      <td>0.078561</td>\n",
              "      <td>0.042256</td>\n",
              "      <td>0.048848</td>\n",
              "      <td>0.037105</td>\n",
              "      <td>0.037641</td>\n",
              "      <td>1</td>\n",
              "    </tr>\n",
              "    <tr>\n",
              "      <th>5</th>\n",
              "      <td>0.23735</td>\n",
              "      <td>0.00000</td>\n",
              "      <td>0.73587</td>\n",
              "      <td>0.35587</td>\n",
              "      <td>0.43856</td>\n",
              "      <td>0.00000</td>\n",
              "      <td>0.24112</td>\n",
              "      <td>0.00000</td>\n",
              "      <td>0.0000</td>\n",
              "      <td>0.00000</td>\n",
              "      <td>0.45833</td>\n",
              "      <td>0.27384</td>\n",
              "      <td>0.97601</td>\n",
              "      <td>0.000000</td>\n",
              "      <td>0.21408</td>\n",
              "      <td>0.0000</td>\n",
              "      <td>0.71919</td>\n",
              "      <td>0.616810</td>\n",
              "      <td>1.0536</td>\n",
              "      <td>1.289900</td>\n",
              "      <td>0.34861</td>\n",
              "      <td>0.34225</td>\n",
              "      <td>0.00000</td>\n",
              "      <td>0.00000</td>\n",
              "      <td>0.063612</td>\n",
              "      <td>1.2808</td>\n",
              "      <td>0.263000</td>\n",
              "      <td>0.42312</td>\n",
              "      <td>0.0</td>\n",
              "      <td>0.00000</td>\n",
              "      <td>0.14492</td>\n",
              "      <td>1.0053</td>\n",
              "      <td>0.50708</td>\n",
              "      <td>0.00000</td>\n",
              "      <td>0.00000</td>\n",
              "      <td>0.0000</td>\n",
              "      <td>0.00000</td>\n",
              "      <td>0.74880</td>\n",
              "      <td>0.87239</td>\n",
              "      <td>0.0</td>\n",
              "      <td>...</td>\n",
              "      <td>0.035683</td>\n",
              "      <td>0.040531</td>\n",
              "      <td>0.035493</td>\n",
              "      <td>0.023656</td>\n",
              "      <td>0.024188</td>\n",
              "      <td>0.019805</td>\n",
              "      <td>0.039100</td>\n",
              "      <td>0.006821</td>\n",
              "      <td>0.006670</td>\n",
              "      <td>0.035505</td>\n",
              "      <td>0.035298</td>\n",
              "      <td>0.015639</td>\n",
              "      <td>0.048585</td>\n",
              "      <td>0.067922</td>\n",
              "      <td>0.035657</td>\n",
              "      <td>0.015600</td>\n",
              "      <td>0.038519</td>\n",
              "      <td>0.035251</td>\n",
              "      <td>0.018100</td>\n",
              "      <td>0.015398</td>\n",
              "      <td>0.023604</td>\n",
              "      <td>0.011847</td>\n",
              "      <td>0.015496</td>\n",
              "      <td>0.009357</td>\n",
              "      <td>0.009917</td>\n",
              "      <td>0.028758</td>\n",
              "      <td>0.033971</td>\n",
              "      <td>0.023702</td>\n",
              "      <td>0.042252</td>\n",
              "      <td>0.060336</td>\n",
              "      <td>0.043678</td>\n",
              "      <td>0.024218</td>\n",
              "      <td>0.034314</td>\n",
              "      <td>0.029837</td>\n",
              "      <td>0.019462</td>\n",
              "      <td>0.026771</td>\n",
              "      <td>0.033140</td>\n",
              "      <td>0.037345</td>\n",
              "      <td>0.016000</td>\n",
              "      <td>1</td>\n",
              "    </tr>\n",
              "  </tbody>\n",
              "</table>\n",
              "<p>5 rows × 4609 columns</p>\n",
              "</div>"
            ],
            "text/plain": [
              "       CNNs   CNNs.1   CNNs.2  ...  GIST.510  GIST.511  prediction\n",
              "ID                             ...                                \n",
              "1   2.40260  0.55496  0.00000  ...  0.048746  0.037217           0\n",
              "2   0.00000  0.90992  0.00000  ...  0.027539  0.024225           0\n",
              "3   0.00000  0.15810  0.00000  ...  0.045477  0.006091           0\n",
              "4   0.59358  0.00000  0.00000  ...  0.037105  0.037641           1\n",
              "5   0.23735  0.00000  0.73587  ...  0.037345  0.016000           1\n",
              "\n",
              "[5 rows x 4609 columns]"
            ]
          },
          "metadata": {
            "tags": []
          }
        }
      ]
    },
    {
      "cell_type": "markdown",
      "metadata": {
        "id": "xmnCTYrmbwaq"
      },
      "source": [
        "## Additional Training Data"
      ]
    },
    {
      "cell_type": "code",
      "metadata": {
        "colab": {
          "base_uri": "https://localhost:8080/",
          "height": 283
        },
        "id": "HC57gp--bwar",
        "outputId": "b5404b84-d8c7-4f76-ff82-958408b1f3a6"
      },
      "source": [
        "add_training= pd.read_csv('/content/drive/My Drive/i-wish-i-was-there/additional_training.csv', index_col=0)\n",
        "display(add_training.head()) # this will be used to avoid overfitting, since the training data is small in contrast of the testing data."
      ],
      "execution_count": null,
      "outputs": [
        {
          "output_type": "display_data",
          "data": {
            "text/html": [
              "<div>\n",
              "<style scoped>\n",
              "    .dataframe tbody tr th:only-of-type {\n",
              "        vertical-align: middle;\n",
              "    }\n",
              "\n",
              "    .dataframe tbody tr th {\n",
              "        vertical-align: top;\n",
              "    }\n",
              "\n",
              "    .dataframe thead th {\n",
              "        text-align: right;\n",
              "    }\n",
              "</style>\n",
              "<table border=\"1\" class=\"dataframe\">\n",
              "  <thead>\n",
              "    <tr style=\"text-align: right;\">\n",
              "      <th></th>\n",
              "      <th>CNNs</th>\n",
              "      <th>CNNs.1</th>\n",
              "      <th>CNNs.2</th>\n",
              "      <th>CNNs.3</th>\n",
              "      <th>CNNs.4</th>\n",
              "      <th>CNNs.5</th>\n",
              "      <th>CNNs.6</th>\n",
              "      <th>CNNs.7</th>\n",
              "      <th>CNNs.8</th>\n",
              "      <th>CNNs.9</th>\n",
              "      <th>CNNs.10</th>\n",
              "      <th>CNNs.11</th>\n",
              "      <th>CNNs.12</th>\n",
              "      <th>CNNs.13</th>\n",
              "      <th>CNNs.14</th>\n",
              "      <th>CNNs.15</th>\n",
              "      <th>CNNs.16</th>\n",
              "      <th>CNNs.17</th>\n",
              "      <th>CNNs.18</th>\n",
              "      <th>CNNs.19</th>\n",
              "      <th>CNNs.20</th>\n",
              "      <th>CNNs.21</th>\n",
              "      <th>CNNs.22</th>\n",
              "      <th>CNNs.23</th>\n",
              "      <th>CNNs.24</th>\n",
              "      <th>CNNs.25</th>\n",
              "      <th>CNNs.26</th>\n",
              "      <th>CNNs.27</th>\n",
              "      <th>CNNs.28</th>\n",
              "      <th>CNNs.29</th>\n",
              "      <th>CNNs.30</th>\n",
              "      <th>CNNs.31</th>\n",
              "      <th>CNNs.32</th>\n",
              "      <th>CNNs.33</th>\n",
              "      <th>CNNs.34</th>\n",
              "      <th>CNNs.35</th>\n",
              "      <th>CNNs.36</th>\n",
              "      <th>CNNs.37</th>\n",
              "      <th>CNNs.38</th>\n",
              "      <th>CNNs.39</th>\n",
              "      <th>...</th>\n",
              "      <th>GIST.473</th>\n",
              "      <th>GIST.474</th>\n",
              "      <th>GIST.475</th>\n",
              "      <th>GIST.476</th>\n",
              "      <th>GIST.477</th>\n",
              "      <th>GIST.478</th>\n",
              "      <th>GIST.479</th>\n",
              "      <th>GIST.480</th>\n",
              "      <th>GIST.481</th>\n",
              "      <th>GIST.482</th>\n",
              "      <th>GIST.483</th>\n",
              "      <th>GIST.484</th>\n",
              "      <th>GIST.485</th>\n",
              "      <th>GIST.486</th>\n",
              "      <th>GIST.487</th>\n",
              "      <th>GIST.488</th>\n",
              "      <th>GIST.489</th>\n",
              "      <th>GIST.490</th>\n",
              "      <th>GIST.491</th>\n",
              "      <th>GIST.492</th>\n",
              "      <th>GIST.493</th>\n",
              "      <th>GIST.494</th>\n",
              "      <th>GIST.495</th>\n",
              "      <th>GIST.496</th>\n",
              "      <th>GIST.497</th>\n",
              "      <th>GIST.498</th>\n",
              "      <th>GIST.499</th>\n",
              "      <th>GIST.500</th>\n",
              "      <th>GIST.501</th>\n",
              "      <th>GIST.502</th>\n",
              "      <th>GIST.503</th>\n",
              "      <th>GIST.504</th>\n",
              "      <th>GIST.505</th>\n",
              "      <th>GIST.506</th>\n",
              "      <th>GIST.507</th>\n",
              "      <th>GIST.508</th>\n",
              "      <th>GIST.509</th>\n",
              "      <th>GIST.510</th>\n",
              "      <th>GIST.511</th>\n",
              "      <th>prediction</th>\n",
              "    </tr>\n",
              "    <tr>\n",
              "      <th>ID</th>\n",
              "      <th></th>\n",
              "      <th></th>\n",
              "      <th></th>\n",
              "      <th></th>\n",
              "      <th></th>\n",
              "      <th></th>\n",
              "      <th></th>\n",
              "      <th></th>\n",
              "      <th></th>\n",
              "      <th></th>\n",
              "      <th></th>\n",
              "      <th></th>\n",
              "      <th></th>\n",
              "      <th></th>\n",
              "      <th></th>\n",
              "      <th></th>\n",
              "      <th></th>\n",
              "      <th></th>\n",
              "      <th></th>\n",
              "      <th></th>\n",
              "      <th></th>\n",
              "      <th></th>\n",
              "      <th></th>\n",
              "      <th></th>\n",
              "      <th></th>\n",
              "      <th></th>\n",
              "      <th></th>\n",
              "      <th></th>\n",
              "      <th></th>\n",
              "      <th></th>\n",
              "      <th></th>\n",
              "      <th></th>\n",
              "      <th></th>\n",
              "      <th></th>\n",
              "      <th></th>\n",
              "      <th></th>\n",
              "      <th></th>\n",
              "      <th></th>\n",
              "      <th></th>\n",
              "      <th></th>\n",
              "      <th></th>\n",
              "      <th></th>\n",
              "      <th></th>\n",
              "      <th></th>\n",
              "      <th></th>\n",
              "      <th></th>\n",
              "      <th></th>\n",
              "      <th></th>\n",
              "      <th></th>\n",
              "      <th></th>\n",
              "      <th></th>\n",
              "      <th></th>\n",
              "      <th></th>\n",
              "      <th></th>\n",
              "      <th></th>\n",
              "      <th></th>\n",
              "      <th></th>\n",
              "      <th></th>\n",
              "      <th></th>\n",
              "      <th></th>\n",
              "      <th></th>\n",
              "      <th></th>\n",
              "      <th></th>\n",
              "      <th></th>\n",
              "      <th></th>\n",
              "      <th></th>\n",
              "      <th></th>\n",
              "      <th></th>\n",
              "      <th></th>\n",
              "      <th></th>\n",
              "      <th></th>\n",
              "      <th></th>\n",
              "      <th></th>\n",
              "      <th></th>\n",
              "      <th></th>\n",
              "      <th></th>\n",
              "      <th></th>\n",
              "      <th></th>\n",
              "      <th></th>\n",
              "      <th></th>\n",
              "      <th></th>\n",
              "    </tr>\n",
              "  </thead>\n",
              "  <tbody>\n",
              "    <tr>\n",
              "      <th>658</th>\n",
              "      <td>0.00000</td>\n",
              "      <td>NaN</td>\n",
              "      <td>0.41863</td>\n",
              "      <td>0.00000</td>\n",
              "      <td>0.00000</td>\n",
              "      <td>NaN</td>\n",
              "      <td>0.12438</td>\n",
              "      <td>NaN</td>\n",
              "      <td>0.000000</td>\n",
              "      <td>0.68888</td>\n",
              "      <td>NaN</td>\n",
              "      <td>0.0</td>\n",
              "      <td>0.71353</td>\n",
              "      <td>0.00000</td>\n",
              "      <td>0.000000</td>\n",
              "      <td>0.00000</td>\n",
              "      <td>0.0</td>\n",
              "      <td>NaN</td>\n",
              "      <td>0.00000</td>\n",
              "      <td>0.0</td>\n",
              "      <td>0.00000</td>\n",
              "      <td>NaN</td>\n",
              "      <td>NaN</td>\n",
              "      <td>0.00000</td>\n",
              "      <td>NaN</td>\n",
              "      <td>NaN</td>\n",
              "      <td>0.57015</td>\n",
              "      <td>0.00000</td>\n",
              "      <td>NaN</td>\n",
              "      <td>0.00000</td>\n",
              "      <td>1.35230</td>\n",
              "      <td>0.00000</td>\n",
              "      <td>0.84572</td>\n",
              "      <td>NaN</td>\n",
              "      <td>0.00000</td>\n",
              "      <td>NaN</td>\n",
              "      <td>0.00000</td>\n",
              "      <td>1.316000</td>\n",
              "      <td>0.44880</td>\n",
              "      <td>0.24464</td>\n",
              "      <td>...</td>\n",
              "      <td>0.035700</td>\n",
              "      <td>0.033757</td>\n",
              "      <td>0.031359</td>\n",
              "      <td>0.059247</td>\n",
              "      <td>0.028116</td>\n",
              "      <td>0.044654</td>\n",
              "      <td>0.051071</td>\n",
              "      <td>NaN</td>\n",
              "      <td>0.046216</td>\n",
              "      <td>0.038831</td>\n",
              "      <td>NaN</td>\n",
              "      <td>0.037963</td>\n",
              "      <td>0.030655</td>\n",
              "      <td>NaN</td>\n",
              "      <td>0.009499</td>\n",
              "      <td>0.032448</td>\n",
              "      <td>NaN</td>\n",
              "      <td>NaN</td>\n",
              "      <td>0.028928</td>\n",
              "      <td>0.034068</td>\n",
              "      <td>0.037195</td>\n",
              "      <td>0.034413</td>\n",
              "      <td>0.079324</td>\n",
              "      <td>0.059083</td>\n",
              "      <td>0.048781</td>\n",
              "      <td>0.054679</td>\n",
              "      <td>0.025365</td>\n",
              "      <td>0.047336</td>\n",
              "      <td>0.035528</td>\n",
              "      <td>0.028680</td>\n",
              "      <td>NaN</td>\n",
              "      <td>0.087799</td>\n",
              "      <td>0.061104</td>\n",
              "      <td>NaN</td>\n",
              "      <td>0.028010</td>\n",
              "      <td>0.051542</td>\n",
              "      <td>0.057333</td>\n",
              "      <td>NaN</td>\n",
              "      <td>0.044703</td>\n",
              "      <td>1</td>\n",
              "    </tr>\n",
              "    <tr>\n",
              "      <th>659</th>\n",
              "      <td>0.27222</td>\n",
              "      <td>NaN</td>\n",
              "      <td>0.00000</td>\n",
              "      <td>0.93038</td>\n",
              "      <td>NaN</td>\n",
              "      <td>0.158220</td>\n",
              "      <td>0.29652</td>\n",
              "      <td>0.19514</td>\n",
              "      <td>0.356350</td>\n",
              "      <td>0.21324</td>\n",
              "      <td>0.00000</td>\n",
              "      <td>NaN</td>\n",
              "      <td>0.29368</td>\n",
              "      <td>0.35764</td>\n",
              "      <td>0.150550</td>\n",
              "      <td>0.82513</td>\n",
              "      <td>0.0</td>\n",
              "      <td>0.0000</td>\n",
              "      <td>0.00000</td>\n",
              "      <td>0.0</td>\n",
              "      <td>0.20489</td>\n",
              "      <td>NaN</td>\n",
              "      <td>NaN</td>\n",
              "      <td>NaN</td>\n",
              "      <td>0.095959</td>\n",
              "      <td>0.43119</td>\n",
              "      <td>0.22146</td>\n",
              "      <td>0.87171</td>\n",
              "      <td>1.0597</td>\n",
              "      <td>0.20487</td>\n",
              "      <td>0.77554</td>\n",
              "      <td>0.00000</td>\n",
              "      <td>0.48946</td>\n",
              "      <td>0.40433</td>\n",
              "      <td>1.04040</td>\n",
              "      <td>0.00000</td>\n",
              "      <td>0.15814</td>\n",
              "      <td>NaN</td>\n",
              "      <td>0.45721</td>\n",
              "      <td>0.32999</td>\n",
              "      <td>...</td>\n",
              "      <td>0.030537</td>\n",
              "      <td>0.036549</td>\n",
              "      <td>0.023467</td>\n",
              "      <td>0.009264</td>\n",
              "      <td>0.028296</td>\n",
              "      <td>0.043426</td>\n",
              "      <td>0.021837</td>\n",
              "      <td>0.020836</td>\n",
              "      <td>0.034026</td>\n",
              "      <td>0.029781</td>\n",
              "      <td>0.027791</td>\n",
              "      <td>0.013536</td>\n",
              "      <td>0.031982</td>\n",
              "      <td>0.026266</td>\n",
              "      <td>0.018281</td>\n",
              "      <td>0.011811</td>\n",
              "      <td>0.036143</td>\n",
              "      <td>0.025352</td>\n",
              "      <td>NaN</td>\n",
              "      <td>0.005332</td>\n",
              "      <td>0.023537</td>\n",
              "      <td>0.031165</td>\n",
              "      <td>0.018000</td>\n",
              "      <td>NaN</td>\n",
              "      <td>NaN</td>\n",
              "      <td>0.038609</td>\n",
              "      <td>0.037750</td>\n",
              "      <td>NaN</td>\n",
              "      <td>0.044788</td>\n",
              "      <td>0.040338</td>\n",
              "      <td>0.020110</td>\n",
              "      <td>0.010861</td>\n",
              "      <td>0.024534</td>\n",
              "      <td>0.040640</td>\n",
              "      <td>NaN</td>\n",
              "      <td>0.008024</td>\n",
              "      <td>0.028368</td>\n",
              "      <td>0.029981</td>\n",
              "      <td>NaN</td>\n",
              "      <td>0</td>\n",
              "    </tr>\n",
              "    <tr>\n",
              "      <th>660</th>\n",
              "      <td>0.00000</td>\n",
              "      <td>0.00000</td>\n",
              "      <td>0.00000</td>\n",
              "      <td>0.00000</td>\n",
              "      <td>NaN</td>\n",
              "      <td>NaN</td>\n",
              "      <td>0.00000</td>\n",
              "      <td>NaN</td>\n",
              "      <td>0.000000</td>\n",
              "      <td>1.07600</td>\n",
              "      <td>0.00000</td>\n",
              "      <td>0.0</td>\n",
              "      <td>0.00000</td>\n",
              "      <td>0.00000</td>\n",
              "      <td>0.000000</td>\n",
              "      <td>0.00000</td>\n",
              "      <td>0.0</td>\n",
              "      <td>NaN</td>\n",
              "      <td>0.00000</td>\n",
              "      <td>NaN</td>\n",
              "      <td>0.00000</td>\n",
              "      <td>0.00000</td>\n",
              "      <td>0.0</td>\n",
              "      <td>0.00000</td>\n",
              "      <td>0.000000</td>\n",
              "      <td>NaN</td>\n",
              "      <td>0.00000</td>\n",
              "      <td>0.00000</td>\n",
              "      <td>0.0000</td>\n",
              "      <td>0.00000</td>\n",
              "      <td>0.39440</td>\n",
              "      <td>0.00000</td>\n",
              "      <td>0.00000</td>\n",
              "      <td>1.08680</td>\n",
              "      <td>0.00000</td>\n",
              "      <td>0.00000</td>\n",
              "      <td>0.00000</td>\n",
              "      <td>0.060293</td>\n",
              "      <td>0.00000</td>\n",
              "      <td>NaN</td>\n",
              "      <td>...</td>\n",
              "      <td>0.034388</td>\n",
              "      <td>0.110440</td>\n",
              "      <td>0.049893</td>\n",
              "      <td>0.013368</td>\n",
              "      <td>0.038908</td>\n",
              "      <td>0.117030</td>\n",
              "      <td>NaN</td>\n",
              "      <td>0.023124</td>\n",
              "      <td>0.016796</td>\n",
              "      <td>0.024777</td>\n",
              "      <td>NaN</td>\n",
              "      <td>0.018898</td>\n",
              "      <td>0.015576</td>\n",
              "      <td>0.027476</td>\n",
              "      <td>0.060586</td>\n",
              "      <td>0.016207</td>\n",
              "      <td>0.018905</td>\n",
              "      <td>0.034271</td>\n",
              "      <td>0.045857</td>\n",
              "      <td>0.011654</td>\n",
              "      <td>0.026197</td>\n",
              "      <td>0.066750</td>\n",
              "      <td>0.052484</td>\n",
              "      <td>0.023777</td>\n",
              "      <td>0.019527</td>\n",
              "      <td>0.026790</td>\n",
              "      <td>0.033263</td>\n",
              "      <td>0.020991</td>\n",
              "      <td>0.031885</td>\n",
              "      <td>0.044624</td>\n",
              "      <td>0.067460</td>\n",
              "      <td>0.015855</td>\n",
              "      <td>0.018296</td>\n",
              "      <td>0.031740</td>\n",
              "      <td>0.028493</td>\n",
              "      <td>0.015583</td>\n",
              "      <td>NaN</td>\n",
              "      <td>NaN</td>\n",
              "      <td>NaN</td>\n",
              "      <td>0</td>\n",
              "    </tr>\n",
              "    <tr>\n",
              "      <th>661</th>\n",
              "      <td>0.00000</td>\n",
              "      <td>0.82940</td>\n",
              "      <td>0.00000</td>\n",
              "      <td>0.19344</td>\n",
              "      <td>0.00000</td>\n",
              "      <td>0.032355</td>\n",
              "      <td>NaN</td>\n",
              "      <td>0.00000</td>\n",
              "      <td>0.000000</td>\n",
              "      <td>0.00000</td>\n",
              "      <td>NaN</td>\n",
              "      <td>NaN</td>\n",
              "      <td>1.36130</td>\n",
              "      <td>0.00000</td>\n",
              "      <td>0.000000</td>\n",
              "      <td>0.00000</td>\n",
              "      <td>0.0</td>\n",
              "      <td>NaN</td>\n",
              "      <td>0.43372</td>\n",
              "      <td>NaN</td>\n",
              "      <td>0.12214</td>\n",
              "      <td>0.83573</td>\n",
              "      <td>0.0</td>\n",
              "      <td>0.00000</td>\n",
              "      <td>0.127040</td>\n",
              "      <td>NaN</td>\n",
              "      <td>NaN</td>\n",
              "      <td>0.00000</td>\n",
              "      <td>0.0000</td>\n",
              "      <td>NaN</td>\n",
              "      <td>0.00000</td>\n",
              "      <td>0.00000</td>\n",
              "      <td>NaN</td>\n",
              "      <td>0.00000</td>\n",
              "      <td>0.17656</td>\n",
              "      <td>0.16395</td>\n",
              "      <td>0.00000</td>\n",
              "      <td>0.551520</td>\n",
              "      <td>0.00000</td>\n",
              "      <td>0.00000</td>\n",
              "      <td>...</td>\n",
              "      <td>0.036348</td>\n",
              "      <td>0.029316</td>\n",
              "      <td>0.034934</td>\n",
              "      <td>0.045452</td>\n",
              "      <td>0.028769</td>\n",
              "      <td>0.033891</td>\n",
              "      <td>0.032211</td>\n",
              "      <td>0.029590</td>\n",
              "      <td>0.026316</td>\n",
              "      <td>NaN</td>\n",
              "      <td>0.023857</td>\n",
              "      <td>0.023840</td>\n",
              "      <td>0.025854</td>\n",
              "      <td>0.020405</td>\n",
              "      <td>0.030424</td>\n",
              "      <td>0.026011</td>\n",
              "      <td>0.021430</td>\n",
              "      <td>0.020387</td>\n",
              "      <td>0.029892</td>\n",
              "      <td>0.038464</td>\n",
              "      <td>0.029906</td>\n",
              "      <td>0.032651</td>\n",
              "      <td>0.028507</td>\n",
              "      <td>NaN</td>\n",
              "      <td>0.033580</td>\n",
              "      <td>0.028450</td>\n",
              "      <td>0.023398</td>\n",
              "      <td>0.030599</td>\n",
              "      <td>0.037857</td>\n",
              "      <td>0.026378</td>\n",
              "      <td>NaN</td>\n",
              "      <td>0.052799</td>\n",
              "      <td>NaN</td>\n",
              "      <td>NaN</td>\n",
              "      <td>NaN</td>\n",
              "      <td>0.038504</td>\n",
              "      <td>0.023370</td>\n",
              "      <td>0.043654</td>\n",
              "      <td>NaN</td>\n",
              "      <td>1</td>\n",
              "    </tr>\n",
              "    <tr>\n",
              "      <th>662</th>\n",
              "      <td>0.00000</td>\n",
              "      <td>0.47187</td>\n",
              "      <td>0.00000</td>\n",
              "      <td>0.00000</td>\n",
              "      <td>0.11894</td>\n",
              "      <td>0.833820</td>\n",
              "      <td>0.46096</td>\n",
              "      <td>NaN</td>\n",
              "      <td>0.033822</td>\n",
              "      <td>0.38619</td>\n",
              "      <td>0.21665</td>\n",
              "      <td>NaN</td>\n",
              "      <td>0.00000</td>\n",
              "      <td>0.16379</td>\n",
              "      <td>0.012392</td>\n",
              "      <td>1.39500</td>\n",
              "      <td>NaN</td>\n",
              "      <td>0.7199</td>\n",
              "      <td>0.76991</td>\n",
              "      <td>0.0</td>\n",
              "      <td>0.00000</td>\n",
              "      <td>0.00000</td>\n",
              "      <td>0.0</td>\n",
              "      <td>0.23463</td>\n",
              "      <td>0.016028</td>\n",
              "      <td>0.25635</td>\n",
              "      <td>NaN</td>\n",
              "      <td>0.88457</td>\n",
              "      <td>NaN</td>\n",
              "      <td>0.28074</td>\n",
              "      <td>0.00000</td>\n",
              "      <td>0.60443</td>\n",
              "      <td>0.61369</td>\n",
              "      <td>0.28007</td>\n",
              "      <td>0.00000</td>\n",
              "      <td>0.58969</td>\n",
              "      <td>NaN</td>\n",
              "      <td>0.057092</td>\n",
              "      <td>0.26069</td>\n",
              "      <td>0.00000</td>\n",
              "      <td>...</td>\n",
              "      <td>0.015808</td>\n",
              "      <td>0.024818</td>\n",
              "      <td>0.019898</td>\n",
              "      <td>0.006164</td>\n",
              "      <td>NaN</td>\n",
              "      <td>0.025414</td>\n",
              "      <td>NaN</td>\n",
              "      <td>0.001561</td>\n",
              "      <td>0.010275</td>\n",
              "      <td>0.021210</td>\n",
              "      <td>NaN</td>\n",
              "      <td>0.001125</td>\n",
              "      <td>0.016428</td>\n",
              "      <td>0.050335</td>\n",
              "      <td>0.012882</td>\n",
              "      <td>0.001095</td>\n",
              "      <td>0.018589</td>\n",
              "      <td>0.024786</td>\n",
              "      <td>0.009992</td>\n",
              "      <td>0.001874</td>\n",
              "      <td>NaN</td>\n",
              "      <td>NaN</td>\n",
              "      <td>0.015531</td>\n",
              "      <td>0.003421</td>\n",
              "      <td>NaN</td>\n",
              "      <td>0.024309</td>\n",
              "      <td>0.013281</td>\n",
              "      <td>0.001570</td>\n",
              "      <td>0.027010</td>\n",
              "      <td>0.029435</td>\n",
              "      <td>0.009978</td>\n",
              "      <td>0.001321</td>\n",
              "      <td>0.027350</td>\n",
              "      <td>0.033939</td>\n",
              "      <td>NaN</td>\n",
              "      <td>NaN</td>\n",
              "      <td>0.014153</td>\n",
              "      <td>0.043224</td>\n",
              "      <td>0.014016</td>\n",
              "      <td>1</td>\n",
              "    </tr>\n",
              "  </tbody>\n",
              "</table>\n",
              "<p>5 rows × 4609 columns</p>\n",
              "</div>"
            ],
            "text/plain": [
              "        CNNs   CNNs.1   CNNs.2  ...  GIST.510  GIST.511  prediction\n",
              "ID                              ...                                \n",
              "658  0.00000      NaN  0.41863  ...       NaN  0.044703           1\n",
              "659  0.27222      NaN  0.00000  ...  0.029981       NaN           0\n",
              "660  0.00000  0.00000  0.00000  ...       NaN       NaN           0\n",
              "661  0.00000  0.82940  0.00000  ...  0.043654       NaN           1\n",
              "662  0.00000  0.47187  0.00000  ...  0.043224  0.014016           1\n",
              "\n",
              "[5 rows x 4609 columns]"
            ]
          },
          "metadata": {
            "tags": []
          }
        }
      ]
    },
    {
      "cell_type": "markdown",
      "metadata": {
        "id": "dmdHnZ8Rbwas"
      },
      "source": [
        "## Annotation Confidence "
      ]
    },
    {
      "cell_type": "code",
      "metadata": {
        "colab": {
          "base_uri": "https://localhost:8080/",
          "height": 234
        },
        "id": "Nffd5Rt2bwas",
        "outputId": "16531bf8-645e-4d7d-fc38-f3bce112ea30"
      },
      "source": [
        "confidence= pd.read_csv('/content/drive/My Drive/i-wish-i-was-there/annotation_confidence.csv', index_col=0)\n",
        "display(confidence.head())  "
      ],
      "execution_count": null,
      "outputs": [
        {
          "output_type": "display_data",
          "data": {
            "text/html": [
              "<div>\n",
              "<style scoped>\n",
              "    .dataframe tbody tr th:only-of-type {\n",
              "        vertical-align: middle;\n",
              "    }\n",
              "\n",
              "    .dataframe tbody tr th {\n",
              "        vertical-align: top;\n",
              "    }\n",
              "\n",
              "    .dataframe thead th {\n",
              "        text-align: right;\n",
              "    }\n",
              "</style>\n",
              "<table border=\"1\" class=\"dataframe\">\n",
              "  <thead>\n",
              "    <tr style=\"text-align: right;\">\n",
              "      <th></th>\n",
              "      <th>confidence</th>\n",
              "    </tr>\n",
              "    <tr>\n",
              "      <th>ID</th>\n",
              "      <th></th>\n",
              "    </tr>\n",
              "  </thead>\n",
              "  <tbody>\n",
              "    <tr>\n",
              "      <th>1</th>\n",
              "      <td>0.66</td>\n",
              "    </tr>\n",
              "    <tr>\n",
              "      <th>2</th>\n",
              "      <td>0.66</td>\n",
              "    </tr>\n",
              "    <tr>\n",
              "      <th>3</th>\n",
              "      <td>1.00</td>\n",
              "    </tr>\n",
              "    <tr>\n",
              "      <th>4</th>\n",
              "      <td>1.00</td>\n",
              "    </tr>\n",
              "    <tr>\n",
              "      <th>5</th>\n",
              "      <td>0.66</td>\n",
              "    </tr>\n",
              "  </tbody>\n",
              "</table>\n",
              "</div>"
            ],
            "text/plain": [
              "    confidence\n",
              "ID            \n",
              "1         0.66\n",
              "2         0.66\n",
              "3         1.00\n",
              "4         1.00\n",
              "5         0.66"
            ]
          },
          "metadata": {
            "tags": []
          }
        }
      ]
    },
    {
      "cell_type": "markdown",
      "metadata": {
        "id": "GCuDWv40bwat"
      },
      "source": [
        "## Testing Data"
      ]
    },
    {
      "cell_type": "code",
      "metadata": {
        "colab": {
          "base_uri": "https://localhost:8080/",
          "height": 283
        },
        "id": "i3KwbpImbwat",
        "outputId": "d41f32ba-6818-4250-99cf-9d5d0f6fb31a"
      },
      "source": [
        "testing = pd.read_csv('/content/drive/My Drive/i-wish-i-was-there/testing.csv',index_col=0)\n",
        "display(testing.head())"
      ],
      "execution_count": null,
      "outputs": [
        {
          "output_type": "display_data",
          "data": {
            "text/html": [
              "<div>\n",
              "<style scoped>\n",
              "    .dataframe tbody tr th:only-of-type {\n",
              "        vertical-align: middle;\n",
              "    }\n",
              "\n",
              "    .dataframe tbody tr th {\n",
              "        vertical-align: top;\n",
              "    }\n",
              "\n",
              "    .dataframe thead th {\n",
              "        text-align: right;\n",
              "    }\n",
              "</style>\n",
              "<table border=\"1\" class=\"dataframe\">\n",
              "  <thead>\n",
              "    <tr style=\"text-align: right;\">\n",
              "      <th></th>\n",
              "      <th>CNNs</th>\n",
              "      <th>CNNs.1</th>\n",
              "      <th>CNNs.2</th>\n",
              "      <th>CNNs.3</th>\n",
              "      <th>CNNs.4</th>\n",
              "      <th>CNNs.5</th>\n",
              "      <th>CNNs.6</th>\n",
              "      <th>CNNs.7</th>\n",
              "      <th>CNNs.8</th>\n",
              "      <th>CNNs.9</th>\n",
              "      <th>CNNs.10</th>\n",
              "      <th>CNNs.11</th>\n",
              "      <th>CNNs.12</th>\n",
              "      <th>CNNs.13</th>\n",
              "      <th>CNNs.14</th>\n",
              "      <th>CNNs.15</th>\n",
              "      <th>CNNs.16</th>\n",
              "      <th>CNNs.17</th>\n",
              "      <th>CNNs.18</th>\n",
              "      <th>CNNs.19</th>\n",
              "      <th>CNNs.20</th>\n",
              "      <th>CNNs.21</th>\n",
              "      <th>CNNs.22</th>\n",
              "      <th>CNNs.23</th>\n",
              "      <th>CNNs.24</th>\n",
              "      <th>CNNs.25</th>\n",
              "      <th>CNNs.26</th>\n",
              "      <th>CNNs.27</th>\n",
              "      <th>CNNs.28</th>\n",
              "      <th>CNNs.29</th>\n",
              "      <th>CNNs.30</th>\n",
              "      <th>CNNs.31</th>\n",
              "      <th>CNNs.32</th>\n",
              "      <th>CNNs.33</th>\n",
              "      <th>CNNs.34</th>\n",
              "      <th>CNNs.35</th>\n",
              "      <th>CNNs.36</th>\n",
              "      <th>CNNs.37</th>\n",
              "      <th>CNNs.38</th>\n",
              "      <th>CNNs.39</th>\n",
              "      <th>...</th>\n",
              "      <th>GIST.472</th>\n",
              "      <th>GIST.473</th>\n",
              "      <th>GIST.474</th>\n",
              "      <th>GIST.475</th>\n",
              "      <th>GIST.476</th>\n",
              "      <th>GIST.477</th>\n",
              "      <th>GIST.478</th>\n",
              "      <th>GIST.479</th>\n",
              "      <th>GIST.480</th>\n",
              "      <th>GIST.481</th>\n",
              "      <th>GIST.482</th>\n",
              "      <th>GIST.483</th>\n",
              "      <th>GIST.484</th>\n",
              "      <th>GIST.485</th>\n",
              "      <th>GIST.486</th>\n",
              "      <th>GIST.487</th>\n",
              "      <th>GIST.488</th>\n",
              "      <th>GIST.489</th>\n",
              "      <th>GIST.490</th>\n",
              "      <th>GIST.491</th>\n",
              "      <th>GIST.492</th>\n",
              "      <th>GIST.493</th>\n",
              "      <th>GIST.494</th>\n",
              "      <th>GIST.495</th>\n",
              "      <th>GIST.496</th>\n",
              "      <th>GIST.497</th>\n",
              "      <th>GIST.498</th>\n",
              "      <th>GIST.499</th>\n",
              "      <th>GIST.500</th>\n",
              "      <th>GIST.501</th>\n",
              "      <th>GIST.502</th>\n",
              "      <th>GIST.503</th>\n",
              "      <th>GIST.504</th>\n",
              "      <th>GIST.505</th>\n",
              "      <th>GIST.506</th>\n",
              "      <th>GIST.507</th>\n",
              "      <th>GIST.508</th>\n",
              "      <th>GIST.509</th>\n",
              "      <th>GIST.510</th>\n",
              "      <th>GIST.511</th>\n",
              "    </tr>\n",
              "    <tr>\n",
              "      <th>ID</th>\n",
              "      <th></th>\n",
              "      <th></th>\n",
              "      <th></th>\n",
              "      <th></th>\n",
              "      <th></th>\n",
              "      <th></th>\n",
              "      <th></th>\n",
              "      <th></th>\n",
              "      <th></th>\n",
              "      <th></th>\n",
              "      <th></th>\n",
              "      <th></th>\n",
              "      <th></th>\n",
              "      <th></th>\n",
              "      <th></th>\n",
              "      <th></th>\n",
              "      <th></th>\n",
              "      <th></th>\n",
              "      <th></th>\n",
              "      <th></th>\n",
              "      <th></th>\n",
              "      <th></th>\n",
              "      <th></th>\n",
              "      <th></th>\n",
              "      <th></th>\n",
              "      <th></th>\n",
              "      <th></th>\n",
              "      <th></th>\n",
              "      <th></th>\n",
              "      <th></th>\n",
              "      <th></th>\n",
              "      <th></th>\n",
              "      <th></th>\n",
              "      <th></th>\n",
              "      <th></th>\n",
              "      <th></th>\n",
              "      <th></th>\n",
              "      <th></th>\n",
              "      <th></th>\n",
              "      <th></th>\n",
              "      <th></th>\n",
              "      <th></th>\n",
              "      <th></th>\n",
              "      <th></th>\n",
              "      <th></th>\n",
              "      <th></th>\n",
              "      <th></th>\n",
              "      <th></th>\n",
              "      <th></th>\n",
              "      <th></th>\n",
              "      <th></th>\n",
              "      <th></th>\n",
              "      <th></th>\n",
              "      <th></th>\n",
              "      <th></th>\n",
              "      <th></th>\n",
              "      <th></th>\n",
              "      <th></th>\n",
              "      <th></th>\n",
              "      <th></th>\n",
              "      <th></th>\n",
              "      <th></th>\n",
              "      <th></th>\n",
              "      <th></th>\n",
              "      <th></th>\n",
              "      <th></th>\n",
              "      <th></th>\n",
              "      <th></th>\n",
              "      <th></th>\n",
              "      <th></th>\n",
              "      <th></th>\n",
              "      <th></th>\n",
              "      <th></th>\n",
              "      <th></th>\n",
              "      <th></th>\n",
              "      <th></th>\n",
              "      <th></th>\n",
              "      <th></th>\n",
              "      <th></th>\n",
              "      <th></th>\n",
              "      <th></th>\n",
              "    </tr>\n",
              "  </thead>\n",
              "  <tbody>\n",
              "    <tr>\n",
              "      <th>1</th>\n",
              "      <td>0.00000</td>\n",
              "      <td>0.0</td>\n",
              "      <td>0.0</td>\n",
              "      <td>0.0</td>\n",
              "      <td>0.0</td>\n",
              "      <td>0.00000</td>\n",
              "      <td>0.0000</td>\n",
              "      <td>0.00000</td>\n",
              "      <td>0.0000</td>\n",
              "      <td>0.75877</td>\n",
              "      <td>0.0</td>\n",
              "      <td>0.96192</td>\n",
              "      <td>0.0000</td>\n",
              "      <td>0.00000</td>\n",
              "      <td>1.4687</td>\n",
              "      <td>0.00000</td>\n",
              "      <td>0.00000</td>\n",
              "      <td>0.00000</td>\n",
              "      <td>0.00000</td>\n",
              "      <td>1.0713</td>\n",
              "      <td>0.00000</td>\n",
              "      <td>0.00000</td>\n",
              "      <td>0.000000</td>\n",
              "      <td>0.0000</td>\n",
              "      <td>0.000000</td>\n",
              "      <td>0.0</td>\n",
              "      <td>2.5652</td>\n",
              "      <td>0.00000</td>\n",
              "      <td>0.00000</td>\n",
              "      <td>0.0</td>\n",
              "      <td>0.00000</td>\n",
              "      <td>0.0</td>\n",
              "      <td>0.00000</td>\n",
              "      <td>0.64541</td>\n",
              "      <td>0.0</td>\n",
              "      <td>0.00000</td>\n",
              "      <td>0.00000</td>\n",
              "      <td>0.00000</td>\n",
              "      <td>1.8378</td>\n",
              "      <td>0.00000</td>\n",
              "      <td>...</td>\n",
              "      <td>0.044285</td>\n",
              "      <td>0.053786</td>\n",
              "      <td>0.046604</td>\n",
              "      <td>0.030163</td>\n",
              "      <td>0.065479</td>\n",
              "      <td>0.094596</td>\n",
              "      <td>0.068552</td>\n",
              "      <td>0.040858</td>\n",
              "      <td>0.016034</td>\n",
              "      <td>0.047529</td>\n",
              "      <td>0.028239</td>\n",
              "      <td>0.023256</td>\n",
              "      <td>0.006061</td>\n",
              "      <td>0.036052</td>\n",
              "      <td>0.028640</td>\n",
              "      <td>0.008907</td>\n",
              "      <td>0.012366</td>\n",
              "      <td>0.041522</td>\n",
              "      <td>0.032790</td>\n",
              "      <td>0.006975</td>\n",
              "      <td>0.016121</td>\n",
              "      <td>0.048321</td>\n",
              "      <td>0.036664</td>\n",
              "      <td>0.009728</td>\n",
              "      <td>0.013215</td>\n",
              "      <td>0.053181</td>\n",
              "      <td>0.020583</td>\n",
              "      <td>0.031436</td>\n",
              "      <td>0.003628</td>\n",
              "      <td>0.049370</td>\n",
              "      <td>0.029087</td>\n",
              "      <td>0.014856</td>\n",
              "      <td>0.008578</td>\n",
              "      <td>0.067175</td>\n",
              "      <td>0.027362</td>\n",
              "      <td>0.007432</td>\n",
              "      <td>0.007648</td>\n",
              "      <td>0.054333</td>\n",
              "      <td>0.025815</td>\n",
              "      <td>0.012043</td>\n",
              "    </tr>\n",
              "    <tr>\n",
              "      <th>2</th>\n",
              "      <td>0.37858</td>\n",
              "      <td>0.0</td>\n",
              "      <td>0.0</td>\n",
              "      <td>0.0</td>\n",
              "      <td>0.0</td>\n",
              "      <td>0.00000</td>\n",
              "      <td>0.1369</td>\n",
              "      <td>0.00000</td>\n",
              "      <td>0.6918</td>\n",
              "      <td>0.14247</td>\n",
              "      <td>0.0</td>\n",
              "      <td>1.30800</td>\n",
              "      <td>1.2396</td>\n",
              "      <td>0.84935</td>\n",
              "      <td>0.0000</td>\n",
              "      <td>0.00000</td>\n",
              "      <td>0.04752</td>\n",
              "      <td>0.00000</td>\n",
              "      <td>0.00000</td>\n",
              "      <td>0.0000</td>\n",
              "      <td>0.10758</td>\n",
              "      <td>0.00000</td>\n",
              "      <td>0.053884</td>\n",
              "      <td>0.0000</td>\n",
              "      <td>0.000000</td>\n",
              "      <td>0.0</td>\n",
              "      <td>2.4657</td>\n",
              "      <td>0.00000</td>\n",
              "      <td>0.00000</td>\n",
              "      <td>0.0</td>\n",
              "      <td>0.58239</td>\n",
              "      <td>0.0</td>\n",
              "      <td>1.07300</td>\n",
              "      <td>0.22478</td>\n",
              "      <td>0.0</td>\n",
              "      <td>0.00000</td>\n",
              "      <td>0.00000</td>\n",
              "      <td>1.21980</td>\n",
              "      <td>0.0000</td>\n",
              "      <td>0.59855</td>\n",
              "      <td>...</td>\n",
              "      <td>0.029931</td>\n",
              "      <td>0.043737</td>\n",
              "      <td>0.064317</td>\n",
              "      <td>0.042764</td>\n",
              "      <td>0.046151</td>\n",
              "      <td>0.039685</td>\n",
              "      <td>0.030180</td>\n",
              "      <td>0.044499</td>\n",
              "      <td>0.034822</td>\n",
              "      <td>0.045036</td>\n",
              "      <td>0.035329</td>\n",
              "      <td>0.012042</td>\n",
              "      <td>0.044775</td>\n",
              "      <td>0.045340</td>\n",
              "      <td>0.055853</td>\n",
              "      <td>0.019137</td>\n",
              "      <td>0.017512</td>\n",
              "      <td>0.042870</td>\n",
              "      <td>0.065706</td>\n",
              "      <td>0.038566</td>\n",
              "      <td>0.029534</td>\n",
              "      <td>0.040313</td>\n",
              "      <td>0.030891</td>\n",
              "      <td>0.032992</td>\n",
              "      <td>0.056467</td>\n",
              "      <td>0.047358</td>\n",
              "      <td>0.028065</td>\n",
              "      <td>0.026726</td>\n",
              "      <td>0.051068</td>\n",
              "      <td>0.035405</td>\n",
              "      <td>0.034856</td>\n",
              "      <td>0.023554</td>\n",
              "      <td>0.054514</td>\n",
              "      <td>0.051730</td>\n",
              "      <td>0.030697</td>\n",
              "      <td>0.051644</td>\n",
              "      <td>0.050385</td>\n",
              "      <td>0.047501</td>\n",
              "      <td>0.040084</td>\n",
              "      <td>0.052093</td>\n",
              "    </tr>\n",
              "    <tr>\n",
              "      <th>3</th>\n",
              "      <td>0.00000</td>\n",
              "      <td>0.0</td>\n",
              "      <td>0.0</td>\n",
              "      <td>0.0</td>\n",
              "      <td>0.0</td>\n",
              "      <td>0.00000</td>\n",
              "      <td>1.3273</td>\n",
              "      <td>0.00000</td>\n",
              "      <td>0.0000</td>\n",
              "      <td>0.24238</td>\n",
              "      <td>0.0</td>\n",
              "      <td>0.00000</td>\n",
              "      <td>0.0000</td>\n",
              "      <td>0.00000</td>\n",
              "      <td>0.0000</td>\n",
              "      <td>0.30774</td>\n",
              "      <td>0.67734</td>\n",
              "      <td>0.00000</td>\n",
              "      <td>0.00000</td>\n",
              "      <td>0.0000</td>\n",
              "      <td>1.16450</td>\n",
              "      <td>0.77752</td>\n",
              "      <td>0.000000</td>\n",
              "      <td>1.8054</td>\n",
              "      <td>0.000000</td>\n",
              "      <td>0.0</td>\n",
              "      <td>0.0000</td>\n",
              "      <td>0.78831</td>\n",
              "      <td>0.47570</td>\n",
              "      <td>0.0</td>\n",
              "      <td>0.73393</td>\n",
              "      <td>0.0</td>\n",
              "      <td>0.62519</td>\n",
              "      <td>0.31958</td>\n",
              "      <td>0.0</td>\n",
              "      <td>0.25044</td>\n",
              "      <td>0.99058</td>\n",
              "      <td>0.00000</td>\n",
              "      <td>0.0000</td>\n",
              "      <td>0.00000</td>\n",
              "      <td>...</td>\n",
              "      <td>0.025619</td>\n",
              "      <td>0.023797</td>\n",
              "      <td>0.020000</td>\n",
              "      <td>0.017930</td>\n",
              "      <td>0.023976</td>\n",
              "      <td>0.030699</td>\n",
              "      <td>0.028096</td>\n",
              "      <td>0.013844</td>\n",
              "      <td>0.018119</td>\n",
              "      <td>0.019528</td>\n",
              "      <td>0.021907</td>\n",
              "      <td>0.014236</td>\n",
              "      <td>0.015713</td>\n",
              "      <td>0.016008</td>\n",
              "      <td>0.031801</td>\n",
              "      <td>0.027488</td>\n",
              "      <td>0.019247</td>\n",
              "      <td>0.017277</td>\n",
              "      <td>0.021710</td>\n",
              "      <td>0.016982</td>\n",
              "      <td>0.016002</td>\n",
              "      <td>0.020326</td>\n",
              "      <td>0.015942</td>\n",
              "      <td>0.011194</td>\n",
              "      <td>0.034646</td>\n",
              "      <td>0.024279</td>\n",
              "      <td>0.037311</td>\n",
              "      <td>0.018159</td>\n",
              "      <td>0.031568</td>\n",
              "      <td>0.026786</td>\n",
              "      <td>0.037900</td>\n",
              "      <td>0.026738</td>\n",
              "      <td>0.036373</td>\n",
              "      <td>0.025566</td>\n",
              "      <td>0.030701</td>\n",
              "      <td>0.017613</td>\n",
              "      <td>0.040271</td>\n",
              "      <td>0.025716</td>\n",
              "      <td>0.019017</td>\n",
              "      <td>0.014863</td>\n",
              "    </tr>\n",
              "    <tr>\n",
              "      <th>4</th>\n",
              "      <td>0.00000</td>\n",
              "      <td>0.0</td>\n",
              "      <td>0.0</td>\n",
              "      <td>0.0</td>\n",
              "      <td>0.0</td>\n",
              "      <td>0.35895</td>\n",
              "      <td>0.0000</td>\n",
              "      <td>1.85120</td>\n",
              "      <td>0.0000</td>\n",
              "      <td>0.30305</td>\n",
              "      <td>0.0</td>\n",
              "      <td>0.00000</td>\n",
              "      <td>0.0000</td>\n",
              "      <td>1.54010</td>\n",
              "      <td>0.0000</td>\n",
              "      <td>0.00000</td>\n",
              "      <td>0.00000</td>\n",
              "      <td>0.22151</td>\n",
              "      <td>0.17144</td>\n",
              "      <td>0.0000</td>\n",
              "      <td>0.00000</td>\n",
              "      <td>3.47140</td>\n",
              "      <td>0.878010</td>\n",
              "      <td>0.0000</td>\n",
              "      <td>0.000000</td>\n",
              "      <td>0.0</td>\n",
              "      <td>0.6515</td>\n",
              "      <td>0.00000</td>\n",
              "      <td>0.00000</td>\n",
              "      <td>0.0</td>\n",
              "      <td>2.60260</td>\n",
              "      <td>0.0</td>\n",
              "      <td>0.68536</td>\n",
              "      <td>0.00000</td>\n",
              "      <td>0.0</td>\n",
              "      <td>0.00000</td>\n",
              "      <td>0.00000</td>\n",
              "      <td>0.50052</td>\n",
              "      <td>0.0000</td>\n",
              "      <td>0.00000</td>\n",
              "      <td>...</td>\n",
              "      <td>0.042868</td>\n",
              "      <td>0.038730</td>\n",
              "      <td>0.078049</td>\n",
              "      <td>0.061955</td>\n",
              "      <td>0.059958</td>\n",
              "      <td>0.027223</td>\n",
              "      <td>0.035450</td>\n",
              "      <td>0.050541</td>\n",
              "      <td>0.022474</td>\n",
              "      <td>0.043058</td>\n",
              "      <td>0.021234</td>\n",
              "      <td>0.020898</td>\n",
              "      <td>0.024315</td>\n",
              "      <td>0.044882</td>\n",
              "      <td>0.033808</td>\n",
              "      <td>0.035978</td>\n",
              "      <td>0.030623</td>\n",
              "      <td>0.053783</td>\n",
              "      <td>0.040408</td>\n",
              "      <td>0.032330</td>\n",
              "      <td>0.041183</td>\n",
              "      <td>0.019812</td>\n",
              "      <td>0.017433</td>\n",
              "      <td>0.023221</td>\n",
              "      <td>0.021720</td>\n",
              "      <td>0.030462</td>\n",
              "      <td>0.021879</td>\n",
              "      <td>0.014704</td>\n",
              "      <td>0.030061</td>\n",
              "      <td>0.042936</td>\n",
              "      <td>0.035611</td>\n",
              "      <td>0.037939</td>\n",
              "      <td>0.023809</td>\n",
              "      <td>0.075968</td>\n",
              "      <td>0.041354</td>\n",
              "      <td>0.019115</td>\n",
              "      <td>0.029852</td>\n",
              "      <td>0.029376</td>\n",
              "      <td>0.023477</td>\n",
              "      <td>0.017668</td>\n",
              "    </tr>\n",
              "    <tr>\n",
              "      <th>5</th>\n",
              "      <td>0.00000</td>\n",
              "      <td>0.0</td>\n",
              "      <td>0.0</td>\n",
              "      <td>0.0</td>\n",
              "      <td>0.0</td>\n",
              "      <td>0.00000</td>\n",
              "      <td>0.8376</td>\n",
              "      <td>0.83166</td>\n",
              "      <td>0.0000</td>\n",
              "      <td>0.00000</td>\n",
              "      <td>0.0</td>\n",
              "      <td>0.00000</td>\n",
              "      <td>0.0000</td>\n",
              "      <td>0.00000</td>\n",
              "      <td>0.0000</td>\n",
              "      <td>0.70587</td>\n",
              "      <td>0.00000</td>\n",
              "      <td>0.00000</td>\n",
              "      <td>0.00000</td>\n",
              "      <td>0.0000</td>\n",
              "      <td>0.21569</td>\n",
              "      <td>0.43590</td>\n",
              "      <td>0.000000</td>\n",
              "      <td>1.5962</td>\n",
              "      <td>0.010742</td>\n",
              "      <td>0.0</td>\n",
              "      <td>0.0000</td>\n",
              "      <td>1.06420</td>\n",
              "      <td>0.61295</td>\n",
              "      <td>0.0</td>\n",
              "      <td>0.74389</td>\n",
              "      <td>0.0</td>\n",
              "      <td>0.45829</td>\n",
              "      <td>0.00000</td>\n",
              "      <td>0.0</td>\n",
              "      <td>0.80332</td>\n",
              "      <td>1.30590</td>\n",
              "      <td>0.00000</td>\n",
              "      <td>0.0000</td>\n",
              "      <td>0.00000</td>\n",
              "      <td>...</td>\n",
              "      <td>0.058674</td>\n",
              "      <td>0.015484</td>\n",
              "      <td>0.021086</td>\n",
              "      <td>0.037551</td>\n",
              "      <td>0.069649</td>\n",
              "      <td>0.025478</td>\n",
              "      <td>0.028547</td>\n",
              "      <td>0.034373</td>\n",
              "      <td>0.021797</td>\n",
              "      <td>0.017264</td>\n",
              "      <td>0.025779</td>\n",
              "      <td>0.034514</td>\n",
              "      <td>0.043667</td>\n",
              "      <td>0.029326</td>\n",
              "      <td>0.016806</td>\n",
              "      <td>0.023093</td>\n",
              "      <td>0.049063</td>\n",
              "      <td>0.014622</td>\n",
              "      <td>0.016786</td>\n",
              "      <td>0.034324</td>\n",
              "      <td>0.053918</td>\n",
              "      <td>0.015348</td>\n",
              "      <td>0.018566</td>\n",
              "      <td>0.036474</td>\n",
              "      <td>0.032714</td>\n",
              "      <td>0.021211</td>\n",
              "      <td>0.013354</td>\n",
              "      <td>0.032987</td>\n",
              "      <td>0.054350</td>\n",
              "      <td>0.039788</td>\n",
              "      <td>0.031130</td>\n",
              "      <td>0.038812</td>\n",
              "      <td>0.047654</td>\n",
              "      <td>0.025143</td>\n",
              "      <td>0.018677</td>\n",
              "      <td>0.035321</td>\n",
              "      <td>0.042059</td>\n",
              "      <td>0.019911</td>\n",
              "      <td>0.012559</td>\n",
              "      <td>0.029918</td>\n",
              "    </tr>\n",
              "  </tbody>\n",
              "</table>\n",
              "<p>5 rows × 4608 columns</p>\n",
              "</div>"
            ],
            "text/plain": [
              "       CNNs  CNNs.1  CNNs.2  CNNs.3  ...  GIST.508  GIST.509  GIST.510  GIST.511\n",
              "ID                                   ...                                        \n",
              "1   0.00000     0.0     0.0     0.0  ...  0.007648  0.054333  0.025815  0.012043\n",
              "2   0.37858     0.0     0.0     0.0  ...  0.050385  0.047501  0.040084  0.052093\n",
              "3   0.00000     0.0     0.0     0.0  ...  0.040271  0.025716  0.019017  0.014863\n",
              "4   0.00000     0.0     0.0     0.0  ...  0.029852  0.029376  0.023477  0.017668\n",
              "5   0.00000     0.0     0.0     0.0  ...  0.042059  0.019911  0.012559  0.029918\n",
              "\n",
              "[5 rows x 4608 columns]"
            ]
          },
          "metadata": {
            "tags": []
          }
        }
      ]
    },
    {
      "cell_type": "markdown",
      "metadata": {
        "id": "Q9nsNIttbwat"
      },
      "source": [
        "## Test Proportion "
      ]
    },
    {
      "cell_type": "code",
      "metadata": {
        "colab": {
          "base_uri": "https://localhost:8080/",
          "height": 93
        },
        "id": "6IlW1vJebwau",
        "outputId": "b61a9bae-0614-4b00-b8a4-685a0c316f46"
      },
      "source": [
        "test_proportions= pd.read_csv('/content/drive/My Drive/i-wish-i-was-there/test_proportions.csv', index_col=0)\n",
        "display(test_proportions.head())"
      ],
      "execution_count": null,
      "outputs": [
        {
          "output_type": "display_data",
          "data": {
            "text/html": [
              "<div>\n",
              "<style scoped>\n",
              "    .dataframe tbody tr th:only-of-type {\n",
              "        vertical-align: middle;\n",
              "    }\n",
              "\n",
              "    .dataframe tbody tr th {\n",
              "        vertical-align: top;\n",
              "    }\n",
              "\n",
              "    .dataframe thead th {\n",
              "        text-align: right;\n",
              "    }\n",
              "</style>\n",
              "<table border=\"1\" class=\"dataframe\">\n",
              "  <thead>\n",
              "    <tr style=\"text-align: right;\">\n",
              "      <th></th>\n",
              "    </tr>\n",
              "    <tr>\n",
              "      <th>0.5569 class 1</th>\n",
              "    </tr>\n",
              "  </thead>\n",
              "  <tbody>\n",
              "    <tr>\n",
              "      <th>0.4431 class 0</th>\n",
              "    </tr>\n",
              "  </tbody>\n",
              "</table>\n",
              "</div>"
            ],
            "text/plain": [
              "Empty DataFrame\n",
              "Columns: []\n",
              "Index: [0.4431 class 0]"
            ]
          },
          "metadata": {
            "tags": []
          }
        }
      ]
    },
    {
      "cell_type": "markdown",
      "metadata": {
        "id": "ITLvwr7Ubwau"
      },
      "source": [
        "## Concatanating"
      ]
    },
    {
      "cell_type": "code",
      "metadata": {
        "colab": {
          "base_uri": "https://localhost:8080/",
          "height": 468
        },
        "id": "TKCRFL2Zbwau",
        "outputId": "3033a8af-e4b1-4042-b90a-f26561d3d869"
      },
      "source": [
        "frames = [training, add_training, confidence] # making a list including the dataframe that will be merged\n",
        "first_merge = pd.concat([frames[0],frames[1]],axis=0) # merging the training + additional training data\n",
        "concat_df = pd.concat([first_merge,frames[2]],axis=1) # adding the prediction confidence of each label\n",
        "#concat_df"
      ],
      "execution_count": null,
      "outputs": [
        {
          "output_type": "execute_result",
          "data": {
            "text/html": [
              "<div>\n",
              "<style scoped>\n",
              "    .dataframe tbody tr th:only-of-type {\n",
              "        vertical-align: middle;\n",
              "    }\n",
              "\n",
              "    .dataframe tbody tr th {\n",
              "        vertical-align: top;\n",
              "    }\n",
              "\n",
              "    .dataframe thead th {\n",
              "        text-align: right;\n",
              "    }\n",
              "</style>\n",
              "<table border=\"1\" class=\"dataframe\">\n",
              "  <thead>\n",
              "    <tr style=\"text-align: right;\">\n",
              "      <th></th>\n",
              "      <th>CNNs</th>\n",
              "      <th>CNNs.1</th>\n",
              "      <th>CNNs.2</th>\n",
              "      <th>CNNs.3</th>\n",
              "      <th>CNNs.4</th>\n",
              "      <th>CNNs.5</th>\n",
              "      <th>CNNs.6</th>\n",
              "      <th>CNNs.7</th>\n",
              "      <th>CNNs.8</th>\n",
              "      <th>CNNs.9</th>\n",
              "      <th>CNNs.10</th>\n",
              "      <th>CNNs.11</th>\n",
              "      <th>CNNs.12</th>\n",
              "      <th>CNNs.13</th>\n",
              "      <th>CNNs.14</th>\n",
              "      <th>CNNs.15</th>\n",
              "      <th>CNNs.16</th>\n",
              "      <th>CNNs.17</th>\n",
              "      <th>CNNs.18</th>\n",
              "      <th>CNNs.19</th>\n",
              "      <th>CNNs.20</th>\n",
              "      <th>CNNs.21</th>\n",
              "      <th>CNNs.22</th>\n",
              "      <th>CNNs.23</th>\n",
              "      <th>CNNs.24</th>\n",
              "      <th>CNNs.25</th>\n",
              "      <th>CNNs.26</th>\n",
              "      <th>CNNs.27</th>\n",
              "      <th>CNNs.28</th>\n",
              "      <th>CNNs.29</th>\n",
              "      <th>CNNs.30</th>\n",
              "      <th>CNNs.31</th>\n",
              "      <th>CNNs.32</th>\n",
              "      <th>CNNs.33</th>\n",
              "      <th>CNNs.34</th>\n",
              "      <th>CNNs.35</th>\n",
              "      <th>CNNs.36</th>\n",
              "      <th>CNNs.37</th>\n",
              "      <th>CNNs.38</th>\n",
              "      <th>CNNs.39</th>\n",
              "      <th>...</th>\n",
              "      <th>GIST.474</th>\n",
              "      <th>GIST.475</th>\n",
              "      <th>GIST.476</th>\n",
              "      <th>GIST.477</th>\n",
              "      <th>GIST.478</th>\n",
              "      <th>GIST.479</th>\n",
              "      <th>GIST.480</th>\n",
              "      <th>GIST.481</th>\n",
              "      <th>GIST.482</th>\n",
              "      <th>GIST.483</th>\n",
              "      <th>GIST.484</th>\n",
              "      <th>GIST.485</th>\n",
              "      <th>GIST.486</th>\n",
              "      <th>GIST.487</th>\n",
              "      <th>GIST.488</th>\n",
              "      <th>GIST.489</th>\n",
              "      <th>GIST.490</th>\n",
              "      <th>GIST.491</th>\n",
              "      <th>GIST.492</th>\n",
              "      <th>GIST.493</th>\n",
              "      <th>GIST.494</th>\n",
              "      <th>GIST.495</th>\n",
              "      <th>GIST.496</th>\n",
              "      <th>GIST.497</th>\n",
              "      <th>GIST.498</th>\n",
              "      <th>GIST.499</th>\n",
              "      <th>GIST.500</th>\n",
              "      <th>GIST.501</th>\n",
              "      <th>GIST.502</th>\n",
              "      <th>GIST.503</th>\n",
              "      <th>GIST.504</th>\n",
              "      <th>GIST.505</th>\n",
              "      <th>GIST.506</th>\n",
              "      <th>GIST.507</th>\n",
              "      <th>GIST.508</th>\n",
              "      <th>GIST.509</th>\n",
              "      <th>GIST.510</th>\n",
              "      <th>GIST.511</th>\n",
              "      <th>prediction</th>\n",
              "      <th>confidence</th>\n",
              "    </tr>\n",
              "    <tr>\n",
              "      <th>ID</th>\n",
              "      <th></th>\n",
              "      <th></th>\n",
              "      <th></th>\n",
              "      <th></th>\n",
              "      <th></th>\n",
              "      <th></th>\n",
              "      <th></th>\n",
              "      <th></th>\n",
              "      <th></th>\n",
              "      <th></th>\n",
              "      <th></th>\n",
              "      <th></th>\n",
              "      <th></th>\n",
              "      <th></th>\n",
              "      <th></th>\n",
              "      <th></th>\n",
              "      <th></th>\n",
              "      <th></th>\n",
              "      <th></th>\n",
              "      <th></th>\n",
              "      <th></th>\n",
              "      <th></th>\n",
              "      <th></th>\n",
              "      <th></th>\n",
              "      <th></th>\n",
              "      <th></th>\n",
              "      <th></th>\n",
              "      <th></th>\n",
              "      <th></th>\n",
              "      <th></th>\n",
              "      <th></th>\n",
              "      <th></th>\n",
              "      <th></th>\n",
              "      <th></th>\n",
              "      <th></th>\n",
              "      <th></th>\n",
              "      <th></th>\n",
              "      <th></th>\n",
              "      <th></th>\n",
              "      <th></th>\n",
              "      <th></th>\n",
              "      <th></th>\n",
              "      <th></th>\n",
              "      <th></th>\n",
              "      <th></th>\n",
              "      <th></th>\n",
              "      <th></th>\n",
              "      <th></th>\n",
              "      <th></th>\n",
              "      <th></th>\n",
              "      <th></th>\n",
              "      <th></th>\n",
              "      <th></th>\n",
              "      <th></th>\n",
              "      <th></th>\n",
              "      <th></th>\n",
              "      <th></th>\n",
              "      <th></th>\n",
              "      <th></th>\n",
              "      <th></th>\n",
              "      <th></th>\n",
              "      <th></th>\n",
              "      <th></th>\n",
              "      <th></th>\n",
              "      <th></th>\n",
              "      <th></th>\n",
              "      <th></th>\n",
              "      <th></th>\n",
              "      <th></th>\n",
              "      <th></th>\n",
              "      <th></th>\n",
              "      <th></th>\n",
              "      <th></th>\n",
              "      <th></th>\n",
              "      <th></th>\n",
              "      <th></th>\n",
              "      <th></th>\n",
              "      <th></th>\n",
              "      <th></th>\n",
              "      <th></th>\n",
              "      <th></th>\n",
              "    </tr>\n",
              "  </thead>\n",
              "  <tbody>\n",
              "    <tr>\n",
              "      <th>1</th>\n",
              "      <td>2.402600</td>\n",
              "      <td>0.55496</td>\n",
              "      <td>0.00000</td>\n",
              "      <td>0.00000</td>\n",
              "      <td>0.00000</td>\n",
              "      <td>0.00000</td>\n",
              "      <td>0.33893</td>\n",
              "      <td>0.00000</td>\n",
              "      <td>1.31910</td>\n",
              "      <td>0.22121</td>\n",
              "      <td>0.00000</td>\n",
              "      <td>0.00000</td>\n",
              "      <td>0.00000</td>\n",
              "      <td>1.182200</td>\n",
              "      <td>0.00000</td>\n",
              "      <td>0.0000</td>\n",
              "      <td>0.00000</td>\n",
              "      <td>0.000000</td>\n",
              "      <td>0.00000</td>\n",
              "      <td>0.000000</td>\n",
              "      <td>0.00000</td>\n",
              "      <td>0.00000</td>\n",
              "      <td>0.00000</td>\n",
              "      <td>0.00000</td>\n",
              "      <td>0.574640</td>\n",
              "      <td>0.00000</td>\n",
              "      <td>0.000000</td>\n",
              "      <td>0.00000</td>\n",
              "      <td>0.00000</td>\n",
              "      <td>0.00000</td>\n",
              "      <td>0.00000</td>\n",
              "      <td>0.0000</td>\n",
              "      <td>0.00000</td>\n",
              "      <td>0.00000</td>\n",
              "      <td>0.00000</td>\n",
              "      <td>0.00000</td>\n",
              "      <td>0.00000</td>\n",
              "      <td>0.000000</td>\n",
              "      <td>0.00000</td>\n",
              "      <td>0.00000</td>\n",
              "      <td>...</td>\n",
              "      <td>0.022237</td>\n",
              "      <td>0.035813</td>\n",
              "      <td>0.025761</td>\n",
              "      <td>0.026295</td>\n",
              "      <td>0.027581</td>\n",
              "      <td>0.015342</td>\n",
              "      <td>0.026628</td>\n",
              "      <td>0.013269</td>\n",
              "      <td>0.024359</td>\n",
              "      <td>0.018712</td>\n",
              "      <td>0.024926</td>\n",
              "      <td>0.021963</td>\n",
              "      <td>0.021773</td>\n",
              "      <td>0.023568</td>\n",
              "      <td>0.019834</td>\n",
              "      <td>0.014300</td>\n",
              "      <td>0.025260</td>\n",
              "      <td>0.019607</td>\n",
              "      <td>0.027114</td>\n",
              "      <td>0.026370</td>\n",
              "      <td>0.025588</td>\n",
              "      <td>0.013442</td>\n",
              "      <td>0.037338</td>\n",
              "      <td>0.044497</td>\n",
              "      <td>0.035463</td>\n",
              "      <td>0.029618</td>\n",
              "      <td>0.021774</td>\n",
              "      <td>0.035416</td>\n",
              "      <td>0.037913</td>\n",
              "      <td>0.025488</td>\n",
              "      <td>0.021384</td>\n",
              "      <td>0.026530</td>\n",
              "      <td>0.037562</td>\n",
              "      <td>0.033369</td>\n",
              "      <td>0.030079</td>\n",
              "      <td>0.057239</td>\n",
              "      <td>0.048746</td>\n",
              "      <td>0.037217</td>\n",
              "      <td>0</td>\n",
              "      <td>0.66</td>\n",
              "    </tr>\n",
              "    <tr>\n",
              "      <th>2</th>\n",
              "      <td>0.000000</td>\n",
              "      <td>0.90992</td>\n",
              "      <td>0.00000</td>\n",
              "      <td>0.00000</td>\n",
              "      <td>0.00000</td>\n",
              "      <td>0.55614</td>\n",
              "      <td>0.17685</td>\n",
              "      <td>0.00000</td>\n",
              "      <td>0.00000</td>\n",
              "      <td>0.00000</td>\n",
              "      <td>0.00000</td>\n",
              "      <td>0.00000</td>\n",
              "      <td>0.00000</td>\n",
              "      <td>0.000000</td>\n",
              "      <td>0.70426</td>\n",
              "      <td>0.0000</td>\n",
              "      <td>0.00000</td>\n",
              "      <td>0.000000</td>\n",
              "      <td>0.00000</td>\n",
              "      <td>0.047146</td>\n",
              "      <td>0.00000</td>\n",
              "      <td>0.55651</td>\n",
              "      <td>0.00000</td>\n",
              "      <td>0.00000</td>\n",
              "      <td>1.710600</td>\n",
              "      <td>1.11070</td>\n",
              "      <td>0.000000</td>\n",
              "      <td>0.00000</td>\n",
              "      <td>0.00000</td>\n",
              "      <td>0.00000</td>\n",
              "      <td>0.00000</td>\n",
              "      <td>0.0000</td>\n",
              "      <td>0.00000</td>\n",
              "      <td>0.00000</td>\n",
              "      <td>0.00000</td>\n",
              "      <td>1.34090</td>\n",
              "      <td>0.23577</td>\n",
              "      <td>0.655430</td>\n",
              "      <td>0.34635</td>\n",
              "      <td>0.00000</td>\n",
              "      <td>...</td>\n",
              "      <td>0.028828</td>\n",
              "      <td>0.049244</td>\n",
              "      <td>0.008391</td>\n",
              "      <td>0.032814</td>\n",
              "      <td>0.021262</td>\n",
              "      <td>0.053216</td>\n",
              "      <td>0.045054</td>\n",
              "      <td>0.023659</td>\n",
              "      <td>0.016105</td>\n",
              "      <td>0.030475</td>\n",
              "      <td>0.031841</td>\n",
              "      <td>0.027860</td>\n",
              "      <td>0.039781</td>\n",
              "      <td>0.022238</td>\n",
              "      <td>0.010312</td>\n",
              "      <td>0.019339</td>\n",
              "      <td>0.015486</td>\n",
              "      <td>0.021439</td>\n",
              "      <td>0.010026</td>\n",
              "      <td>0.023999</td>\n",
              "      <td>0.017424</td>\n",
              "      <td>0.027451</td>\n",
              "      <td>0.040467</td>\n",
              "      <td>0.030169</td>\n",
              "      <td>0.035430</td>\n",
              "      <td>0.025522</td>\n",
              "      <td>0.010907</td>\n",
              "      <td>0.030225</td>\n",
              "      <td>0.037154</td>\n",
              "      <td>0.019238</td>\n",
              "      <td>0.010607</td>\n",
              "      <td>0.027920</td>\n",
              "      <td>0.024132</td>\n",
              "      <td>0.018205</td>\n",
              "      <td>0.013909</td>\n",
              "      <td>0.023270</td>\n",
              "      <td>0.027539</td>\n",
              "      <td>0.024225</td>\n",
              "      <td>0</td>\n",
              "      <td>0.66</td>\n",
              "    </tr>\n",
              "    <tr>\n",
              "      <th>3</th>\n",
              "      <td>0.000000</td>\n",
              "      <td>0.15810</td>\n",
              "      <td>0.00000</td>\n",
              "      <td>0.30995</td>\n",
              "      <td>0.00000</td>\n",
              "      <td>0.55401</td>\n",
              "      <td>0.14810</td>\n",
              "      <td>0.00000</td>\n",
              "      <td>0.86900</td>\n",
              "      <td>0.68585</td>\n",
              "      <td>0.26028</td>\n",
              "      <td>0.00000</td>\n",
              "      <td>0.16087</td>\n",
              "      <td>0.198750</td>\n",
              "      <td>0.00000</td>\n",
              "      <td>1.0874</td>\n",
              "      <td>0.65465</td>\n",
              "      <td>0.099921</td>\n",
              "      <td>0.00000</td>\n",
              "      <td>0.000000</td>\n",
              "      <td>0.28526</td>\n",
              "      <td>0.00000</td>\n",
              "      <td>0.55342</td>\n",
              "      <td>0.46603</td>\n",
              "      <td>0.000000</td>\n",
              "      <td>0.00000</td>\n",
              "      <td>0.003528</td>\n",
              "      <td>0.00000</td>\n",
              "      <td>0.00000</td>\n",
              "      <td>0.49692</td>\n",
              "      <td>0.18403</td>\n",
              "      <td>0.0000</td>\n",
              "      <td>0.39905</td>\n",
              "      <td>0.59798</td>\n",
              "      <td>0.96267</td>\n",
              "      <td>0.00000</td>\n",
              "      <td>1.19440</td>\n",
              "      <td>0.164810</td>\n",
              "      <td>0.66010</td>\n",
              "      <td>0.00000</td>\n",
              "      <td>...</td>\n",
              "      <td>0.022017</td>\n",
              "      <td>0.012663</td>\n",
              "      <td>0.022578</td>\n",
              "      <td>0.028834</td>\n",
              "      <td>0.027053</td>\n",
              "      <td>0.014175</td>\n",
              "      <td>0.003631</td>\n",
              "      <td>0.016840</td>\n",
              "      <td>0.025665</td>\n",
              "      <td>0.005014</td>\n",
              "      <td>0.002510</td>\n",
              "      <td>0.018211</td>\n",
              "      <td>0.029064</td>\n",
              "      <td>0.006209</td>\n",
              "      <td>0.010019</td>\n",
              "      <td>0.016031</td>\n",
              "      <td>0.023201</td>\n",
              "      <td>0.007252</td>\n",
              "      <td>0.011563</td>\n",
              "      <td>0.037755</td>\n",
              "      <td>0.029861</td>\n",
              "      <td>0.005622</td>\n",
              "      <td>0.002741</td>\n",
              "      <td>0.019477</td>\n",
              "      <td>0.021964</td>\n",
              "      <td>0.004842</td>\n",
              "      <td>0.001397</td>\n",
              "      <td>0.013861</td>\n",
              "      <td>0.021931</td>\n",
              "      <td>0.005746</td>\n",
              "      <td>0.007854</td>\n",
              "      <td>0.020796</td>\n",
              "      <td>0.039895</td>\n",
              "      <td>0.006463</td>\n",
              "      <td>0.008838</td>\n",
              "      <td>0.042023</td>\n",
              "      <td>0.045477</td>\n",
              "      <td>0.006091</td>\n",
              "      <td>0</td>\n",
              "      <td>1.00</td>\n",
              "    </tr>\n",
              "    <tr>\n",
              "      <th>4</th>\n",
              "      <td>0.593580</td>\n",
              "      <td>0.00000</td>\n",
              "      <td>0.00000</td>\n",
              "      <td>0.00000</td>\n",
              "      <td>0.00000</td>\n",
              "      <td>0.00000</td>\n",
              "      <td>0.00000</td>\n",
              "      <td>0.69931</td>\n",
              "      <td>0.00000</td>\n",
              "      <td>0.89240</td>\n",
              "      <td>0.37683</td>\n",
              "      <td>1.22810</td>\n",
              "      <td>0.86470</td>\n",
              "      <td>0.045856</td>\n",
              "      <td>0.00000</td>\n",
              "      <td>0.0000</td>\n",
              "      <td>0.00000</td>\n",
              "      <td>0.587140</td>\n",
              "      <td>0.00000</td>\n",
              "      <td>0.000000</td>\n",
              "      <td>0.00000</td>\n",
              "      <td>0.24957</td>\n",
              "      <td>0.00000</td>\n",
              "      <td>0.00000</td>\n",
              "      <td>0.216290</td>\n",
              "      <td>0.00000</td>\n",
              "      <td>0.713450</td>\n",
              "      <td>0.42922</td>\n",
              "      <td>0.00000</td>\n",
              "      <td>0.00000</td>\n",
              "      <td>0.87437</td>\n",
              "      <td>0.0000</td>\n",
              "      <td>0.30495</td>\n",
              "      <td>0.00000</td>\n",
              "      <td>0.00000</td>\n",
              "      <td>0.00000</td>\n",
              "      <td>0.00000</td>\n",
              "      <td>1.713000</td>\n",
              "      <td>0.00000</td>\n",
              "      <td>0.00000</td>\n",
              "      <td>...</td>\n",
              "      <td>0.050777</td>\n",
              "      <td>0.083101</td>\n",
              "      <td>0.067032</td>\n",
              "      <td>0.057620</td>\n",
              "      <td>0.049326</td>\n",
              "      <td>0.042877</td>\n",
              "      <td>0.032275</td>\n",
              "      <td>0.031641</td>\n",
              "      <td>0.031658</td>\n",
              "      <td>0.026700</td>\n",
              "      <td>0.037861</td>\n",
              "      <td>0.041324</td>\n",
              "      <td>0.021998</td>\n",
              "      <td>0.018935</td>\n",
              "      <td>0.056127</td>\n",
              "      <td>0.050249</td>\n",
              "      <td>0.047804</td>\n",
              "      <td>0.080956</td>\n",
              "      <td>0.053136</td>\n",
              "      <td>0.051407</td>\n",
              "      <td>0.039121</td>\n",
              "      <td>0.042495</td>\n",
              "      <td>0.037705</td>\n",
              "      <td>0.034538</td>\n",
              "      <td>0.045489</td>\n",
              "      <td>0.028306</td>\n",
              "      <td>0.057239</td>\n",
              "      <td>0.046565</td>\n",
              "      <td>0.019960</td>\n",
              "      <td>0.021584</td>\n",
              "      <td>0.047490</td>\n",
              "      <td>0.054562</td>\n",
              "      <td>0.070832</td>\n",
              "      <td>0.078561</td>\n",
              "      <td>0.042256</td>\n",
              "      <td>0.048848</td>\n",
              "      <td>0.037105</td>\n",
              "      <td>0.037641</td>\n",
              "      <td>1</td>\n",
              "      <td>1.00</td>\n",
              "    </tr>\n",
              "    <tr>\n",
              "      <th>5</th>\n",
              "      <td>0.237350</td>\n",
              "      <td>0.00000</td>\n",
              "      <td>0.73587</td>\n",
              "      <td>0.35587</td>\n",
              "      <td>0.43856</td>\n",
              "      <td>0.00000</td>\n",
              "      <td>0.24112</td>\n",
              "      <td>0.00000</td>\n",
              "      <td>0.00000</td>\n",
              "      <td>0.00000</td>\n",
              "      <td>0.45833</td>\n",
              "      <td>0.27384</td>\n",
              "      <td>0.97601</td>\n",
              "      <td>0.000000</td>\n",
              "      <td>0.21408</td>\n",
              "      <td>0.0000</td>\n",
              "      <td>0.71919</td>\n",
              "      <td>0.616810</td>\n",
              "      <td>1.05360</td>\n",
              "      <td>1.289900</td>\n",
              "      <td>0.34861</td>\n",
              "      <td>0.34225</td>\n",
              "      <td>0.00000</td>\n",
              "      <td>0.00000</td>\n",
              "      <td>0.063612</td>\n",
              "      <td>1.28080</td>\n",
              "      <td>0.263000</td>\n",
              "      <td>0.42312</td>\n",
              "      <td>0.00000</td>\n",
              "      <td>0.00000</td>\n",
              "      <td>0.14492</td>\n",
              "      <td>1.0053</td>\n",
              "      <td>0.50708</td>\n",
              "      <td>0.00000</td>\n",
              "      <td>0.00000</td>\n",
              "      <td>0.00000</td>\n",
              "      <td>0.00000</td>\n",
              "      <td>0.748800</td>\n",
              "      <td>0.87239</td>\n",
              "      <td>0.00000</td>\n",
              "      <td>...</td>\n",
              "      <td>0.040531</td>\n",
              "      <td>0.035493</td>\n",
              "      <td>0.023656</td>\n",
              "      <td>0.024188</td>\n",
              "      <td>0.019805</td>\n",
              "      <td>0.039100</td>\n",
              "      <td>0.006821</td>\n",
              "      <td>0.006670</td>\n",
              "      <td>0.035505</td>\n",
              "      <td>0.035298</td>\n",
              "      <td>0.015639</td>\n",
              "      <td>0.048585</td>\n",
              "      <td>0.067922</td>\n",
              "      <td>0.035657</td>\n",
              "      <td>0.015600</td>\n",
              "      <td>0.038519</td>\n",
              "      <td>0.035251</td>\n",
              "      <td>0.018100</td>\n",
              "      <td>0.015398</td>\n",
              "      <td>0.023604</td>\n",
              "      <td>0.011847</td>\n",
              "      <td>0.015496</td>\n",
              "      <td>0.009357</td>\n",
              "      <td>0.009917</td>\n",
              "      <td>0.028758</td>\n",
              "      <td>0.033971</td>\n",
              "      <td>0.023702</td>\n",
              "      <td>0.042252</td>\n",
              "      <td>0.060336</td>\n",
              "      <td>0.043678</td>\n",
              "      <td>0.024218</td>\n",
              "      <td>0.034314</td>\n",
              "      <td>0.029837</td>\n",
              "      <td>0.019462</td>\n",
              "      <td>0.026771</td>\n",
              "      <td>0.033140</td>\n",
              "      <td>0.037345</td>\n",
              "      <td>0.016000</td>\n",
              "      <td>1</td>\n",
              "      <td>0.66</td>\n",
              "    </tr>\n",
              "    <tr>\n",
              "      <th>...</th>\n",
              "      <td>...</td>\n",
              "      <td>...</td>\n",
              "      <td>...</td>\n",
              "      <td>...</td>\n",
              "      <td>...</td>\n",
              "      <td>...</td>\n",
              "      <td>...</td>\n",
              "      <td>...</td>\n",
              "      <td>...</td>\n",
              "      <td>...</td>\n",
              "      <td>...</td>\n",
              "      <td>...</td>\n",
              "      <td>...</td>\n",
              "      <td>...</td>\n",
              "      <td>...</td>\n",
              "      <td>...</td>\n",
              "      <td>...</td>\n",
              "      <td>...</td>\n",
              "      <td>...</td>\n",
              "      <td>...</td>\n",
              "      <td>...</td>\n",
              "      <td>...</td>\n",
              "      <td>...</td>\n",
              "      <td>...</td>\n",
              "      <td>...</td>\n",
              "      <td>...</td>\n",
              "      <td>...</td>\n",
              "      <td>...</td>\n",
              "      <td>...</td>\n",
              "      <td>...</td>\n",
              "      <td>...</td>\n",
              "      <td>...</td>\n",
              "      <td>...</td>\n",
              "      <td>...</td>\n",
              "      <td>...</td>\n",
              "      <td>...</td>\n",
              "      <td>...</td>\n",
              "      <td>...</td>\n",
              "      <td>...</td>\n",
              "      <td>...</td>\n",
              "      <td>...</td>\n",
              "      <td>...</td>\n",
              "      <td>...</td>\n",
              "      <td>...</td>\n",
              "      <td>...</td>\n",
              "      <td>...</td>\n",
              "      <td>...</td>\n",
              "      <td>...</td>\n",
              "      <td>...</td>\n",
              "      <td>...</td>\n",
              "      <td>...</td>\n",
              "      <td>...</td>\n",
              "      <td>...</td>\n",
              "      <td>...</td>\n",
              "      <td>...</td>\n",
              "      <td>...</td>\n",
              "      <td>...</td>\n",
              "      <td>...</td>\n",
              "      <td>...</td>\n",
              "      <td>...</td>\n",
              "      <td>...</td>\n",
              "      <td>...</td>\n",
              "      <td>...</td>\n",
              "      <td>...</td>\n",
              "      <td>...</td>\n",
              "      <td>...</td>\n",
              "      <td>...</td>\n",
              "      <td>...</td>\n",
              "      <td>...</td>\n",
              "      <td>...</td>\n",
              "      <td>...</td>\n",
              "      <td>...</td>\n",
              "      <td>...</td>\n",
              "      <td>...</td>\n",
              "      <td>...</td>\n",
              "      <td>...</td>\n",
              "      <td>...</td>\n",
              "      <td>...</td>\n",
              "      <td>...</td>\n",
              "      <td>...</td>\n",
              "      <td>...</td>\n",
              "    </tr>\n",
              "    <tr>\n",
              "      <th>6562</th>\n",
              "      <td>NaN</td>\n",
              "      <td>0.00000</td>\n",
              "      <td>NaN</td>\n",
              "      <td>0.00000</td>\n",
              "      <td>0.11657</td>\n",
              "      <td>0.53783</td>\n",
              "      <td>0.00000</td>\n",
              "      <td>1.74740</td>\n",
              "      <td>0.28231</td>\n",
              "      <td>0.00000</td>\n",
              "      <td>0.00000</td>\n",
              "      <td>0.00000</td>\n",
              "      <td>0.00000</td>\n",
              "      <td>0.000000</td>\n",
              "      <td>0.00000</td>\n",
              "      <td>0.0000</td>\n",
              "      <td>0.79255</td>\n",
              "      <td>0.000000</td>\n",
              "      <td>NaN</td>\n",
              "      <td>0.000000</td>\n",
              "      <td>1.11700</td>\n",
              "      <td>0.00000</td>\n",
              "      <td>0.00000</td>\n",
              "      <td>2.48020</td>\n",
              "      <td>0.000000</td>\n",
              "      <td>0.00000</td>\n",
              "      <td>0.000000</td>\n",
              "      <td>0.28863</td>\n",
              "      <td>0.00000</td>\n",
              "      <td>0.00000</td>\n",
              "      <td>0.00000</td>\n",
              "      <td>NaN</td>\n",
              "      <td>0.17489</td>\n",
              "      <td>NaN</td>\n",
              "      <td>NaN</td>\n",
              "      <td>NaN</td>\n",
              "      <td>0.00000</td>\n",
              "      <td>0.000000</td>\n",
              "      <td>0.00000</td>\n",
              "      <td>0.00000</td>\n",
              "      <td>...</td>\n",
              "      <td>0.015679</td>\n",
              "      <td>0.024855</td>\n",
              "      <td>0.037560</td>\n",
              "      <td>NaN</td>\n",
              "      <td>0.021071</td>\n",
              "      <td>0.023114</td>\n",
              "      <td>0.012261</td>\n",
              "      <td>0.010302</td>\n",
              "      <td>0.017105</td>\n",
              "      <td>0.019555</td>\n",
              "      <td>0.005449</td>\n",
              "      <td>0.020214</td>\n",
              "      <td>NaN</td>\n",
              "      <td>NaN</td>\n",
              "      <td>0.027264</td>\n",
              "      <td>0.055576</td>\n",
              "      <td>0.009526</td>\n",
              "      <td>0.010098</td>\n",
              "      <td>0.017420</td>\n",
              "      <td>NaN</td>\n",
              "      <td>0.016500</td>\n",
              "      <td>NaN</td>\n",
              "      <td>0.006978</td>\n",
              "      <td>0.007871</td>\n",
              "      <td>0.011630</td>\n",
              "      <td>0.011858</td>\n",
              "      <td>NaN</td>\n",
              "      <td>0.021370</td>\n",
              "      <td>NaN</td>\n",
              "      <td>0.010039</td>\n",
              "      <td>0.012253</td>\n",
              "      <td>0.067462</td>\n",
              "      <td>NaN</td>\n",
              "      <td>0.009213</td>\n",
              "      <td>NaN</td>\n",
              "      <td>0.010238</td>\n",
              "      <td>0.016867</td>\n",
              "      <td>0.011052</td>\n",
              "      <td>0</td>\n",
              "      <td>0.66</td>\n",
              "    </tr>\n",
              "    <tr>\n",
              "      <th>6563</th>\n",
              "      <td>0.000000</td>\n",
              "      <td>0.00000</td>\n",
              "      <td>0.00000</td>\n",
              "      <td>0.18307</td>\n",
              "      <td>0.00000</td>\n",
              "      <td>0.00000</td>\n",
              "      <td>0.00000</td>\n",
              "      <td>0.19821</td>\n",
              "      <td>1.10080</td>\n",
              "      <td>0.95324</td>\n",
              "      <td>0.00000</td>\n",
              "      <td>0.00000</td>\n",
              "      <td>0.21507</td>\n",
              "      <td>0.000000</td>\n",
              "      <td>0.00000</td>\n",
              "      <td>NaN</td>\n",
              "      <td>0.00000</td>\n",
              "      <td>0.000000</td>\n",
              "      <td>0.00000</td>\n",
              "      <td>NaN</td>\n",
              "      <td>0.00000</td>\n",
              "      <td>0.73062</td>\n",
              "      <td>0.77548</td>\n",
              "      <td>NaN</td>\n",
              "      <td>NaN</td>\n",
              "      <td>0.00000</td>\n",
              "      <td>0.933750</td>\n",
              "      <td>NaN</td>\n",
              "      <td>0.46744</td>\n",
              "      <td>0.00000</td>\n",
              "      <td>1.25390</td>\n",
              "      <td>0.0000</td>\n",
              "      <td>0.00000</td>\n",
              "      <td>0.32487</td>\n",
              "      <td>NaN</td>\n",
              "      <td>NaN</td>\n",
              "      <td>0.63646</td>\n",
              "      <td>0.093865</td>\n",
              "      <td>0.00000</td>\n",
              "      <td>0.86263</td>\n",
              "      <td>...</td>\n",
              "      <td>0.066532</td>\n",
              "      <td>0.062291</td>\n",
              "      <td>0.009328</td>\n",
              "      <td>0.038923</td>\n",
              "      <td>0.054679</td>\n",
              "      <td>0.050096</td>\n",
              "      <td>0.010045</td>\n",
              "      <td>0.030705</td>\n",
              "      <td>0.029066</td>\n",
              "      <td>0.018929</td>\n",
              "      <td>0.012384</td>\n",
              "      <td>0.017521</td>\n",
              "      <td>NaN</td>\n",
              "      <td>0.052386</td>\n",
              "      <td>0.015611</td>\n",
              "      <td>NaN</td>\n",
              "      <td>0.046037</td>\n",
              "      <td>0.068988</td>\n",
              "      <td>0.009910</td>\n",
              "      <td>0.036701</td>\n",
              "      <td>0.055257</td>\n",
              "      <td>NaN</td>\n",
              "      <td>NaN</td>\n",
              "      <td>0.052348</td>\n",
              "      <td>0.040447</td>\n",
              "      <td>0.016588</td>\n",
              "      <td>0.012765</td>\n",
              "      <td>0.022520</td>\n",
              "      <td>0.037333</td>\n",
              "      <td>0.059291</td>\n",
              "      <td>0.012357</td>\n",
              "      <td>NaN</td>\n",
              "      <td>NaN</td>\n",
              "      <td>0.027241</td>\n",
              "      <td>0.009044</td>\n",
              "      <td>0.033759</td>\n",
              "      <td>NaN</td>\n",
              "      <td>0.029251</td>\n",
              "      <td>0</td>\n",
              "      <td>1.00</td>\n",
              "    </tr>\n",
              "    <tr>\n",
              "      <th>6564</th>\n",
              "      <td>0.043741</td>\n",
              "      <td>0.61013</td>\n",
              "      <td>0.41634</td>\n",
              "      <td>NaN</td>\n",
              "      <td>NaN</td>\n",
              "      <td>NaN</td>\n",
              "      <td>NaN</td>\n",
              "      <td>0.00000</td>\n",
              "      <td>0.00000</td>\n",
              "      <td>NaN</td>\n",
              "      <td>0.00000</td>\n",
              "      <td>1.09890</td>\n",
              "      <td>0.00000</td>\n",
              "      <td>0.419490</td>\n",
              "      <td>0.61287</td>\n",
              "      <td>NaN</td>\n",
              "      <td>0.00000</td>\n",
              "      <td>0.007949</td>\n",
              "      <td>0.37715</td>\n",
              "      <td>1.352100</td>\n",
              "      <td>0.00000</td>\n",
              "      <td>1.44610</td>\n",
              "      <td>NaN</td>\n",
              "      <td>0.00000</td>\n",
              "      <td>1.144700</td>\n",
              "      <td>0.50872</td>\n",
              "      <td>0.000000</td>\n",
              "      <td>0.00000</td>\n",
              "      <td>NaN</td>\n",
              "      <td>NaN</td>\n",
              "      <td>NaN</td>\n",
              "      <td>0.0000</td>\n",
              "      <td>0.00000</td>\n",
              "      <td>0.00000</td>\n",
              "      <td>0.00000</td>\n",
              "      <td>NaN</td>\n",
              "      <td>0.00000</td>\n",
              "      <td>0.307270</td>\n",
              "      <td>0.74520</td>\n",
              "      <td>0.36928</td>\n",
              "      <td>...</td>\n",
              "      <td>0.040465</td>\n",
              "      <td>0.075196</td>\n",
              "      <td>NaN</td>\n",
              "      <td>0.031995</td>\n",
              "      <td>0.026159</td>\n",
              "      <td>NaN</td>\n",
              "      <td>NaN</td>\n",
              "      <td>0.032767</td>\n",
              "      <td>0.035352</td>\n",
              "      <td>0.030972</td>\n",
              "      <td>NaN</td>\n",
              "      <td>0.015316</td>\n",
              "      <td>0.036775</td>\n",
              "      <td>NaN</td>\n",
              "      <td>0.008840</td>\n",
              "      <td>0.014046</td>\n",
              "      <td>0.037501</td>\n",
              "      <td>0.034871</td>\n",
              "      <td>0.040707</td>\n",
              "      <td>NaN</td>\n",
              "      <td>0.022452</td>\n",
              "      <td>0.023298</td>\n",
              "      <td>NaN</td>\n",
              "      <td>0.027798</td>\n",
              "      <td>NaN</td>\n",
              "      <td>0.046774</td>\n",
              "      <td>0.004863</td>\n",
              "      <td>NaN</td>\n",
              "      <td>0.052803</td>\n",
              "      <td>0.017349</td>\n",
              "      <td>0.011248</td>\n",
              "      <td>0.013410</td>\n",
              "      <td>0.046910</td>\n",
              "      <td>NaN</td>\n",
              "      <td>0.024736</td>\n",
              "      <td>0.027197</td>\n",
              "      <td>0.057540</td>\n",
              "      <td>NaN</td>\n",
              "      <td>1</td>\n",
              "      <td>0.66</td>\n",
              "    </tr>\n",
              "    <tr>\n",
              "      <th>6565</th>\n",
              "      <td>0.000000</td>\n",
              "      <td>0.00000</td>\n",
              "      <td>NaN</td>\n",
              "      <td>0.39083</td>\n",
              "      <td>0.00000</td>\n",
              "      <td>0.68559</td>\n",
              "      <td>0.73143</td>\n",
              "      <td>0.49097</td>\n",
              "      <td>0.80788</td>\n",
              "      <td>NaN</td>\n",
              "      <td>NaN</td>\n",
              "      <td>0.00000</td>\n",
              "      <td>0.00000</td>\n",
              "      <td>0.943920</td>\n",
              "      <td>0.00000</td>\n",
              "      <td>1.0426</td>\n",
              "      <td>0.00000</td>\n",
              "      <td>0.290820</td>\n",
              "      <td>0.14671</td>\n",
              "      <td>0.000000</td>\n",
              "      <td>1.20920</td>\n",
              "      <td>NaN</td>\n",
              "      <td>1.20200</td>\n",
              "      <td>NaN</td>\n",
              "      <td>NaN</td>\n",
              "      <td>0.00000</td>\n",
              "      <td>NaN</td>\n",
              "      <td>NaN</td>\n",
              "      <td>0.87889</td>\n",
              "      <td>1.52620</td>\n",
              "      <td>1.09910</td>\n",
              "      <td>0.0000</td>\n",
              "      <td>0.76327</td>\n",
              "      <td>NaN</td>\n",
              "      <td>0.96555</td>\n",
              "      <td>0.89991</td>\n",
              "      <td>0.00000</td>\n",
              "      <td>0.933210</td>\n",
              "      <td>0.10546</td>\n",
              "      <td>NaN</td>\n",
              "      <td>...</td>\n",
              "      <td>0.011722</td>\n",
              "      <td>0.029382</td>\n",
              "      <td>NaN</td>\n",
              "      <td>0.028939</td>\n",
              "      <td>0.011230</td>\n",
              "      <td>0.033238</td>\n",
              "      <td>NaN</td>\n",
              "      <td>NaN</td>\n",
              "      <td>0.011177</td>\n",
              "      <td>NaN</td>\n",
              "      <td>0.028731</td>\n",
              "      <td>NaN</td>\n",
              "      <td>0.009127</td>\n",
              "      <td>0.010865</td>\n",
              "      <td>0.026333</td>\n",
              "      <td>NaN</td>\n",
              "      <td>0.014388</td>\n",
              "      <td>0.016095</td>\n",
              "      <td>0.018295</td>\n",
              "      <td>0.024434</td>\n",
              "      <td>NaN</td>\n",
              "      <td>0.018732</td>\n",
              "      <td>0.029027</td>\n",
              "      <td>0.073663</td>\n",
              "      <td>0.034097</td>\n",
              "      <td>0.020795</td>\n",
              "      <td>0.038967</td>\n",
              "      <td>0.019207</td>\n",
              "      <td>0.011858</td>\n",
              "      <td>0.015554</td>\n",
              "      <td>0.038869</td>\n",
              "      <td>0.012442</td>\n",
              "      <td>NaN</td>\n",
              "      <td>0.018881</td>\n",
              "      <td>0.027589</td>\n",
              "      <td>0.035372</td>\n",
              "      <td>0.017279</td>\n",
              "      <td>0.019049</td>\n",
              "      <td>1</td>\n",
              "      <td>0.66</td>\n",
              "    </tr>\n",
              "    <tr>\n",
              "      <th>6566</th>\n",
              "      <td>0.000000</td>\n",
              "      <td>0.00000</td>\n",
              "      <td>0.00000</td>\n",
              "      <td>0.00000</td>\n",
              "      <td>NaN</td>\n",
              "      <td>0.00000</td>\n",
              "      <td>0.00000</td>\n",
              "      <td>NaN</td>\n",
              "      <td>1.32280</td>\n",
              "      <td>0.00000</td>\n",
              "      <td>0.00000</td>\n",
              "      <td>0.00000</td>\n",
              "      <td>0.00000</td>\n",
              "      <td>NaN</td>\n",
              "      <td>NaN</td>\n",
              "      <td>0.0000</td>\n",
              "      <td>NaN</td>\n",
              "      <td>NaN</td>\n",
              "      <td>0.83313</td>\n",
              "      <td>0.000000</td>\n",
              "      <td>NaN</td>\n",
              "      <td>0.00000</td>\n",
              "      <td>0.00000</td>\n",
              "      <td>0.00000</td>\n",
              "      <td>0.000000</td>\n",
              "      <td>0.00000</td>\n",
              "      <td>NaN</td>\n",
              "      <td>NaN</td>\n",
              "      <td>0.00000</td>\n",
              "      <td>0.00000</td>\n",
              "      <td>0.00000</td>\n",
              "      <td>0.0000</td>\n",
              "      <td>NaN</td>\n",
              "      <td>0.00000</td>\n",
              "      <td>0.00000</td>\n",
              "      <td>0.00000</td>\n",
              "      <td>0.00000</td>\n",
              "      <td>0.000000</td>\n",
              "      <td>0.00000</td>\n",
              "      <td>0.00000</td>\n",
              "      <td>...</td>\n",
              "      <td>0.032517</td>\n",
              "      <td>0.012559</td>\n",
              "      <td>0.027410</td>\n",
              "      <td>0.024157</td>\n",
              "      <td>0.027549</td>\n",
              "      <td>0.010752</td>\n",
              "      <td>0.006771</td>\n",
              "      <td>0.013541</td>\n",
              "      <td>0.017625</td>\n",
              "      <td>0.006812</td>\n",
              "      <td>0.011319</td>\n",
              "      <td>0.025784</td>\n",
              "      <td>0.034062</td>\n",
              "      <td>0.005962</td>\n",
              "      <td>0.017330</td>\n",
              "      <td>0.037536</td>\n",
              "      <td>NaN</td>\n",
              "      <td>0.007628</td>\n",
              "      <td>0.018765</td>\n",
              "      <td>0.019060</td>\n",
              "      <td>NaN</td>\n",
              "      <td>0.007772</td>\n",
              "      <td>0.005423</td>\n",
              "      <td>0.010018</td>\n",
              "      <td>0.015106</td>\n",
              "      <td>0.004751</td>\n",
              "      <td>0.008157</td>\n",
              "      <td>0.015485</td>\n",
              "      <td>0.025912</td>\n",
              "      <td>0.005226</td>\n",
              "      <td>0.009904</td>\n",
              "      <td>NaN</td>\n",
              "      <td>NaN</td>\n",
              "      <td>0.006451</td>\n",
              "      <td>0.015178</td>\n",
              "      <td>0.017055</td>\n",
              "      <td>0.023330</td>\n",
              "      <td>0.007078</td>\n",
              "      <td>1</td>\n",
              "      <td>0.66</td>\n",
              "    </tr>\n",
              "  </tbody>\n",
              "</table>\n",
              "<p>6566 rows × 4610 columns</p>\n",
              "</div>"
            ],
            "text/plain": [
              "          CNNs   CNNs.1   CNNs.2  ...  GIST.511  prediction  confidence\n",
              "ID                                ...                                  \n",
              "1     2.402600  0.55496  0.00000  ...  0.037217           0        0.66\n",
              "2     0.000000  0.90992  0.00000  ...  0.024225           0        0.66\n",
              "3     0.000000  0.15810  0.00000  ...  0.006091           0        1.00\n",
              "4     0.593580  0.00000  0.00000  ...  0.037641           1        1.00\n",
              "5     0.237350  0.00000  0.73587  ...  0.016000           1        0.66\n",
              "...        ...      ...      ...  ...       ...         ...         ...\n",
              "6562       NaN  0.00000      NaN  ...  0.011052           0        0.66\n",
              "6563  0.000000  0.00000  0.00000  ...  0.029251           0        1.00\n",
              "6564  0.043741  0.61013  0.41634  ...       NaN           1        0.66\n",
              "6565  0.000000  0.00000      NaN  ...  0.019049           1        0.66\n",
              "6566  0.000000  0.00000  0.00000  ...  0.007078           1        0.66\n",
              "\n",
              "[6566 rows x 4610 columns]"
            ]
          },
          "metadata": {
            "tags": []
          },
          "execution_count": 8
        }
      ]
    },
    {
      "cell_type": "markdown",
      "metadata": {
        "id": "rGdGq6Z-bwav"
      },
      "source": [
        "# Data Cleaning"
      ]
    },
    {
      "cell_type": "code",
      "metadata": {
        "colab": {
          "base_uri": "https://localhost:8080/",
          "height": 468
        },
        "id": "atrVE-Qfbwav",
        "outputId": "f2c78f4f-7e9f-4a1b-b9b1-0a06ae4c4c00"
      },
      "source": [
        "#print('Train columns with null values:\\n', concat_df.isnull().sum())  # counting the NaN values of the Training Data\n",
        "#print(\"-\"*10)\n",
        "\n",
        "# Filling the Missing Values\n",
        "\n",
        "# We are gonna split the dataset as to get all the rows that predict 0 and all the rows that predict 1. Then for each column we are gonna calculate its mean value and fill the NaN values with its corresponding mean.\n",
        "\n",
        "class0 = concat_df.loc[concat_df['prediction'] == 0] # create a new data frame containing only the rows where the 'prediction' score is 0 \n",
        "#class0\n",
        "class1 = concat_df.loc[concat_df['prediction'] == 1] # create a new data frame containing only the rows where the 'prediction' score is 1\n",
        "#class1\n",
        "newclass0 = class0.fillna(class0.mean()) # replacing the NaN values with their corresponding Mean value (for the one with label 0)\n",
        "#newclass0\n",
        "newclass1 = class1.fillna(class1.mean())  # replacing the NaN values with their corresponding Mean value (for the one with label 1)\n",
        "#newclass1\n",
        "frames2 = [newclass0,newclass1] # making a list including the dataframe that will be merged\n",
        "merged = pd.concat([frames2[0],frames2[1]],axis=0) # merging the training + additional training data\n",
        "#merged\n",
        "#print('Train columns with null values:\\n', merged.isnull().sum())  # checking if all the NaN values are now filled\n",
        "#print(\"-\"*10)\n",
        "cleaned_data = merged.sort_index() # sorting the index\n",
        "#cleaned_data\n",
        "\n",
        "# All the dataset is now cleaned (i.e., no dublicate rows, rows full of zeros, rows with NaN values), \n",
        "# so it is time to move on the details of the dataset."
      ],
      "execution_count": null,
      "outputs": [
        {
          "output_type": "execute_result",
          "data": {
            "text/html": [
              "<div>\n",
              "<style scoped>\n",
              "    .dataframe tbody tr th:only-of-type {\n",
              "        vertical-align: middle;\n",
              "    }\n",
              "\n",
              "    .dataframe tbody tr th {\n",
              "        vertical-align: top;\n",
              "    }\n",
              "\n",
              "    .dataframe thead th {\n",
              "        text-align: right;\n",
              "    }\n",
              "</style>\n",
              "<table border=\"1\" class=\"dataframe\">\n",
              "  <thead>\n",
              "    <tr style=\"text-align: right;\">\n",
              "      <th></th>\n",
              "      <th>CNNs</th>\n",
              "      <th>CNNs.1</th>\n",
              "      <th>CNNs.2</th>\n",
              "      <th>CNNs.3</th>\n",
              "      <th>CNNs.4</th>\n",
              "      <th>CNNs.5</th>\n",
              "      <th>CNNs.6</th>\n",
              "      <th>CNNs.7</th>\n",
              "      <th>CNNs.8</th>\n",
              "      <th>CNNs.9</th>\n",
              "      <th>CNNs.10</th>\n",
              "      <th>CNNs.11</th>\n",
              "      <th>CNNs.12</th>\n",
              "      <th>CNNs.13</th>\n",
              "      <th>CNNs.14</th>\n",
              "      <th>CNNs.15</th>\n",
              "      <th>CNNs.16</th>\n",
              "      <th>CNNs.17</th>\n",
              "      <th>CNNs.18</th>\n",
              "      <th>CNNs.19</th>\n",
              "      <th>CNNs.20</th>\n",
              "      <th>CNNs.21</th>\n",
              "      <th>CNNs.22</th>\n",
              "      <th>CNNs.23</th>\n",
              "      <th>CNNs.24</th>\n",
              "      <th>CNNs.25</th>\n",
              "      <th>CNNs.26</th>\n",
              "      <th>CNNs.27</th>\n",
              "      <th>CNNs.28</th>\n",
              "      <th>CNNs.29</th>\n",
              "      <th>CNNs.30</th>\n",
              "      <th>CNNs.31</th>\n",
              "      <th>CNNs.32</th>\n",
              "      <th>CNNs.33</th>\n",
              "      <th>CNNs.34</th>\n",
              "      <th>CNNs.35</th>\n",
              "      <th>CNNs.36</th>\n",
              "      <th>CNNs.37</th>\n",
              "      <th>CNNs.38</th>\n",
              "      <th>CNNs.39</th>\n",
              "      <th>...</th>\n",
              "      <th>GIST.474</th>\n",
              "      <th>GIST.475</th>\n",
              "      <th>GIST.476</th>\n",
              "      <th>GIST.477</th>\n",
              "      <th>GIST.478</th>\n",
              "      <th>GIST.479</th>\n",
              "      <th>GIST.480</th>\n",
              "      <th>GIST.481</th>\n",
              "      <th>GIST.482</th>\n",
              "      <th>GIST.483</th>\n",
              "      <th>GIST.484</th>\n",
              "      <th>GIST.485</th>\n",
              "      <th>GIST.486</th>\n",
              "      <th>GIST.487</th>\n",
              "      <th>GIST.488</th>\n",
              "      <th>GIST.489</th>\n",
              "      <th>GIST.490</th>\n",
              "      <th>GIST.491</th>\n",
              "      <th>GIST.492</th>\n",
              "      <th>GIST.493</th>\n",
              "      <th>GIST.494</th>\n",
              "      <th>GIST.495</th>\n",
              "      <th>GIST.496</th>\n",
              "      <th>GIST.497</th>\n",
              "      <th>GIST.498</th>\n",
              "      <th>GIST.499</th>\n",
              "      <th>GIST.500</th>\n",
              "      <th>GIST.501</th>\n",
              "      <th>GIST.502</th>\n",
              "      <th>GIST.503</th>\n",
              "      <th>GIST.504</th>\n",
              "      <th>GIST.505</th>\n",
              "      <th>GIST.506</th>\n",
              "      <th>GIST.507</th>\n",
              "      <th>GIST.508</th>\n",
              "      <th>GIST.509</th>\n",
              "      <th>GIST.510</th>\n",
              "      <th>GIST.511</th>\n",
              "      <th>prediction</th>\n",
              "      <th>confidence</th>\n",
              "    </tr>\n",
              "    <tr>\n",
              "      <th>ID</th>\n",
              "      <th></th>\n",
              "      <th></th>\n",
              "      <th></th>\n",
              "      <th></th>\n",
              "      <th></th>\n",
              "      <th></th>\n",
              "      <th></th>\n",
              "      <th></th>\n",
              "      <th></th>\n",
              "      <th></th>\n",
              "      <th></th>\n",
              "      <th></th>\n",
              "      <th></th>\n",
              "      <th></th>\n",
              "      <th></th>\n",
              "      <th></th>\n",
              "      <th></th>\n",
              "      <th></th>\n",
              "      <th></th>\n",
              "      <th></th>\n",
              "      <th></th>\n",
              "      <th></th>\n",
              "      <th></th>\n",
              "      <th></th>\n",
              "      <th></th>\n",
              "      <th></th>\n",
              "      <th></th>\n",
              "      <th></th>\n",
              "      <th></th>\n",
              "      <th></th>\n",
              "      <th></th>\n",
              "      <th></th>\n",
              "      <th></th>\n",
              "      <th></th>\n",
              "      <th></th>\n",
              "      <th></th>\n",
              "      <th></th>\n",
              "      <th></th>\n",
              "      <th></th>\n",
              "      <th></th>\n",
              "      <th></th>\n",
              "      <th></th>\n",
              "      <th></th>\n",
              "      <th></th>\n",
              "      <th></th>\n",
              "      <th></th>\n",
              "      <th></th>\n",
              "      <th></th>\n",
              "      <th></th>\n",
              "      <th></th>\n",
              "      <th></th>\n",
              "      <th></th>\n",
              "      <th></th>\n",
              "      <th></th>\n",
              "      <th></th>\n",
              "      <th></th>\n",
              "      <th></th>\n",
              "      <th></th>\n",
              "      <th></th>\n",
              "      <th></th>\n",
              "      <th></th>\n",
              "      <th></th>\n",
              "      <th></th>\n",
              "      <th></th>\n",
              "      <th></th>\n",
              "      <th></th>\n",
              "      <th></th>\n",
              "      <th></th>\n",
              "      <th></th>\n",
              "      <th></th>\n",
              "      <th></th>\n",
              "      <th></th>\n",
              "      <th></th>\n",
              "      <th></th>\n",
              "      <th></th>\n",
              "      <th></th>\n",
              "      <th></th>\n",
              "      <th></th>\n",
              "      <th></th>\n",
              "      <th></th>\n",
              "      <th></th>\n",
              "    </tr>\n",
              "  </thead>\n",
              "  <tbody>\n",
              "    <tr>\n",
              "      <th>1</th>\n",
              "      <td>2.402600</td>\n",
              "      <td>0.55496</td>\n",
              "      <td>0.000000</td>\n",
              "      <td>0.000000</td>\n",
              "      <td>0.000000</td>\n",
              "      <td>0.000000</td>\n",
              "      <td>0.338930</td>\n",
              "      <td>0.000000</td>\n",
              "      <td>1.31910</td>\n",
              "      <td>0.221210</td>\n",
              "      <td>0.000000</td>\n",
              "      <td>0.00000</td>\n",
              "      <td>0.00000</td>\n",
              "      <td>1.182200</td>\n",
              "      <td>0.00000</td>\n",
              "      <td>0.000000</td>\n",
              "      <td>0.000000</td>\n",
              "      <td>0.000000</td>\n",
              "      <td>0.000000</td>\n",
              "      <td>0.000000</td>\n",
              "      <td>0.000000</td>\n",
              "      <td>0.000000</td>\n",
              "      <td>0.000000</td>\n",
              "      <td>0.000000</td>\n",
              "      <td>0.574640</td>\n",
              "      <td>0.00000</td>\n",
              "      <td>0.000000</td>\n",
              "      <td>0.000000</td>\n",
              "      <td>0.000000</td>\n",
              "      <td>0.000000</td>\n",
              "      <td>0.000000</td>\n",
              "      <td>0.000000</td>\n",
              "      <td>0.000000</td>\n",
              "      <td>0.000000</td>\n",
              "      <td>0.00000</td>\n",
              "      <td>0.000000</td>\n",
              "      <td>0.00000</td>\n",
              "      <td>0.000000</td>\n",
              "      <td>0.00000</td>\n",
              "      <td>0.000000</td>\n",
              "      <td>...</td>\n",
              "      <td>0.022237</td>\n",
              "      <td>0.035813</td>\n",
              "      <td>0.025761</td>\n",
              "      <td>0.026295</td>\n",
              "      <td>0.027581</td>\n",
              "      <td>0.015342</td>\n",
              "      <td>0.026628</td>\n",
              "      <td>0.013269</td>\n",
              "      <td>0.024359</td>\n",
              "      <td>0.018712</td>\n",
              "      <td>0.024926</td>\n",
              "      <td>0.021963</td>\n",
              "      <td>0.021773</td>\n",
              "      <td>0.023568</td>\n",
              "      <td>0.019834</td>\n",
              "      <td>0.014300</td>\n",
              "      <td>0.025260</td>\n",
              "      <td>0.019607</td>\n",
              "      <td>0.027114</td>\n",
              "      <td>0.026370</td>\n",
              "      <td>0.025588</td>\n",
              "      <td>0.013442</td>\n",
              "      <td>0.037338</td>\n",
              "      <td>0.044497</td>\n",
              "      <td>0.035463</td>\n",
              "      <td>0.029618</td>\n",
              "      <td>0.021774</td>\n",
              "      <td>0.035416</td>\n",
              "      <td>0.037913</td>\n",
              "      <td>0.025488</td>\n",
              "      <td>0.021384</td>\n",
              "      <td>0.026530</td>\n",
              "      <td>0.037562</td>\n",
              "      <td>0.033369</td>\n",
              "      <td>0.030079</td>\n",
              "      <td>0.057239</td>\n",
              "      <td>0.048746</td>\n",
              "      <td>0.037217</td>\n",
              "      <td>0</td>\n",
              "      <td>0.66</td>\n",
              "    </tr>\n",
              "    <tr>\n",
              "      <th>2</th>\n",
              "      <td>0.000000</td>\n",
              "      <td>0.90992</td>\n",
              "      <td>0.000000</td>\n",
              "      <td>0.000000</td>\n",
              "      <td>0.000000</td>\n",
              "      <td>0.556140</td>\n",
              "      <td>0.176850</td>\n",
              "      <td>0.000000</td>\n",
              "      <td>0.00000</td>\n",
              "      <td>0.000000</td>\n",
              "      <td>0.000000</td>\n",
              "      <td>0.00000</td>\n",
              "      <td>0.00000</td>\n",
              "      <td>0.000000</td>\n",
              "      <td>0.70426</td>\n",
              "      <td>0.000000</td>\n",
              "      <td>0.000000</td>\n",
              "      <td>0.000000</td>\n",
              "      <td>0.000000</td>\n",
              "      <td>0.047146</td>\n",
              "      <td>0.000000</td>\n",
              "      <td>0.556510</td>\n",
              "      <td>0.000000</td>\n",
              "      <td>0.000000</td>\n",
              "      <td>1.710600</td>\n",
              "      <td>1.11070</td>\n",
              "      <td>0.000000</td>\n",
              "      <td>0.000000</td>\n",
              "      <td>0.000000</td>\n",
              "      <td>0.000000</td>\n",
              "      <td>0.000000</td>\n",
              "      <td>0.000000</td>\n",
              "      <td>0.000000</td>\n",
              "      <td>0.000000</td>\n",
              "      <td>0.00000</td>\n",
              "      <td>1.340900</td>\n",
              "      <td>0.23577</td>\n",
              "      <td>0.655430</td>\n",
              "      <td>0.34635</td>\n",
              "      <td>0.000000</td>\n",
              "      <td>...</td>\n",
              "      <td>0.028828</td>\n",
              "      <td>0.049244</td>\n",
              "      <td>0.008391</td>\n",
              "      <td>0.032814</td>\n",
              "      <td>0.021262</td>\n",
              "      <td>0.053216</td>\n",
              "      <td>0.045054</td>\n",
              "      <td>0.023659</td>\n",
              "      <td>0.016105</td>\n",
              "      <td>0.030475</td>\n",
              "      <td>0.031841</td>\n",
              "      <td>0.027860</td>\n",
              "      <td>0.039781</td>\n",
              "      <td>0.022238</td>\n",
              "      <td>0.010312</td>\n",
              "      <td>0.019339</td>\n",
              "      <td>0.015486</td>\n",
              "      <td>0.021439</td>\n",
              "      <td>0.010026</td>\n",
              "      <td>0.023999</td>\n",
              "      <td>0.017424</td>\n",
              "      <td>0.027451</td>\n",
              "      <td>0.040467</td>\n",
              "      <td>0.030169</td>\n",
              "      <td>0.035430</td>\n",
              "      <td>0.025522</td>\n",
              "      <td>0.010907</td>\n",
              "      <td>0.030225</td>\n",
              "      <td>0.037154</td>\n",
              "      <td>0.019238</td>\n",
              "      <td>0.010607</td>\n",
              "      <td>0.027920</td>\n",
              "      <td>0.024132</td>\n",
              "      <td>0.018205</td>\n",
              "      <td>0.013909</td>\n",
              "      <td>0.023270</td>\n",
              "      <td>0.027539</td>\n",
              "      <td>0.024225</td>\n",
              "      <td>0</td>\n",
              "      <td>0.66</td>\n",
              "    </tr>\n",
              "    <tr>\n",
              "      <th>3</th>\n",
              "      <td>0.000000</td>\n",
              "      <td>0.15810</td>\n",
              "      <td>0.000000</td>\n",
              "      <td>0.309950</td>\n",
              "      <td>0.000000</td>\n",
              "      <td>0.554010</td>\n",
              "      <td>0.148100</td>\n",
              "      <td>0.000000</td>\n",
              "      <td>0.86900</td>\n",
              "      <td>0.685850</td>\n",
              "      <td>0.260280</td>\n",
              "      <td>0.00000</td>\n",
              "      <td>0.16087</td>\n",
              "      <td>0.198750</td>\n",
              "      <td>0.00000</td>\n",
              "      <td>1.087400</td>\n",
              "      <td>0.654650</td>\n",
              "      <td>0.099921</td>\n",
              "      <td>0.000000</td>\n",
              "      <td>0.000000</td>\n",
              "      <td>0.285260</td>\n",
              "      <td>0.000000</td>\n",
              "      <td>0.553420</td>\n",
              "      <td>0.466030</td>\n",
              "      <td>0.000000</td>\n",
              "      <td>0.00000</td>\n",
              "      <td>0.003528</td>\n",
              "      <td>0.000000</td>\n",
              "      <td>0.000000</td>\n",
              "      <td>0.496920</td>\n",
              "      <td>0.184030</td>\n",
              "      <td>0.000000</td>\n",
              "      <td>0.399050</td>\n",
              "      <td>0.597980</td>\n",
              "      <td>0.96267</td>\n",
              "      <td>0.000000</td>\n",
              "      <td>1.19440</td>\n",
              "      <td>0.164810</td>\n",
              "      <td>0.66010</td>\n",
              "      <td>0.000000</td>\n",
              "      <td>...</td>\n",
              "      <td>0.022017</td>\n",
              "      <td>0.012663</td>\n",
              "      <td>0.022578</td>\n",
              "      <td>0.028834</td>\n",
              "      <td>0.027053</td>\n",
              "      <td>0.014175</td>\n",
              "      <td>0.003631</td>\n",
              "      <td>0.016840</td>\n",
              "      <td>0.025665</td>\n",
              "      <td>0.005014</td>\n",
              "      <td>0.002510</td>\n",
              "      <td>0.018211</td>\n",
              "      <td>0.029064</td>\n",
              "      <td>0.006209</td>\n",
              "      <td>0.010019</td>\n",
              "      <td>0.016031</td>\n",
              "      <td>0.023201</td>\n",
              "      <td>0.007252</td>\n",
              "      <td>0.011563</td>\n",
              "      <td>0.037755</td>\n",
              "      <td>0.029861</td>\n",
              "      <td>0.005622</td>\n",
              "      <td>0.002741</td>\n",
              "      <td>0.019477</td>\n",
              "      <td>0.021964</td>\n",
              "      <td>0.004842</td>\n",
              "      <td>0.001397</td>\n",
              "      <td>0.013861</td>\n",
              "      <td>0.021931</td>\n",
              "      <td>0.005746</td>\n",
              "      <td>0.007854</td>\n",
              "      <td>0.020796</td>\n",
              "      <td>0.039895</td>\n",
              "      <td>0.006463</td>\n",
              "      <td>0.008838</td>\n",
              "      <td>0.042023</td>\n",
              "      <td>0.045477</td>\n",
              "      <td>0.006091</td>\n",
              "      <td>0</td>\n",
              "      <td>1.00</td>\n",
              "    </tr>\n",
              "    <tr>\n",
              "      <th>4</th>\n",
              "      <td>0.593580</td>\n",
              "      <td>0.00000</td>\n",
              "      <td>0.000000</td>\n",
              "      <td>0.000000</td>\n",
              "      <td>0.000000</td>\n",
              "      <td>0.000000</td>\n",
              "      <td>0.000000</td>\n",
              "      <td>0.699310</td>\n",
              "      <td>0.00000</td>\n",
              "      <td>0.892400</td>\n",
              "      <td>0.376830</td>\n",
              "      <td>1.22810</td>\n",
              "      <td>0.86470</td>\n",
              "      <td>0.045856</td>\n",
              "      <td>0.00000</td>\n",
              "      <td>0.000000</td>\n",
              "      <td>0.000000</td>\n",
              "      <td>0.587140</td>\n",
              "      <td>0.000000</td>\n",
              "      <td>0.000000</td>\n",
              "      <td>0.000000</td>\n",
              "      <td>0.249570</td>\n",
              "      <td>0.000000</td>\n",
              "      <td>0.000000</td>\n",
              "      <td>0.216290</td>\n",
              "      <td>0.00000</td>\n",
              "      <td>0.713450</td>\n",
              "      <td>0.429220</td>\n",
              "      <td>0.000000</td>\n",
              "      <td>0.000000</td>\n",
              "      <td>0.874370</td>\n",
              "      <td>0.000000</td>\n",
              "      <td>0.304950</td>\n",
              "      <td>0.000000</td>\n",
              "      <td>0.00000</td>\n",
              "      <td>0.000000</td>\n",
              "      <td>0.00000</td>\n",
              "      <td>1.713000</td>\n",
              "      <td>0.00000</td>\n",
              "      <td>0.000000</td>\n",
              "      <td>...</td>\n",
              "      <td>0.050777</td>\n",
              "      <td>0.083101</td>\n",
              "      <td>0.067032</td>\n",
              "      <td>0.057620</td>\n",
              "      <td>0.049326</td>\n",
              "      <td>0.042877</td>\n",
              "      <td>0.032275</td>\n",
              "      <td>0.031641</td>\n",
              "      <td>0.031658</td>\n",
              "      <td>0.026700</td>\n",
              "      <td>0.037861</td>\n",
              "      <td>0.041324</td>\n",
              "      <td>0.021998</td>\n",
              "      <td>0.018935</td>\n",
              "      <td>0.056127</td>\n",
              "      <td>0.050249</td>\n",
              "      <td>0.047804</td>\n",
              "      <td>0.080956</td>\n",
              "      <td>0.053136</td>\n",
              "      <td>0.051407</td>\n",
              "      <td>0.039121</td>\n",
              "      <td>0.042495</td>\n",
              "      <td>0.037705</td>\n",
              "      <td>0.034538</td>\n",
              "      <td>0.045489</td>\n",
              "      <td>0.028306</td>\n",
              "      <td>0.057239</td>\n",
              "      <td>0.046565</td>\n",
              "      <td>0.019960</td>\n",
              "      <td>0.021584</td>\n",
              "      <td>0.047490</td>\n",
              "      <td>0.054562</td>\n",
              "      <td>0.070832</td>\n",
              "      <td>0.078561</td>\n",
              "      <td>0.042256</td>\n",
              "      <td>0.048848</td>\n",
              "      <td>0.037105</td>\n",
              "      <td>0.037641</td>\n",
              "      <td>1</td>\n",
              "      <td>1.00</td>\n",
              "    </tr>\n",
              "    <tr>\n",
              "      <th>5</th>\n",
              "      <td>0.237350</td>\n",
              "      <td>0.00000</td>\n",
              "      <td>0.735870</td>\n",
              "      <td>0.355870</td>\n",
              "      <td>0.438560</td>\n",
              "      <td>0.000000</td>\n",
              "      <td>0.241120</td>\n",
              "      <td>0.000000</td>\n",
              "      <td>0.00000</td>\n",
              "      <td>0.000000</td>\n",
              "      <td>0.458330</td>\n",
              "      <td>0.27384</td>\n",
              "      <td>0.97601</td>\n",
              "      <td>0.000000</td>\n",
              "      <td>0.21408</td>\n",
              "      <td>0.000000</td>\n",
              "      <td>0.719190</td>\n",
              "      <td>0.616810</td>\n",
              "      <td>1.053600</td>\n",
              "      <td>1.289900</td>\n",
              "      <td>0.348610</td>\n",
              "      <td>0.342250</td>\n",
              "      <td>0.000000</td>\n",
              "      <td>0.000000</td>\n",
              "      <td>0.063612</td>\n",
              "      <td>1.28080</td>\n",
              "      <td>0.263000</td>\n",
              "      <td>0.423120</td>\n",
              "      <td>0.000000</td>\n",
              "      <td>0.000000</td>\n",
              "      <td>0.144920</td>\n",
              "      <td>1.005300</td>\n",
              "      <td>0.507080</td>\n",
              "      <td>0.000000</td>\n",
              "      <td>0.00000</td>\n",
              "      <td>0.000000</td>\n",
              "      <td>0.00000</td>\n",
              "      <td>0.748800</td>\n",
              "      <td>0.87239</td>\n",
              "      <td>0.000000</td>\n",
              "      <td>...</td>\n",
              "      <td>0.040531</td>\n",
              "      <td>0.035493</td>\n",
              "      <td>0.023656</td>\n",
              "      <td>0.024188</td>\n",
              "      <td>0.019805</td>\n",
              "      <td>0.039100</td>\n",
              "      <td>0.006821</td>\n",
              "      <td>0.006670</td>\n",
              "      <td>0.035505</td>\n",
              "      <td>0.035298</td>\n",
              "      <td>0.015639</td>\n",
              "      <td>0.048585</td>\n",
              "      <td>0.067922</td>\n",
              "      <td>0.035657</td>\n",
              "      <td>0.015600</td>\n",
              "      <td>0.038519</td>\n",
              "      <td>0.035251</td>\n",
              "      <td>0.018100</td>\n",
              "      <td>0.015398</td>\n",
              "      <td>0.023604</td>\n",
              "      <td>0.011847</td>\n",
              "      <td>0.015496</td>\n",
              "      <td>0.009357</td>\n",
              "      <td>0.009917</td>\n",
              "      <td>0.028758</td>\n",
              "      <td>0.033971</td>\n",
              "      <td>0.023702</td>\n",
              "      <td>0.042252</td>\n",
              "      <td>0.060336</td>\n",
              "      <td>0.043678</td>\n",
              "      <td>0.024218</td>\n",
              "      <td>0.034314</td>\n",
              "      <td>0.029837</td>\n",
              "      <td>0.019462</td>\n",
              "      <td>0.026771</td>\n",
              "      <td>0.033140</td>\n",
              "      <td>0.037345</td>\n",
              "      <td>0.016000</td>\n",
              "      <td>1</td>\n",
              "      <td>0.66</td>\n",
              "    </tr>\n",
              "    <tr>\n",
              "      <th>...</th>\n",
              "      <td>...</td>\n",
              "      <td>...</td>\n",
              "      <td>...</td>\n",
              "      <td>...</td>\n",
              "      <td>...</td>\n",
              "      <td>...</td>\n",
              "      <td>...</td>\n",
              "      <td>...</td>\n",
              "      <td>...</td>\n",
              "      <td>...</td>\n",
              "      <td>...</td>\n",
              "      <td>...</td>\n",
              "      <td>...</td>\n",
              "      <td>...</td>\n",
              "      <td>...</td>\n",
              "      <td>...</td>\n",
              "      <td>...</td>\n",
              "      <td>...</td>\n",
              "      <td>...</td>\n",
              "      <td>...</td>\n",
              "      <td>...</td>\n",
              "      <td>...</td>\n",
              "      <td>...</td>\n",
              "      <td>...</td>\n",
              "      <td>...</td>\n",
              "      <td>...</td>\n",
              "      <td>...</td>\n",
              "      <td>...</td>\n",
              "      <td>...</td>\n",
              "      <td>...</td>\n",
              "      <td>...</td>\n",
              "      <td>...</td>\n",
              "      <td>...</td>\n",
              "      <td>...</td>\n",
              "      <td>...</td>\n",
              "      <td>...</td>\n",
              "      <td>...</td>\n",
              "      <td>...</td>\n",
              "      <td>...</td>\n",
              "      <td>...</td>\n",
              "      <td>...</td>\n",
              "      <td>...</td>\n",
              "      <td>...</td>\n",
              "      <td>...</td>\n",
              "      <td>...</td>\n",
              "      <td>...</td>\n",
              "      <td>...</td>\n",
              "      <td>...</td>\n",
              "      <td>...</td>\n",
              "      <td>...</td>\n",
              "      <td>...</td>\n",
              "      <td>...</td>\n",
              "      <td>...</td>\n",
              "      <td>...</td>\n",
              "      <td>...</td>\n",
              "      <td>...</td>\n",
              "      <td>...</td>\n",
              "      <td>...</td>\n",
              "      <td>...</td>\n",
              "      <td>...</td>\n",
              "      <td>...</td>\n",
              "      <td>...</td>\n",
              "      <td>...</td>\n",
              "      <td>...</td>\n",
              "      <td>...</td>\n",
              "      <td>...</td>\n",
              "      <td>...</td>\n",
              "      <td>...</td>\n",
              "      <td>...</td>\n",
              "      <td>...</td>\n",
              "      <td>...</td>\n",
              "      <td>...</td>\n",
              "      <td>...</td>\n",
              "      <td>...</td>\n",
              "      <td>...</td>\n",
              "      <td>...</td>\n",
              "      <td>...</td>\n",
              "      <td>...</td>\n",
              "      <td>...</td>\n",
              "      <td>...</td>\n",
              "      <td>...</td>\n",
              "    </tr>\n",
              "    <tr>\n",
              "      <th>6562</th>\n",
              "      <td>0.176277</td>\n",
              "      <td>0.00000</td>\n",
              "      <td>0.050203</td>\n",
              "      <td>0.000000</td>\n",
              "      <td>0.116570</td>\n",
              "      <td>0.537830</td>\n",
              "      <td>0.000000</td>\n",
              "      <td>1.747400</td>\n",
              "      <td>0.28231</td>\n",
              "      <td>0.000000</td>\n",
              "      <td>0.000000</td>\n",
              "      <td>0.00000</td>\n",
              "      <td>0.00000</td>\n",
              "      <td>0.000000</td>\n",
              "      <td>0.00000</td>\n",
              "      <td>0.000000</td>\n",
              "      <td>0.792550</td>\n",
              "      <td>0.000000</td>\n",
              "      <td>0.116879</td>\n",
              "      <td>0.000000</td>\n",
              "      <td>1.117000</td>\n",
              "      <td>0.000000</td>\n",
              "      <td>0.000000</td>\n",
              "      <td>2.480200</td>\n",
              "      <td>0.000000</td>\n",
              "      <td>0.00000</td>\n",
              "      <td>0.000000</td>\n",
              "      <td>0.288630</td>\n",
              "      <td>0.000000</td>\n",
              "      <td>0.000000</td>\n",
              "      <td>0.000000</td>\n",
              "      <td>0.062551</td>\n",
              "      <td>0.174890</td>\n",
              "      <td>0.313885</td>\n",
              "      <td>0.23278</td>\n",
              "      <td>0.416771</td>\n",
              "      <td>0.00000</td>\n",
              "      <td>0.000000</td>\n",
              "      <td>0.00000</td>\n",
              "      <td>0.000000</td>\n",
              "      <td>...</td>\n",
              "      <td>0.015679</td>\n",
              "      <td>0.024855</td>\n",
              "      <td>0.037560</td>\n",
              "      <td>0.029478</td>\n",
              "      <td>0.021071</td>\n",
              "      <td>0.023114</td>\n",
              "      <td>0.012261</td>\n",
              "      <td>0.010302</td>\n",
              "      <td>0.017105</td>\n",
              "      <td>0.019555</td>\n",
              "      <td>0.005449</td>\n",
              "      <td>0.020214</td>\n",
              "      <td>0.027621</td>\n",
              "      <td>0.022457</td>\n",
              "      <td>0.027264</td>\n",
              "      <td>0.055576</td>\n",
              "      <td>0.009526</td>\n",
              "      <td>0.010098</td>\n",
              "      <td>0.017420</td>\n",
              "      <td>0.024058</td>\n",
              "      <td>0.016500</td>\n",
              "      <td>0.021680</td>\n",
              "      <td>0.006978</td>\n",
              "      <td>0.007871</td>\n",
              "      <td>0.011630</td>\n",
              "      <td>0.011858</td>\n",
              "      <td>0.020302</td>\n",
              "      <td>0.021370</td>\n",
              "      <td>0.034073</td>\n",
              "      <td>0.010039</td>\n",
              "      <td>0.012253</td>\n",
              "      <td>0.067462</td>\n",
              "      <td>0.033215</td>\n",
              "      <td>0.009213</td>\n",
              "      <td>0.021582</td>\n",
              "      <td>0.010238</td>\n",
              "      <td>0.016867</td>\n",
              "      <td>0.011052</td>\n",
              "      <td>0</td>\n",
              "      <td>0.66</td>\n",
              "    </tr>\n",
              "    <tr>\n",
              "      <th>6563</th>\n",
              "      <td>0.000000</td>\n",
              "      <td>0.00000</td>\n",
              "      <td>0.000000</td>\n",
              "      <td>0.183070</td>\n",
              "      <td>0.000000</td>\n",
              "      <td>0.000000</td>\n",
              "      <td>0.000000</td>\n",
              "      <td>0.198210</td>\n",
              "      <td>1.10080</td>\n",
              "      <td>0.953240</td>\n",
              "      <td>0.000000</td>\n",
              "      <td>0.00000</td>\n",
              "      <td>0.21507</td>\n",
              "      <td>0.000000</td>\n",
              "      <td>0.00000</td>\n",
              "      <td>0.279134</td>\n",
              "      <td>0.000000</td>\n",
              "      <td>0.000000</td>\n",
              "      <td>0.000000</td>\n",
              "      <td>0.106273</td>\n",
              "      <td>0.000000</td>\n",
              "      <td>0.730620</td>\n",
              "      <td>0.775480</td>\n",
              "      <td>0.176830</td>\n",
              "      <td>0.252732</td>\n",
              "      <td>0.00000</td>\n",
              "      <td>0.933750</td>\n",
              "      <td>0.389878</td>\n",
              "      <td>0.467440</td>\n",
              "      <td>0.000000</td>\n",
              "      <td>1.253900</td>\n",
              "      <td>0.000000</td>\n",
              "      <td>0.000000</td>\n",
              "      <td>0.324870</td>\n",
              "      <td>0.23278</td>\n",
              "      <td>0.416771</td>\n",
              "      <td>0.63646</td>\n",
              "      <td>0.093865</td>\n",
              "      <td>0.00000</td>\n",
              "      <td>0.862630</td>\n",
              "      <td>...</td>\n",
              "      <td>0.066532</td>\n",
              "      <td>0.062291</td>\n",
              "      <td>0.009328</td>\n",
              "      <td>0.038923</td>\n",
              "      <td>0.054679</td>\n",
              "      <td>0.050096</td>\n",
              "      <td>0.010045</td>\n",
              "      <td>0.030705</td>\n",
              "      <td>0.029066</td>\n",
              "      <td>0.018929</td>\n",
              "      <td>0.012384</td>\n",
              "      <td>0.017521</td>\n",
              "      <td>0.027621</td>\n",
              "      <td>0.052386</td>\n",
              "      <td>0.015611</td>\n",
              "      <td>0.025504</td>\n",
              "      <td>0.046037</td>\n",
              "      <td>0.068988</td>\n",
              "      <td>0.009910</td>\n",
              "      <td>0.036701</td>\n",
              "      <td>0.055257</td>\n",
              "      <td>0.021680</td>\n",
              "      <td>0.021756</td>\n",
              "      <td>0.052348</td>\n",
              "      <td>0.040447</td>\n",
              "      <td>0.016588</td>\n",
              "      <td>0.012765</td>\n",
              "      <td>0.022520</td>\n",
              "      <td>0.037333</td>\n",
              "      <td>0.059291</td>\n",
              "      <td>0.012357</td>\n",
              "      <td>0.030872</td>\n",
              "      <td>0.033215</td>\n",
              "      <td>0.027241</td>\n",
              "      <td>0.009044</td>\n",
              "      <td>0.033759</td>\n",
              "      <td>0.032443</td>\n",
              "      <td>0.029251</td>\n",
              "      <td>0</td>\n",
              "      <td>1.00</td>\n",
              "    </tr>\n",
              "    <tr>\n",
              "      <th>6564</th>\n",
              "      <td>0.043741</td>\n",
              "      <td>0.61013</td>\n",
              "      <td>0.416340</td>\n",
              "      <td>0.118257</td>\n",
              "      <td>0.137944</td>\n",
              "      <td>0.151477</td>\n",
              "      <td>0.206603</td>\n",
              "      <td>0.000000</td>\n",
              "      <td>0.00000</td>\n",
              "      <td>0.423912</td>\n",
              "      <td>0.000000</td>\n",
              "      <td>1.09890</td>\n",
              "      <td>0.00000</td>\n",
              "      <td>0.419490</td>\n",
              "      <td>0.61287</td>\n",
              "      <td>0.119111</td>\n",
              "      <td>0.000000</td>\n",
              "      <td>0.007949</td>\n",
              "      <td>0.377150</td>\n",
              "      <td>1.352100</td>\n",
              "      <td>0.000000</td>\n",
              "      <td>1.446100</td>\n",
              "      <td>0.151911</td>\n",
              "      <td>0.000000</td>\n",
              "      <td>1.144700</td>\n",
              "      <td>0.50872</td>\n",
              "      <td>0.000000</td>\n",
              "      <td>0.000000</td>\n",
              "      <td>0.151333</td>\n",
              "      <td>0.173297</td>\n",
              "      <td>0.235699</td>\n",
              "      <td>0.000000</td>\n",
              "      <td>0.000000</td>\n",
              "      <td>0.000000</td>\n",
              "      <td>0.00000</td>\n",
              "      <td>0.378903</td>\n",
              "      <td>0.00000</td>\n",
              "      <td>0.307270</td>\n",
              "      <td>0.74520</td>\n",
              "      <td>0.369280</td>\n",
              "      <td>...</td>\n",
              "      <td>0.040465</td>\n",
              "      <td>0.075196</td>\n",
              "      <td>0.031301</td>\n",
              "      <td>0.031995</td>\n",
              "      <td>0.026159</td>\n",
              "      <td>0.029893</td>\n",
              "      <td>0.023343</td>\n",
              "      <td>0.032767</td>\n",
              "      <td>0.035352</td>\n",
              "      <td>0.030972</td>\n",
              "      <td>0.024031</td>\n",
              "      <td>0.015316</td>\n",
              "      <td>0.036775</td>\n",
              "      <td>0.024178</td>\n",
              "      <td>0.008840</td>\n",
              "      <td>0.014046</td>\n",
              "      <td>0.037501</td>\n",
              "      <td>0.034871</td>\n",
              "      <td>0.040707</td>\n",
              "      <td>0.025958</td>\n",
              "      <td>0.022452</td>\n",
              "      <td>0.023298</td>\n",
              "      <td>0.027989</td>\n",
              "      <td>0.027798</td>\n",
              "      <td>0.036293</td>\n",
              "      <td>0.046774</td>\n",
              "      <td>0.004863</td>\n",
              "      <td>0.035499</td>\n",
              "      <td>0.052803</td>\n",
              "      <td>0.017349</td>\n",
              "      <td>0.011248</td>\n",
              "      <td>0.013410</td>\n",
              "      <td>0.046910</td>\n",
              "      <td>0.026240</td>\n",
              "      <td>0.024736</td>\n",
              "      <td>0.027197</td>\n",
              "      <td>0.057540</td>\n",
              "      <td>0.028002</td>\n",
              "      <td>1</td>\n",
              "      <td>0.66</td>\n",
              "    </tr>\n",
              "    <tr>\n",
              "      <th>6565</th>\n",
              "      <td>0.000000</td>\n",
              "      <td>0.00000</td>\n",
              "      <td>0.123868</td>\n",
              "      <td>0.390830</td>\n",
              "      <td>0.000000</td>\n",
              "      <td>0.685590</td>\n",
              "      <td>0.731430</td>\n",
              "      <td>0.490970</td>\n",
              "      <td>0.80788</td>\n",
              "      <td>0.423912</td>\n",
              "      <td>0.043156</td>\n",
              "      <td>0.00000</td>\n",
              "      <td>0.00000</td>\n",
              "      <td>0.943920</td>\n",
              "      <td>0.00000</td>\n",
              "      <td>1.042600</td>\n",
              "      <td>0.000000</td>\n",
              "      <td>0.290820</td>\n",
              "      <td>0.146710</td>\n",
              "      <td>0.000000</td>\n",
              "      <td>1.209200</td>\n",
              "      <td>0.270538</td>\n",
              "      <td>1.202000</td>\n",
              "      <td>0.152463</td>\n",
              "      <td>0.329376</td>\n",
              "      <td>0.00000</td>\n",
              "      <td>0.312051</td>\n",
              "      <td>0.199963</td>\n",
              "      <td>0.878890</td>\n",
              "      <td>1.526200</td>\n",
              "      <td>1.099100</td>\n",
              "      <td>0.000000</td>\n",
              "      <td>0.763270</td>\n",
              "      <td>0.244385</td>\n",
              "      <td>0.96555</td>\n",
              "      <td>0.899910</td>\n",
              "      <td>0.00000</td>\n",
              "      <td>0.933210</td>\n",
              "      <td>0.10546</td>\n",
              "      <td>0.216732</td>\n",
              "      <td>...</td>\n",
              "      <td>0.011722</td>\n",
              "      <td>0.029382</td>\n",
              "      <td>0.031301</td>\n",
              "      <td>0.028939</td>\n",
              "      <td>0.011230</td>\n",
              "      <td>0.033238</td>\n",
              "      <td>0.023343</td>\n",
              "      <td>0.027375</td>\n",
              "      <td>0.011177</td>\n",
              "      <td>0.025570</td>\n",
              "      <td>0.028731</td>\n",
              "      <td>0.028712</td>\n",
              "      <td>0.009127</td>\n",
              "      <td>0.010865</td>\n",
              "      <td>0.026333</td>\n",
              "      <td>0.027514</td>\n",
              "      <td>0.014388</td>\n",
              "      <td>0.016095</td>\n",
              "      <td>0.018295</td>\n",
              "      <td>0.024434</td>\n",
              "      <td>0.026948</td>\n",
              "      <td>0.018732</td>\n",
              "      <td>0.029027</td>\n",
              "      <td>0.073663</td>\n",
              "      <td>0.034097</td>\n",
              "      <td>0.020795</td>\n",
              "      <td>0.038967</td>\n",
              "      <td>0.019207</td>\n",
              "      <td>0.011858</td>\n",
              "      <td>0.015554</td>\n",
              "      <td>0.038869</td>\n",
              "      <td>0.012442</td>\n",
              "      <td>0.035036</td>\n",
              "      <td>0.018881</td>\n",
              "      <td>0.027589</td>\n",
              "      <td>0.035372</td>\n",
              "      <td>0.017279</td>\n",
              "      <td>0.019049</td>\n",
              "      <td>1</td>\n",
              "      <td>0.66</td>\n",
              "    </tr>\n",
              "    <tr>\n",
              "      <th>6566</th>\n",
              "      <td>0.000000</td>\n",
              "      <td>0.00000</td>\n",
              "      <td>0.000000</td>\n",
              "      <td>0.000000</td>\n",
              "      <td>0.137944</td>\n",
              "      <td>0.000000</td>\n",
              "      <td>0.000000</td>\n",
              "      <td>0.158204</td>\n",
              "      <td>1.32280</td>\n",
              "      <td>0.000000</td>\n",
              "      <td>0.000000</td>\n",
              "      <td>0.00000</td>\n",
              "      <td>0.00000</td>\n",
              "      <td>0.187217</td>\n",
              "      <td>0.40526</td>\n",
              "      <td>0.000000</td>\n",
              "      <td>0.229906</td>\n",
              "      <td>0.240962</td>\n",
              "      <td>0.833130</td>\n",
              "      <td>0.000000</td>\n",
              "      <td>0.193423</td>\n",
              "      <td>0.000000</td>\n",
              "      <td>0.000000</td>\n",
              "      <td>0.000000</td>\n",
              "      <td>0.000000</td>\n",
              "      <td>0.00000</td>\n",
              "      <td>0.312051</td>\n",
              "      <td>0.199963</td>\n",
              "      <td>0.000000</td>\n",
              "      <td>0.000000</td>\n",
              "      <td>0.000000</td>\n",
              "      <td>0.000000</td>\n",
              "      <td>0.275973</td>\n",
              "      <td>0.000000</td>\n",
              "      <td>0.00000</td>\n",
              "      <td>0.000000</td>\n",
              "      <td>0.00000</td>\n",
              "      <td>0.000000</td>\n",
              "      <td>0.00000</td>\n",
              "      <td>0.000000</td>\n",
              "      <td>...</td>\n",
              "      <td>0.032517</td>\n",
              "      <td>0.012559</td>\n",
              "      <td>0.027410</td>\n",
              "      <td>0.024157</td>\n",
              "      <td>0.027549</td>\n",
              "      <td>0.010752</td>\n",
              "      <td>0.006771</td>\n",
              "      <td>0.013541</td>\n",
              "      <td>0.017625</td>\n",
              "      <td>0.006812</td>\n",
              "      <td>0.011319</td>\n",
              "      <td>0.025784</td>\n",
              "      <td>0.034062</td>\n",
              "      <td>0.005962</td>\n",
              "      <td>0.017330</td>\n",
              "      <td>0.037536</td>\n",
              "      <td>0.028305</td>\n",
              "      <td>0.007628</td>\n",
              "      <td>0.018765</td>\n",
              "      <td>0.019060</td>\n",
              "      <td>0.026948</td>\n",
              "      <td>0.007772</td>\n",
              "      <td>0.005423</td>\n",
              "      <td>0.010018</td>\n",
              "      <td>0.015106</td>\n",
              "      <td>0.004751</td>\n",
              "      <td>0.008157</td>\n",
              "      <td>0.015485</td>\n",
              "      <td>0.025912</td>\n",
              "      <td>0.005226</td>\n",
              "      <td>0.009904</td>\n",
              "      <td>0.034758</td>\n",
              "      <td>0.035036</td>\n",
              "      <td>0.006451</td>\n",
              "      <td>0.015178</td>\n",
              "      <td>0.017055</td>\n",
              "      <td>0.023330</td>\n",
              "      <td>0.007078</td>\n",
              "      <td>1</td>\n",
              "      <td>0.66</td>\n",
              "    </tr>\n",
              "  </tbody>\n",
              "</table>\n",
              "<p>6566 rows × 4610 columns</p>\n",
              "</div>"
            ],
            "text/plain": [
              "          CNNs   CNNs.1    CNNs.2  ...  GIST.511  prediction  confidence\n",
              "ID                                 ...                                  \n",
              "1     2.402600  0.55496  0.000000  ...  0.037217           0        0.66\n",
              "2     0.000000  0.90992  0.000000  ...  0.024225           0        0.66\n",
              "3     0.000000  0.15810  0.000000  ...  0.006091           0        1.00\n",
              "4     0.593580  0.00000  0.000000  ...  0.037641           1        1.00\n",
              "5     0.237350  0.00000  0.735870  ...  0.016000           1        0.66\n",
              "...        ...      ...       ...  ...       ...         ...         ...\n",
              "6562  0.176277  0.00000  0.050203  ...  0.011052           0        0.66\n",
              "6563  0.000000  0.00000  0.000000  ...  0.029251           0        1.00\n",
              "6564  0.043741  0.61013  0.416340  ...  0.028002           1        0.66\n",
              "6565  0.000000  0.00000  0.123868  ...  0.019049           1        0.66\n",
              "6566  0.000000  0.00000  0.000000  ...  0.007078           1        0.66\n",
              "\n",
              "[6566 rows x 4610 columns]"
            ]
          },
          "metadata": {
            "tags": []
          },
          "execution_count": 9
        }
      ]
    },
    {
      "cell_type": "markdown",
      "metadata": {
        "id": "MCG8CAQxbwax"
      },
      "source": [
        "# Exploratory Data Analysis "
      ]
    },
    {
      "cell_type": "code",
      "metadata": {
        "colab": {
          "base_uri": "https://localhost:8080/",
          "height": 146
        },
        "id": "xbIJn7g80d3S",
        "outputId": "298ce175-9f6f-479b-dc64-08d2329491f8"
      },
      "source": [
        "# In this section, we look further on the details of the dataset, \n",
        "# we investigate which type of scalar/ feature selection (i.e., dimensionality reduction)/ model selection\n",
        "# is the most effective in our dataset. \n",
        "# First we are check the balance of our dataset.\n",
        "\n",
        "print(cleaned_data['prediction'].value_counts()) # checking the balance of the dataset\n",
        "display(test_proportions.head()) # test labels proportion \n",
        "\n"
      ],
      "execution_count": null,
      "outputs": [
        {
          "output_type": "stream",
          "text": [
            "0    3538\n",
            "1    3028\n",
            "Name: prediction, dtype: int64\n"
          ],
          "name": "stdout"
        },
        {
          "output_type": "display_data",
          "data": {
            "text/html": [
              "<div>\n",
              "<style scoped>\n",
              "    .dataframe tbody tr th:only-of-type {\n",
              "        vertical-align: middle;\n",
              "    }\n",
              "\n",
              "    .dataframe tbody tr th {\n",
              "        vertical-align: top;\n",
              "    }\n",
              "\n",
              "    .dataframe thead th {\n",
              "        text-align: right;\n",
              "    }\n",
              "</style>\n",
              "<table border=\"1\" class=\"dataframe\">\n",
              "  <thead>\n",
              "    <tr style=\"text-align: right;\">\n",
              "      <th></th>\n",
              "    </tr>\n",
              "    <tr>\n",
              "      <th>0.5569 class 1</th>\n",
              "    </tr>\n",
              "  </thead>\n",
              "  <tbody>\n",
              "    <tr>\n",
              "      <th>0.4431 class 0</th>\n",
              "    </tr>\n",
              "  </tbody>\n",
              "</table>\n",
              "</div>"
            ],
            "text/plain": [
              "Empty DataFrame\n",
              "Columns: []\n",
              "Index: [0.4431 class 0]"
            ]
          },
          "metadata": {
            "tags": []
          }
        }
      ]
    },
    {
      "cell_type": "markdown",
      "metadata": {
        "id": "B1hoyu2LbXH3"
      },
      "source": [
        "##  Data Augmentation"
      ]
    },
    {
      "cell_type": "code",
      "metadata": {
        "id": "_ZTUxb1b_02g"
      },
      "source": [
        "# In order to do the investigation of what I mentioned above I will create a Pipeline. The Pipeline\n",
        "# will implement all the processes step by step. \n",
        "# The Scalars that will be investigated are the following:  StandardScaler, MaxAbsScaler, and L2 Normalization.\n",
        "# The Feature Selection method that will be used are the following : SelectKBest(k=¬len(features)/2)\n",
        "# The first step of the Pipeline is to do the data augmentation (oversampling).\n",
        "# Then it will choose a scaling method, afterwards will perform dimensionality reduction and finally it will move on \n",
        "# to the model fit.\n",
        "# The metric that will be used is roc_auc_score.\n",
        "# Hence after looking at the results we will know the optimum values of the hyperparameters, and the model that gives the best score will be evaluated to the testing dataset.\n",
        "features = cleaned_data.drop(['prediction','confidence'],axis=1)\n",
        "labels = concat_df.loc[:,['prediction']] # column recording the labels \n",
        "arr_feat= np.array(features) # need to transform it into a numpy array \n",
        "arr_lab  = labels.values.ravel() # need to be reshaped into nx1"
      ],
      "execution_count": null,
      "outputs": []
    },
    {
      "cell_type": "markdown",
      "metadata": {
        "id": "B5aiwqlSnhqx"
      },
      "source": [
        "## Model Selection"
      ]
    },
    {
      "cell_type": "markdown",
      "metadata": {
        "id": "FvuVi9CQ8qwM"
      },
      "source": [
        "### General Hyperparameters"
      ]
    },
    {
      "cell_type": "code",
      "metadata": {
        "colab": {
          "base_uri": "https://localhost:8080/"
        },
        "id": "AF91omt5ZdBn",
        "outputId": "52a787f2-21ef-4e71-8fac-9ea96c4ac424"
      },
      "source": [
        "########################################### General Hyperparameters ###############################################\n",
        "scalers_to_test = [StandardScaler(),MaxAbsScaler(),Normalizer()] # List of Scaling Methods\n",
        "\n",
        "#Dimensionality Reduction hyper\n",
        "SelectKBest(score_func=f_classif, k=2400) # Feature Selection Method, will return the best k values using f_classif metric witch is one of the most popular for binary classification tasks.\n",
        "# k selected as n_features/2\n"
      ],
      "execution_count": null,
      "outputs": [
        {
          "output_type": "execute_result",
          "data": {
            "text/plain": [
              "SelectKBest(k=2400, score_func=<function f_classif at 0x7fc4ab88dcb0>)"
            ]
          },
          "metadata": {
            "tags": []
          },
          "execution_count": 12
        }
      ]
    },
    {
      "cell_type": "code",
      "metadata": {
        "colab": {
          "base_uri": "https://localhost:8080/"
        },
        "id": "dLsDXMZCkhtl",
        "outputId": "7fc3033d-bb33-46cd-d643-38b29a429399"
      },
      "source": [
        "import numpy as np\n",
        "np.logspace(-4,-1,4)"
      ],
      "execution_count": null,
      "outputs": [
        {
          "output_type": "execute_result",
          "data": {
            "text/plain": [
              "array([0.0001, 0.001 , 0.01  , 0.1   ])"
            ]
          },
          "metadata": {
            "tags": []
          },
          "execution_count": 13
        }
      ]
    },
    {
      "cell_type": "markdown",
      "metadata": {
        "id": "GaOGit7W8t-I"
      },
      "source": [
        "### Specific Hyperparameters"
      ]
    },
    {
      "cell_type": "code",
      "metadata": {
        "id": "nsBQNwf7Wyyw"
      },
      "source": [
        "# SVC hyper\n",
        "\n",
        "#kernel\n",
        "kernel_to_test=['rbf'] # most popular kernel for SVM \n",
        "\n",
        "#gamma\n",
        "gamma_to_test = np.logspace(-5,-3,3) # gamma will be log scaled values but smaller than C\n",
        "\n",
        "#C\n",
        "C_to_test = np.logspace(-4,-1,4) # C will be log scaled values \n"
      ],
      "execution_count": null,
      "outputs": []
    },
    {
      "cell_type": "code",
      "metadata": {
        "colab": {
          "base_uri": "https://localhost:8080/"
        },
        "id": "w6qzPbbuxFb6",
        "outputId": "101bc799-e0fb-45f9-9b78-72c03e23bf68"
      },
      "source": [
        "\n",
        "# Now that all the testing hyperparameters have been set it is time to create the pipeline.\n",
        "# The order will be the following: Data Preparation->Scaling->Feature Selection->Classifier\n",
        "# Pipeline will help me from any type of Data Leakage, since it will do any Data Preparation only to the training dataset.\n",
        "\n",
        "pipe =  Pipeline([('over',SMOTE()),\n",
        "        ('scaler', StandardScaler()),\n",
        "        ('reduce_dim', SelectKBest(score_func=f_classif, k=2400)),\n",
        "        ('clf', SVC())])\n",
        "\n",
        "\n",
        "param_grid = [       \n",
        "                         \n",
        "        {'scaler': scalers_to_test,\n",
        "         'clf__C': C_to_test,\n",
        "         'clf__gamma':gamma_to_test,\n",
        "         'clf__kernel':kernel_to_test}]\n",
        " \n",
        "grid = GridSearchCV(pipe, param_grid=param_grid, cv=5, n_jobs=1, verbose=2, scoring='roc_auc',return_train_score=True)\n",
        "grid.fit(arr_feat, arr_lab)\n",
        "#print(grid.cv_results_)"
      ],
      "execution_count": null,
      "outputs": [
        {
          "output_type": "stream",
          "text": [
            "Fitting 5 folds for each of 36 candidates, totalling 180 fits\n",
            "[CV] clf__C=0.0001, clf__gamma=1e-05, clf__kernel=rbf, scaler=StandardScaler(copy=True, with_mean=True, with_std=True) \n"
          ],
          "name": "stdout"
        },
        {
          "output_type": "stream",
          "text": [
            "[Parallel(n_jobs=1)]: Using backend SequentialBackend with 1 concurrent workers.\n",
            "/usr/local/lib/python3.7/dist-packages/sklearn/utils/deprecation.py:87: FutureWarning: Function safe_indexing is deprecated; safe_indexing is deprecated in version 0.22 and will be removed in version 0.24.\n",
            "  warnings.warn(msg, category=FutureWarning)\n"
          ],
          "name": "stderr"
        },
        {
          "output_type": "stream",
          "text": [
            "[CV]  clf__C=0.0001, clf__gamma=1e-05, clf__kernel=rbf, scaler=StandardScaler(copy=True, with_mean=True, with_std=True), total= 2.6min\n",
            "[CV] clf__C=0.0001, clf__gamma=1e-05, clf__kernel=rbf, scaler=StandardScaler(copy=True, with_mean=True, with_std=True) \n"
          ],
          "name": "stdout"
        },
        {
          "output_type": "stream",
          "text": [
            "[Parallel(n_jobs=1)]: Done   1 out of   1 | elapsed:  3.9min remaining:    0.0s\n",
            "/usr/local/lib/python3.7/dist-packages/sklearn/utils/deprecation.py:87: FutureWarning: Function safe_indexing is deprecated; safe_indexing is deprecated in version 0.22 and will be removed in version 0.24.\n",
            "  warnings.warn(msg, category=FutureWarning)\n"
          ],
          "name": "stderr"
        },
        {
          "output_type": "stream",
          "text": [
            "[CV]  clf__C=0.0001, clf__gamma=1e-05, clf__kernel=rbf, scaler=StandardScaler(copy=True, with_mean=True, with_std=True), total= 2.6min\n",
            "[CV] clf__C=0.0001, clf__gamma=1e-05, clf__kernel=rbf, scaler=StandardScaler(copy=True, with_mean=True, with_std=True) \n"
          ],
          "name": "stdout"
        },
        {
          "output_type": "stream",
          "text": [
            "/usr/local/lib/python3.7/dist-packages/sklearn/utils/deprecation.py:87: FutureWarning: Function safe_indexing is deprecated; safe_indexing is deprecated in version 0.22 and will be removed in version 0.24.\n",
            "  warnings.warn(msg, category=FutureWarning)\n"
          ],
          "name": "stderr"
        },
        {
          "output_type": "stream",
          "text": [
            "[CV]  clf__C=0.0001, clf__gamma=1e-05, clf__kernel=rbf, scaler=StandardScaler(copy=True, with_mean=True, with_std=True), total= 2.6min\n",
            "[CV] clf__C=0.0001, clf__gamma=1e-05, clf__kernel=rbf, scaler=StandardScaler(copy=True, with_mean=True, with_std=True) \n"
          ],
          "name": "stdout"
        },
        {
          "output_type": "stream",
          "text": [
            "/usr/local/lib/python3.7/dist-packages/sklearn/utils/deprecation.py:87: FutureWarning: Function safe_indexing is deprecated; safe_indexing is deprecated in version 0.22 and will be removed in version 0.24.\n",
            "  warnings.warn(msg, category=FutureWarning)\n"
          ],
          "name": "stderr"
        },
        {
          "output_type": "stream",
          "text": [
            "[CV]  clf__C=0.0001, clf__gamma=1e-05, clf__kernel=rbf, scaler=StandardScaler(copy=True, with_mean=True, with_std=True), total= 2.6min\n",
            "[CV] clf__C=0.0001, clf__gamma=1e-05, clf__kernel=rbf, scaler=StandardScaler(copy=True, with_mean=True, with_std=True) \n"
          ],
          "name": "stdout"
        },
        {
          "output_type": "stream",
          "text": [
            "/usr/local/lib/python3.7/dist-packages/sklearn/utils/deprecation.py:87: FutureWarning: Function safe_indexing is deprecated; safe_indexing is deprecated in version 0.22 and will be removed in version 0.24.\n",
            "  warnings.warn(msg, category=FutureWarning)\n"
          ],
          "name": "stderr"
        },
        {
          "output_type": "stream",
          "text": [
            "[CV]  clf__C=0.0001, clf__gamma=1e-05, clf__kernel=rbf, scaler=StandardScaler(copy=True, with_mean=True, with_std=True), total= 2.6min\n",
            "[CV] clf__C=0.0001, clf__gamma=1e-05, clf__kernel=rbf, scaler=MaxAbsScaler(copy=True) \n"
          ],
          "name": "stdout"
        },
        {
          "output_type": "stream",
          "text": [
            "/usr/local/lib/python3.7/dist-packages/sklearn/utils/deprecation.py:87: FutureWarning: Function safe_indexing is deprecated; safe_indexing is deprecated in version 0.22 and will be removed in version 0.24.\n",
            "  warnings.warn(msg, category=FutureWarning)\n"
          ],
          "name": "stderr"
        },
        {
          "output_type": "stream",
          "text": [
            "[CV]  clf__C=0.0001, clf__gamma=1e-05, clf__kernel=rbf, scaler=MaxAbsScaler(copy=True), total= 2.6min\n",
            "[CV] clf__C=0.0001, clf__gamma=1e-05, clf__kernel=rbf, scaler=MaxAbsScaler(copy=True) \n"
          ],
          "name": "stdout"
        },
        {
          "output_type": "stream",
          "text": [
            "/usr/local/lib/python3.7/dist-packages/sklearn/utils/deprecation.py:87: FutureWarning: Function safe_indexing is deprecated; safe_indexing is deprecated in version 0.22 and will be removed in version 0.24.\n",
            "  warnings.warn(msg, category=FutureWarning)\n"
          ],
          "name": "stderr"
        },
        {
          "output_type": "stream",
          "text": [
            "[CV]  clf__C=0.0001, clf__gamma=1e-05, clf__kernel=rbf, scaler=MaxAbsScaler(copy=True), total= 2.6min\n",
            "[CV] clf__C=0.0001, clf__gamma=1e-05, clf__kernel=rbf, scaler=MaxAbsScaler(copy=True) \n"
          ],
          "name": "stdout"
        },
        {
          "output_type": "stream",
          "text": [
            "/usr/local/lib/python3.7/dist-packages/sklearn/utils/deprecation.py:87: FutureWarning: Function safe_indexing is deprecated; safe_indexing is deprecated in version 0.22 and will be removed in version 0.24.\n",
            "  warnings.warn(msg, category=FutureWarning)\n"
          ],
          "name": "stderr"
        },
        {
          "output_type": "stream",
          "text": [
            "[CV]  clf__C=0.0001, clf__gamma=1e-05, clf__kernel=rbf, scaler=MaxAbsScaler(copy=True), total= 2.6min\n",
            "[CV] clf__C=0.0001, clf__gamma=1e-05, clf__kernel=rbf, scaler=MaxAbsScaler(copy=True) \n"
          ],
          "name": "stdout"
        },
        {
          "output_type": "stream",
          "text": [
            "/usr/local/lib/python3.7/dist-packages/sklearn/utils/deprecation.py:87: FutureWarning: Function safe_indexing is deprecated; safe_indexing is deprecated in version 0.22 and will be removed in version 0.24.\n",
            "  warnings.warn(msg, category=FutureWarning)\n"
          ],
          "name": "stderr"
        },
        {
          "output_type": "stream",
          "text": [
            "[CV]  clf__C=0.0001, clf__gamma=1e-05, clf__kernel=rbf, scaler=MaxAbsScaler(copy=True), total= 2.6min\n",
            "[CV] clf__C=0.0001, clf__gamma=1e-05, clf__kernel=rbf, scaler=MaxAbsScaler(copy=True) \n"
          ],
          "name": "stdout"
        },
        {
          "output_type": "stream",
          "text": [
            "/usr/local/lib/python3.7/dist-packages/sklearn/utils/deprecation.py:87: FutureWarning: Function safe_indexing is deprecated; safe_indexing is deprecated in version 0.22 and will be removed in version 0.24.\n",
            "  warnings.warn(msg, category=FutureWarning)\n"
          ],
          "name": "stderr"
        },
        {
          "output_type": "stream",
          "text": [
            "[CV]  clf__C=0.0001, clf__gamma=1e-05, clf__kernel=rbf, scaler=MaxAbsScaler(copy=True), total= 2.5min\n",
            "[CV] clf__C=0.0001, clf__gamma=1e-05, clf__kernel=rbf, scaler=Normalizer(copy=True, norm='l2') \n"
          ],
          "name": "stdout"
        },
        {
          "output_type": "stream",
          "text": [
            "/usr/local/lib/python3.7/dist-packages/sklearn/utils/deprecation.py:87: FutureWarning: Function safe_indexing is deprecated; safe_indexing is deprecated in version 0.22 and will be removed in version 0.24.\n",
            "  warnings.warn(msg, category=FutureWarning)\n"
          ],
          "name": "stderr"
        },
        {
          "output_type": "stream",
          "text": [
            "[CV]  clf__C=0.0001, clf__gamma=1e-05, clf__kernel=rbf, scaler=Normalizer(copy=True, norm='l2'), total= 2.5min\n",
            "[CV] clf__C=0.0001, clf__gamma=1e-05, clf__kernel=rbf, scaler=Normalizer(copy=True, norm='l2') \n"
          ],
          "name": "stdout"
        },
        {
          "output_type": "stream",
          "text": [
            "/usr/local/lib/python3.7/dist-packages/sklearn/utils/deprecation.py:87: FutureWarning: Function safe_indexing is deprecated; safe_indexing is deprecated in version 0.22 and will be removed in version 0.24.\n",
            "  warnings.warn(msg, category=FutureWarning)\n"
          ],
          "name": "stderr"
        },
        {
          "output_type": "stream",
          "text": [
            "[CV]  clf__C=0.0001, clf__gamma=1e-05, clf__kernel=rbf, scaler=Normalizer(copy=True, norm='l2'), total= 2.5min\n",
            "[CV] clf__C=0.0001, clf__gamma=1e-05, clf__kernel=rbf, scaler=Normalizer(copy=True, norm='l2') \n"
          ],
          "name": "stdout"
        },
        {
          "output_type": "stream",
          "text": [
            "/usr/local/lib/python3.7/dist-packages/sklearn/utils/deprecation.py:87: FutureWarning: Function safe_indexing is deprecated; safe_indexing is deprecated in version 0.22 and will be removed in version 0.24.\n",
            "  warnings.warn(msg, category=FutureWarning)\n"
          ],
          "name": "stderr"
        },
        {
          "output_type": "stream",
          "text": [
            "[CV]  clf__C=0.0001, clf__gamma=1e-05, clf__kernel=rbf, scaler=Normalizer(copy=True, norm='l2'), total= 2.5min\n",
            "[CV] clf__C=0.0001, clf__gamma=1e-05, clf__kernel=rbf, scaler=Normalizer(copy=True, norm='l2') \n"
          ],
          "name": "stdout"
        },
        {
          "output_type": "stream",
          "text": [
            "/usr/local/lib/python3.7/dist-packages/sklearn/utils/deprecation.py:87: FutureWarning: Function safe_indexing is deprecated; safe_indexing is deprecated in version 0.22 and will be removed in version 0.24.\n",
            "  warnings.warn(msg, category=FutureWarning)\n"
          ],
          "name": "stderr"
        },
        {
          "output_type": "stream",
          "text": [
            "[CV]  clf__C=0.0001, clf__gamma=1e-05, clf__kernel=rbf, scaler=Normalizer(copy=True, norm='l2'), total= 2.5min\n",
            "[CV] clf__C=0.0001, clf__gamma=1e-05, clf__kernel=rbf, scaler=Normalizer(copy=True, norm='l2') \n"
          ],
          "name": "stdout"
        },
        {
          "output_type": "stream",
          "text": [
            "/usr/local/lib/python3.7/dist-packages/sklearn/utils/deprecation.py:87: FutureWarning: Function safe_indexing is deprecated; safe_indexing is deprecated in version 0.22 and will be removed in version 0.24.\n",
            "  warnings.warn(msg, category=FutureWarning)\n"
          ],
          "name": "stderr"
        },
        {
          "output_type": "stream",
          "text": [
            "[CV]  clf__C=0.0001, clf__gamma=1e-05, clf__kernel=rbf, scaler=Normalizer(copy=True, norm='l2'), total= 2.5min\n",
            "[CV] clf__C=0.0001, clf__gamma=0.0001, clf__kernel=rbf, scaler=StandardScaler(copy=True, with_mean=True, with_std=True) \n"
          ],
          "name": "stdout"
        },
        {
          "output_type": "stream",
          "text": [
            "/usr/local/lib/python3.7/dist-packages/sklearn/utils/deprecation.py:87: FutureWarning: Function safe_indexing is deprecated; safe_indexing is deprecated in version 0.22 and will be removed in version 0.24.\n",
            "  warnings.warn(msg, category=FutureWarning)\n"
          ],
          "name": "stderr"
        },
        {
          "output_type": "stream",
          "text": [
            "[CV]  clf__C=0.0001, clf__gamma=0.0001, clf__kernel=rbf, scaler=StandardScaler(copy=True, with_mean=True, with_std=True), total= 2.5min\n",
            "[CV] clf__C=0.0001, clf__gamma=0.0001, clf__kernel=rbf, scaler=StandardScaler(copy=True, with_mean=True, with_std=True) \n"
          ],
          "name": "stdout"
        },
        {
          "output_type": "stream",
          "text": [
            "/usr/local/lib/python3.7/dist-packages/sklearn/utils/deprecation.py:87: FutureWarning: Function safe_indexing is deprecated; safe_indexing is deprecated in version 0.22 and will be removed in version 0.24.\n",
            "  warnings.warn(msg, category=FutureWarning)\n"
          ],
          "name": "stderr"
        },
        {
          "output_type": "stream",
          "text": [
            "[CV]  clf__C=0.0001, clf__gamma=0.0001, clf__kernel=rbf, scaler=StandardScaler(copy=True, with_mean=True, with_std=True), total= 2.5min\n",
            "[CV] clf__C=0.0001, clf__gamma=0.0001, clf__kernel=rbf, scaler=StandardScaler(copy=True, with_mean=True, with_std=True) \n"
          ],
          "name": "stdout"
        },
        {
          "output_type": "stream",
          "text": [
            "/usr/local/lib/python3.7/dist-packages/sklearn/utils/deprecation.py:87: FutureWarning: Function safe_indexing is deprecated; safe_indexing is deprecated in version 0.22 and will be removed in version 0.24.\n",
            "  warnings.warn(msg, category=FutureWarning)\n"
          ],
          "name": "stderr"
        },
        {
          "output_type": "stream",
          "text": [
            "[CV]  clf__C=0.0001, clf__gamma=0.0001, clf__kernel=rbf, scaler=StandardScaler(copy=True, with_mean=True, with_std=True), total= 2.5min\n",
            "[CV] clf__C=0.0001, clf__gamma=0.0001, clf__kernel=rbf, scaler=StandardScaler(copy=True, with_mean=True, with_std=True) \n"
          ],
          "name": "stdout"
        },
        {
          "output_type": "stream",
          "text": [
            "/usr/local/lib/python3.7/dist-packages/sklearn/utils/deprecation.py:87: FutureWarning: Function safe_indexing is deprecated; safe_indexing is deprecated in version 0.22 and will be removed in version 0.24.\n",
            "  warnings.warn(msg, category=FutureWarning)\n"
          ],
          "name": "stderr"
        },
        {
          "output_type": "stream",
          "text": [
            "[CV]  clf__C=0.0001, clf__gamma=0.0001, clf__kernel=rbf, scaler=StandardScaler(copy=True, with_mean=True, with_std=True), total= 2.5min\n",
            "[CV] clf__C=0.0001, clf__gamma=0.0001, clf__kernel=rbf, scaler=StandardScaler(copy=True, with_mean=True, with_std=True) \n"
          ],
          "name": "stdout"
        },
        {
          "output_type": "stream",
          "text": [
            "/usr/local/lib/python3.7/dist-packages/sklearn/utils/deprecation.py:87: FutureWarning: Function safe_indexing is deprecated; safe_indexing is deprecated in version 0.22 and will be removed in version 0.24.\n",
            "  warnings.warn(msg, category=FutureWarning)\n"
          ],
          "name": "stderr"
        },
        {
          "output_type": "stream",
          "text": [
            "[CV]  clf__C=0.0001, clf__gamma=0.0001, clf__kernel=rbf, scaler=StandardScaler(copy=True, with_mean=True, with_std=True), total= 2.5min\n",
            "[CV] clf__C=0.0001, clf__gamma=0.0001, clf__kernel=rbf, scaler=MaxAbsScaler(copy=True) \n"
          ],
          "name": "stdout"
        },
        {
          "output_type": "stream",
          "text": [
            "/usr/local/lib/python3.7/dist-packages/sklearn/utils/deprecation.py:87: FutureWarning: Function safe_indexing is deprecated; safe_indexing is deprecated in version 0.22 and will be removed in version 0.24.\n",
            "  warnings.warn(msg, category=FutureWarning)\n"
          ],
          "name": "stderr"
        },
        {
          "output_type": "stream",
          "text": [
            "[CV]  clf__C=0.0001, clf__gamma=0.0001, clf__kernel=rbf, scaler=MaxAbsScaler(copy=True), total= 2.5min\n",
            "[CV] clf__C=0.0001, clf__gamma=0.0001, clf__kernel=rbf, scaler=MaxAbsScaler(copy=True) \n"
          ],
          "name": "stdout"
        },
        {
          "output_type": "stream",
          "text": [
            "/usr/local/lib/python3.7/dist-packages/sklearn/utils/deprecation.py:87: FutureWarning: Function safe_indexing is deprecated; safe_indexing is deprecated in version 0.22 and will be removed in version 0.24.\n",
            "  warnings.warn(msg, category=FutureWarning)\n"
          ],
          "name": "stderr"
        },
        {
          "output_type": "stream",
          "text": [
            "[CV]  clf__C=0.0001, clf__gamma=0.0001, clf__kernel=rbf, scaler=MaxAbsScaler(copy=True), total= 2.5min\n",
            "[CV] clf__C=0.0001, clf__gamma=0.0001, clf__kernel=rbf, scaler=MaxAbsScaler(copy=True) \n"
          ],
          "name": "stdout"
        },
        {
          "output_type": "stream",
          "text": [
            "/usr/local/lib/python3.7/dist-packages/sklearn/utils/deprecation.py:87: FutureWarning: Function safe_indexing is deprecated; safe_indexing is deprecated in version 0.22 and will be removed in version 0.24.\n",
            "  warnings.warn(msg, category=FutureWarning)\n"
          ],
          "name": "stderr"
        },
        {
          "output_type": "stream",
          "text": [
            "[CV]  clf__C=0.0001, clf__gamma=0.0001, clf__kernel=rbf, scaler=MaxAbsScaler(copy=True), total= 2.5min\n",
            "[CV] clf__C=0.0001, clf__gamma=0.0001, clf__kernel=rbf, scaler=MaxAbsScaler(copy=True) \n"
          ],
          "name": "stdout"
        },
        {
          "output_type": "stream",
          "text": [
            "/usr/local/lib/python3.7/dist-packages/sklearn/utils/deprecation.py:87: FutureWarning: Function safe_indexing is deprecated; safe_indexing is deprecated in version 0.22 and will be removed in version 0.24.\n",
            "  warnings.warn(msg, category=FutureWarning)\n"
          ],
          "name": "stderr"
        },
        {
          "output_type": "stream",
          "text": [
            "[CV]  clf__C=0.0001, clf__gamma=0.0001, clf__kernel=rbf, scaler=MaxAbsScaler(copy=True), total= 2.5min\n",
            "[CV] clf__C=0.0001, clf__gamma=0.0001, clf__kernel=rbf, scaler=MaxAbsScaler(copy=True) \n"
          ],
          "name": "stdout"
        },
        {
          "output_type": "stream",
          "text": [
            "/usr/local/lib/python3.7/dist-packages/sklearn/utils/deprecation.py:87: FutureWarning: Function safe_indexing is deprecated; safe_indexing is deprecated in version 0.22 and will be removed in version 0.24.\n",
            "  warnings.warn(msg, category=FutureWarning)\n"
          ],
          "name": "stderr"
        },
        {
          "output_type": "stream",
          "text": [
            "[CV]  clf__C=0.0001, clf__gamma=0.0001, clf__kernel=rbf, scaler=MaxAbsScaler(copy=True), total= 2.6min\n",
            "[CV] clf__C=0.0001, clf__gamma=0.0001, clf__kernel=rbf, scaler=Normalizer(copy=True, norm='l2') \n"
          ],
          "name": "stdout"
        },
        {
          "output_type": "stream",
          "text": [
            "/usr/local/lib/python3.7/dist-packages/sklearn/utils/deprecation.py:87: FutureWarning: Function safe_indexing is deprecated; safe_indexing is deprecated in version 0.22 and will be removed in version 0.24.\n",
            "  warnings.warn(msg, category=FutureWarning)\n"
          ],
          "name": "stderr"
        },
        {
          "output_type": "stream",
          "text": [
            "[CV]  clf__C=0.0001, clf__gamma=0.0001, clf__kernel=rbf, scaler=Normalizer(copy=True, norm='l2'), total= 2.5min\n",
            "[CV] clf__C=0.0001, clf__gamma=0.0001, clf__kernel=rbf, scaler=Normalizer(copy=True, norm='l2') \n"
          ],
          "name": "stdout"
        },
        {
          "output_type": "stream",
          "text": [
            "/usr/local/lib/python3.7/dist-packages/sklearn/utils/deprecation.py:87: FutureWarning: Function safe_indexing is deprecated; safe_indexing is deprecated in version 0.22 and will be removed in version 0.24.\n",
            "  warnings.warn(msg, category=FutureWarning)\n"
          ],
          "name": "stderr"
        },
        {
          "output_type": "stream",
          "text": [
            "[CV]  clf__C=0.0001, clf__gamma=0.0001, clf__kernel=rbf, scaler=Normalizer(copy=True, norm='l2'), total= 2.5min\n",
            "[CV] clf__C=0.0001, clf__gamma=0.0001, clf__kernel=rbf, scaler=Normalizer(copy=True, norm='l2') \n"
          ],
          "name": "stdout"
        },
        {
          "output_type": "stream",
          "text": [
            "/usr/local/lib/python3.7/dist-packages/sklearn/utils/deprecation.py:87: FutureWarning: Function safe_indexing is deprecated; safe_indexing is deprecated in version 0.22 and will be removed in version 0.24.\n",
            "  warnings.warn(msg, category=FutureWarning)\n"
          ],
          "name": "stderr"
        },
        {
          "output_type": "stream",
          "text": [
            "[CV]  clf__C=0.0001, clf__gamma=0.0001, clf__kernel=rbf, scaler=Normalizer(copy=True, norm='l2'), total= 2.5min\n",
            "[CV] clf__C=0.0001, clf__gamma=0.0001, clf__kernel=rbf, scaler=Normalizer(copy=True, norm='l2') \n"
          ],
          "name": "stdout"
        },
        {
          "output_type": "stream",
          "text": [
            "/usr/local/lib/python3.7/dist-packages/sklearn/utils/deprecation.py:87: FutureWarning: Function safe_indexing is deprecated; safe_indexing is deprecated in version 0.22 and will be removed in version 0.24.\n",
            "  warnings.warn(msg, category=FutureWarning)\n"
          ],
          "name": "stderr"
        },
        {
          "output_type": "stream",
          "text": [
            "[CV]  clf__C=0.0001, clf__gamma=0.0001, clf__kernel=rbf, scaler=Normalizer(copy=True, norm='l2'), total= 2.5min\n",
            "[CV] clf__C=0.0001, clf__gamma=0.0001, clf__kernel=rbf, scaler=Normalizer(copy=True, norm='l2') \n"
          ],
          "name": "stdout"
        },
        {
          "output_type": "stream",
          "text": [
            "/usr/local/lib/python3.7/dist-packages/sklearn/utils/deprecation.py:87: FutureWarning: Function safe_indexing is deprecated; safe_indexing is deprecated in version 0.22 and will be removed in version 0.24.\n",
            "  warnings.warn(msg, category=FutureWarning)\n"
          ],
          "name": "stderr"
        },
        {
          "output_type": "stream",
          "text": [
            "[CV]  clf__C=0.0001, clf__gamma=0.0001, clf__kernel=rbf, scaler=Normalizer(copy=True, norm='l2'), total= 2.5min\n",
            "[CV] clf__C=0.0001, clf__gamma=0.001, clf__kernel=rbf, scaler=StandardScaler(copy=True, with_mean=True, with_std=True) \n"
          ],
          "name": "stdout"
        },
        {
          "output_type": "stream",
          "text": [
            "/usr/local/lib/python3.7/dist-packages/sklearn/utils/deprecation.py:87: FutureWarning: Function safe_indexing is deprecated; safe_indexing is deprecated in version 0.22 and will be removed in version 0.24.\n",
            "  warnings.warn(msg, category=FutureWarning)\n"
          ],
          "name": "stderr"
        },
        {
          "output_type": "stream",
          "text": [
            "[CV]  clf__C=0.0001, clf__gamma=0.001, clf__kernel=rbf, scaler=StandardScaler(copy=True, with_mean=True, with_std=True), total= 2.5min\n",
            "[CV] clf__C=0.0001, clf__gamma=0.001, clf__kernel=rbf, scaler=StandardScaler(copy=True, with_mean=True, with_std=True) \n"
          ],
          "name": "stdout"
        },
        {
          "output_type": "stream",
          "text": [
            "/usr/local/lib/python3.7/dist-packages/sklearn/utils/deprecation.py:87: FutureWarning: Function safe_indexing is deprecated; safe_indexing is deprecated in version 0.22 and will be removed in version 0.24.\n",
            "  warnings.warn(msg, category=FutureWarning)\n"
          ],
          "name": "stderr"
        },
        {
          "output_type": "stream",
          "text": [
            "[CV]  clf__C=0.0001, clf__gamma=0.001, clf__kernel=rbf, scaler=StandardScaler(copy=True, with_mean=True, with_std=True), total= 2.5min\n",
            "[CV] clf__C=0.0001, clf__gamma=0.001, clf__kernel=rbf, scaler=StandardScaler(copy=True, with_mean=True, with_std=True) \n"
          ],
          "name": "stdout"
        },
        {
          "output_type": "stream",
          "text": [
            "/usr/local/lib/python3.7/dist-packages/sklearn/utils/deprecation.py:87: FutureWarning: Function safe_indexing is deprecated; safe_indexing is deprecated in version 0.22 and will be removed in version 0.24.\n",
            "  warnings.warn(msg, category=FutureWarning)\n"
          ],
          "name": "stderr"
        },
        {
          "output_type": "stream",
          "text": [
            "[CV]  clf__C=0.0001, clf__gamma=0.001, clf__kernel=rbf, scaler=StandardScaler(copy=True, with_mean=True, with_std=True), total= 2.5min\n",
            "[CV] clf__C=0.0001, clf__gamma=0.001, clf__kernel=rbf, scaler=StandardScaler(copy=True, with_mean=True, with_std=True) \n"
          ],
          "name": "stdout"
        },
        {
          "output_type": "stream",
          "text": [
            "/usr/local/lib/python3.7/dist-packages/sklearn/utils/deprecation.py:87: FutureWarning: Function safe_indexing is deprecated; safe_indexing is deprecated in version 0.22 and will be removed in version 0.24.\n",
            "  warnings.warn(msg, category=FutureWarning)\n"
          ],
          "name": "stderr"
        },
        {
          "output_type": "stream",
          "text": [
            "[CV]  clf__C=0.0001, clf__gamma=0.001, clf__kernel=rbf, scaler=StandardScaler(copy=True, with_mean=True, with_std=True), total= 2.5min\n",
            "[CV] clf__C=0.0001, clf__gamma=0.001, clf__kernel=rbf, scaler=StandardScaler(copy=True, with_mean=True, with_std=True) \n"
          ],
          "name": "stdout"
        },
        {
          "output_type": "stream",
          "text": [
            "/usr/local/lib/python3.7/dist-packages/sklearn/utils/deprecation.py:87: FutureWarning: Function safe_indexing is deprecated; safe_indexing is deprecated in version 0.22 and will be removed in version 0.24.\n",
            "  warnings.warn(msg, category=FutureWarning)\n"
          ],
          "name": "stderr"
        },
        {
          "output_type": "stream",
          "text": [
            "[CV]  clf__C=0.0001, clf__gamma=0.001, clf__kernel=rbf, scaler=StandardScaler(copy=True, with_mean=True, with_std=True), total= 2.5min\n",
            "[CV] clf__C=0.0001, clf__gamma=0.001, clf__kernel=rbf, scaler=MaxAbsScaler(copy=True) \n"
          ],
          "name": "stdout"
        },
        {
          "output_type": "stream",
          "text": [
            "/usr/local/lib/python3.7/dist-packages/sklearn/utils/deprecation.py:87: FutureWarning: Function safe_indexing is deprecated; safe_indexing is deprecated in version 0.22 and will be removed in version 0.24.\n",
            "  warnings.warn(msg, category=FutureWarning)\n"
          ],
          "name": "stderr"
        },
        {
          "output_type": "stream",
          "text": [
            "[CV]  clf__C=0.0001, clf__gamma=0.001, clf__kernel=rbf, scaler=MaxAbsScaler(copy=True), total= 2.5min\n",
            "[CV] clf__C=0.0001, clf__gamma=0.001, clf__kernel=rbf, scaler=MaxAbsScaler(copy=True) \n"
          ],
          "name": "stdout"
        },
        {
          "output_type": "stream",
          "text": [
            "/usr/local/lib/python3.7/dist-packages/sklearn/utils/deprecation.py:87: FutureWarning: Function safe_indexing is deprecated; safe_indexing is deprecated in version 0.22 and will be removed in version 0.24.\n",
            "  warnings.warn(msg, category=FutureWarning)\n"
          ],
          "name": "stderr"
        },
        {
          "output_type": "stream",
          "text": [
            "[CV]  clf__C=0.0001, clf__gamma=0.001, clf__kernel=rbf, scaler=MaxAbsScaler(copy=True), total= 2.5min\n",
            "[CV] clf__C=0.0001, clf__gamma=0.001, clf__kernel=rbf, scaler=MaxAbsScaler(copy=True) \n"
          ],
          "name": "stdout"
        },
        {
          "output_type": "stream",
          "text": [
            "/usr/local/lib/python3.7/dist-packages/sklearn/utils/deprecation.py:87: FutureWarning: Function safe_indexing is deprecated; safe_indexing is deprecated in version 0.22 and will be removed in version 0.24.\n",
            "  warnings.warn(msg, category=FutureWarning)\n"
          ],
          "name": "stderr"
        },
        {
          "output_type": "stream",
          "text": [
            "[CV]  clf__C=0.0001, clf__gamma=0.001, clf__kernel=rbf, scaler=MaxAbsScaler(copy=True), total= 2.5min\n",
            "[CV] clf__C=0.0001, clf__gamma=0.001, clf__kernel=rbf, scaler=MaxAbsScaler(copy=True) \n"
          ],
          "name": "stdout"
        },
        {
          "output_type": "stream",
          "text": [
            "/usr/local/lib/python3.7/dist-packages/sklearn/utils/deprecation.py:87: FutureWarning: Function safe_indexing is deprecated; safe_indexing is deprecated in version 0.22 and will be removed in version 0.24.\n",
            "  warnings.warn(msg, category=FutureWarning)\n"
          ],
          "name": "stderr"
        },
        {
          "output_type": "stream",
          "text": [
            "[CV]  clf__C=0.0001, clf__gamma=0.001, clf__kernel=rbf, scaler=MaxAbsScaler(copy=True), total= 2.5min\n",
            "[CV] clf__C=0.0001, clf__gamma=0.001, clf__kernel=rbf, scaler=MaxAbsScaler(copy=True) \n"
          ],
          "name": "stdout"
        },
        {
          "output_type": "stream",
          "text": [
            "/usr/local/lib/python3.7/dist-packages/sklearn/utils/deprecation.py:87: FutureWarning: Function safe_indexing is deprecated; safe_indexing is deprecated in version 0.22 and will be removed in version 0.24.\n",
            "  warnings.warn(msg, category=FutureWarning)\n"
          ],
          "name": "stderr"
        },
        {
          "output_type": "stream",
          "text": [
            "[CV]  clf__C=0.0001, clf__gamma=0.001, clf__kernel=rbf, scaler=MaxAbsScaler(copy=True), total= 2.5min\n",
            "[CV] clf__C=0.0001, clf__gamma=0.001, clf__kernel=rbf, scaler=Normalizer(copy=True, norm='l2') \n"
          ],
          "name": "stdout"
        },
        {
          "output_type": "stream",
          "text": [
            "/usr/local/lib/python3.7/dist-packages/sklearn/utils/deprecation.py:87: FutureWarning: Function safe_indexing is deprecated; safe_indexing is deprecated in version 0.22 and will be removed in version 0.24.\n",
            "  warnings.warn(msg, category=FutureWarning)\n"
          ],
          "name": "stderr"
        },
        {
          "output_type": "stream",
          "text": [
            "[CV]  clf__C=0.0001, clf__gamma=0.001, clf__kernel=rbf, scaler=Normalizer(copy=True, norm='l2'), total= 2.5min\n",
            "[CV] clf__C=0.0001, clf__gamma=0.001, clf__kernel=rbf, scaler=Normalizer(copy=True, norm='l2') \n"
          ],
          "name": "stdout"
        },
        {
          "output_type": "stream",
          "text": [
            "/usr/local/lib/python3.7/dist-packages/sklearn/utils/deprecation.py:87: FutureWarning: Function safe_indexing is deprecated; safe_indexing is deprecated in version 0.22 and will be removed in version 0.24.\n",
            "  warnings.warn(msg, category=FutureWarning)\n"
          ],
          "name": "stderr"
        },
        {
          "output_type": "stream",
          "text": [
            "[CV]  clf__C=0.0001, clf__gamma=0.001, clf__kernel=rbf, scaler=Normalizer(copy=True, norm='l2'), total= 2.5min\n",
            "[CV] clf__C=0.0001, clf__gamma=0.001, clf__kernel=rbf, scaler=Normalizer(copy=True, norm='l2') \n"
          ],
          "name": "stdout"
        },
        {
          "output_type": "stream",
          "text": [
            "/usr/local/lib/python3.7/dist-packages/sklearn/utils/deprecation.py:87: FutureWarning: Function safe_indexing is deprecated; safe_indexing is deprecated in version 0.22 and will be removed in version 0.24.\n",
            "  warnings.warn(msg, category=FutureWarning)\n"
          ],
          "name": "stderr"
        },
        {
          "output_type": "stream",
          "text": [
            "[CV]  clf__C=0.0001, clf__gamma=0.001, clf__kernel=rbf, scaler=Normalizer(copy=True, norm='l2'), total= 2.5min\n",
            "[CV] clf__C=0.0001, clf__gamma=0.001, clf__kernel=rbf, scaler=Normalizer(copy=True, norm='l2') \n"
          ],
          "name": "stdout"
        },
        {
          "output_type": "stream",
          "text": [
            "/usr/local/lib/python3.7/dist-packages/sklearn/utils/deprecation.py:87: FutureWarning: Function safe_indexing is deprecated; safe_indexing is deprecated in version 0.22 and will be removed in version 0.24.\n",
            "  warnings.warn(msg, category=FutureWarning)\n"
          ],
          "name": "stderr"
        },
        {
          "output_type": "stream",
          "text": [
            "[CV]  clf__C=0.0001, clf__gamma=0.001, clf__kernel=rbf, scaler=Normalizer(copy=True, norm='l2'), total= 2.5min\n",
            "[CV] clf__C=0.0001, clf__gamma=0.001, clf__kernel=rbf, scaler=Normalizer(copy=True, norm='l2') \n"
          ],
          "name": "stdout"
        },
        {
          "output_type": "stream",
          "text": [
            "/usr/local/lib/python3.7/dist-packages/sklearn/utils/deprecation.py:87: FutureWarning: Function safe_indexing is deprecated; safe_indexing is deprecated in version 0.22 and will be removed in version 0.24.\n",
            "  warnings.warn(msg, category=FutureWarning)\n"
          ],
          "name": "stderr"
        },
        {
          "output_type": "stream",
          "text": [
            "[CV]  clf__C=0.0001, clf__gamma=0.001, clf__kernel=rbf, scaler=Normalizer(copy=True, norm='l2'), total= 2.5min\n",
            "[CV] clf__C=0.001, clf__gamma=1e-05, clf__kernel=rbf, scaler=StandardScaler(copy=True, with_mean=True, with_std=True) \n"
          ],
          "name": "stdout"
        },
        {
          "output_type": "stream",
          "text": [
            "/usr/local/lib/python3.7/dist-packages/sklearn/utils/deprecation.py:87: FutureWarning: Function safe_indexing is deprecated; safe_indexing is deprecated in version 0.22 and will be removed in version 0.24.\n",
            "  warnings.warn(msg, category=FutureWarning)\n"
          ],
          "name": "stderr"
        },
        {
          "output_type": "stream",
          "text": [
            "[CV]  clf__C=0.001, clf__gamma=1e-05, clf__kernel=rbf, scaler=StandardScaler(copy=True, with_mean=True, with_std=True), total= 2.5min\n",
            "[CV] clf__C=0.001, clf__gamma=1e-05, clf__kernel=rbf, scaler=StandardScaler(copy=True, with_mean=True, with_std=True) \n"
          ],
          "name": "stdout"
        },
        {
          "output_type": "stream",
          "text": [
            "/usr/local/lib/python3.7/dist-packages/sklearn/utils/deprecation.py:87: FutureWarning: Function safe_indexing is deprecated; safe_indexing is deprecated in version 0.22 and will be removed in version 0.24.\n",
            "  warnings.warn(msg, category=FutureWarning)\n"
          ],
          "name": "stderr"
        },
        {
          "output_type": "stream",
          "text": [
            "[CV]  clf__C=0.001, clf__gamma=1e-05, clf__kernel=rbf, scaler=StandardScaler(copy=True, with_mean=True, with_std=True), total= 2.5min\n",
            "[CV] clf__C=0.001, clf__gamma=1e-05, clf__kernel=rbf, scaler=StandardScaler(copy=True, with_mean=True, with_std=True) \n"
          ],
          "name": "stdout"
        },
        {
          "output_type": "stream",
          "text": [
            "/usr/local/lib/python3.7/dist-packages/sklearn/utils/deprecation.py:87: FutureWarning: Function safe_indexing is deprecated; safe_indexing is deprecated in version 0.22 and will be removed in version 0.24.\n",
            "  warnings.warn(msg, category=FutureWarning)\n"
          ],
          "name": "stderr"
        },
        {
          "output_type": "stream",
          "text": [
            "[CV]  clf__C=0.001, clf__gamma=1e-05, clf__kernel=rbf, scaler=StandardScaler(copy=True, with_mean=True, with_std=True), total= 2.5min\n",
            "[CV] clf__C=0.001, clf__gamma=1e-05, clf__kernel=rbf, scaler=StandardScaler(copy=True, with_mean=True, with_std=True) \n"
          ],
          "name": "stdout"
        },
        {
          "output_type": "stream",
          "text": [
            "/usr/local/lib/python3.7/dist-packages/sklearn/utils/deprecation.py:87: FutureWarning: Function safe_indexing is deprecated; safe_indexing is deprecated in version 0.22 and will be removed in version 0.24.\n",
            "  warnings.warn(msg, category=FutureWarning)\n"
          ],
          "name": "stderr"
        },
        {
          "output_type": "stream",
          "text": [
            "[CV]  clf__C=0.001, clf__gamma=1e-05, clf__kernel=rbf, scaler=StandardScaler(copy=True, with_mean=True, with_std=True), total= 2.5min\n",
            "[CV] clf__C=0.001, clf__gamma=1e-05, clf__kernel=rbf, scaler=StandardScaler(copy=True, with_mean=True, with_std=True) \n"
          ],
          "name": "stdout"
        },
        {
          "output_type": "stream",
          "text": [
            "/usr/local/lib/python3.7/dist-packages/sklearn/utils/deprecation.py:87: FutureWarning: Function safe_indexing is deprecated; safe_indexing is deprecated in version 0.22 and will be removed in version 0.24.\n",
            "  warnings.warn(msg, category=FutureWarning)\n"
          ],
          "name": "stderr"
        },
        {
          "output_type": "stream",
          "text": [
            "[CV]  clf__C=0.001, clf__gamma=1e-05, clf__kernel=rbf, scaler=StandardScaler(copy=True, with_mean=True, with_std=True), total= 2.5min\n",
            "[CV] clf__C=0.001, clf__gamma=1e-05, clf__kernel=rbf, scaler=MaxAbsScaler(copy=True) \n"
          ],
          "name": "stdout"
        },
        {
          "output_type": "stream",
          "text": [
            "/usr/local/lib/python3.7/dist-packages/sklearn/utils/deprecation.py:87: FutureWarning: Function safe_indexing is deprecated; safe_indexing is deprecated in version 0.22 and will be removed in version 0.24.\n",
            "  warnings.warn(msg, category=FutureWarning)\n"
          ],
          "name": "stderr"
        },
        {
          "output_type": "stream",
          "text": [
            "[CV]  clf__C=0.001, clf__gamma=1e-05, clf__kernel=rbf, scaler=MaxAbsScaler(copy=True), total= 2.5min\n",
            "[CV] clf__C=0.001, clf__gamma=1e-05, clf__kernel=rbf, scaler=MaxAbsScaler(copy=True) \n"
          ],
          "name": "stdout"
        },
        {
          "output_type": "stream",
          "text": [
            "/usr/local/lib/python3.7/dist-packages/sklearn/utils/deprecation.py:87: FutureWarning: Function safe_indexing is deprecated; safe_indexing is deprecated in version 0.22 and will be removed in version 0.24.\n",
            "  warnings.warn(msg, category=FutureWarning)\n"
          ],
          "name": "stderr"
        },
        {
          "output_type": "stream",
          "text": [
            "[CV]  clf__C=0.001, clf__gamma=1e-05, clf__kernel=rbf, scaler=MaxAbsScaler(copy=True), total= 2.5min\n",
            "[CV] clf__C=0.001, clf__gamma=1e-05, clf__kernel=rbf, scaler=MaxAbsScaler(copy=True) \n"
          ],
          "name": "stdout"
        },
        {
          "output_type": "stream",
          "text": [
            "/usr/local/lib/python3.7/dist-packages/sklearn/utils/deprecation.py:87: FutureWarning: Function safe_indexing is deprecated; safe_indexing is deprecated in version 0.22 and will be removed in version 0.24.\n",
            "  warnings.warn(msg, category=FutureWarning)\n"
          ],
          "name": "stderr"
        },
        {
          "output_type": "stream",
          "text": [
            "[CV]  clf__C=0.001, clf__gamma=1e-05, clf__kernel=rbf, scaler=MaxAbsScaler(copy=True), total= 2.5min\n",
            "[CV] clf__C=0.001, clf__gamma=1e-05, clf__kernel=rbf, scaler=MaxAbsScaler(copy=True) \n"
          ],
          "name": "stdout"
        },
        {
          "output_type": "stream",
          "text": [
            "/usr/local/lib/python3.7/dist-packages/sklearn/utils/deprecation.py:87: FutureWarning: Function safe_indexing is deprecated; safe_indexing is deprecated in version 0.22 and will be removed in version 0.24.\n",
            "  warnings.warn(msg, category=FutureWarning)\n"
          ],
          "name": "stderr"
        },
        {
          "output_type": "stream",
          "text": [
            "[CV]  clf__C=0.001, clf__gamma=1e-05, clf__kernel=rbf, scaler=MaxAbsScaler(copy=True), total= 2.5min\n",
            "[CV] clf__C=0.001, clf__gamma=1e-05, clf__kernel=rbf, scaler=MaxAbsScaler(copy=True) \n"
          ],
          "name": "stdout"
        },
        {
          "output_type": "stream",
          "text": [
            "/usr/local/lib/python3.7/dist-packages/sklearn/utils/deprecation.py:87: FutureWarning: Function safe_indexing is deprecated; safe_indexing is deprecated in version 0.22 and will be removed in version 0.24.\n",
            "  warnings.warn(msg, category=FutureWarning)\n"
          ],
          "name": "stderr"
        },
        {
          "output_type": "stream",
          "text": [
            "[CV]  clf__C=0.001, clf__gamma=1e-05, clf__kernel=rbf, scaler=MaxAbsScaler(copy=True), total= 2.5min\n",
            "[CV] clf__C=0.001, clf__gamma=1e-05, clf__kernel=rbf, scaler=Normalizer(copy=True, norm='l2') \n"
          ],
          "name": "stdout"
        },
        {
          "output_type": "stream",
          "text": [
            "/usr/local/lib/python3.7/dist-packages/sklearn/utils/deprecation.py:87: FutureWarning: Function safe_indexing is deprecated; safe_indexing is deprecated in version 0.22 and will be removed in version 0.24.\n",
            "  warnings.warn(msg, category=FutureWarning)\n"
          ],
          "name": "stderr"
        },
        {
          "output_type": "stream",
          "text": [
            "[CV]  clf__C=0.001, clf__gamma=1e-05, clf__kernel=rbf, scaler=Normalizer(copy=True, norm='l2'), total= 2.5min\n",
            "[CV] clf__C=0.001, clf__gamma=1e-05, clf__kernel=rbf, scaler=Normalizer(copy=True, norm='l2') \n"
          ],
          "name": "stdout"
        },
        {
          "output_type": "stream",
          "text": [
            "/usr/local/lib/python3.7/dist-packages/sklearn/utils/deprecation.py:87: FutureWarning: Function safe_indexing is deprecated; safe_indexing is deprecated in version 0.22 and will be removed in version 0.24.\n",
            "  warnings.warn(msg, category=FutureWarning)\n"
          ],
          "name": "stderr"
        },
        {
          "output_type": "stream",
          "text": [
            "[CV]  clf__C=0.001, clf__gamma=1e-05, clf__kernel=rbf, scaler=Normalizer(copy=True, norm='l2'), total= 2.5min\n",
            "[CV] clf__C=0.001, clf__gamma=1e-05, clf__kernel=rbf, scaler=Normalizer(copy=True, norm='l2') \n"
          ],
          "name": "stdout"
        },
        {
          "output_type": "stream",
          "text": [
            "/usr/local/lib/python3.7/dist-packages/sklearn/utils/deprecation.py:87: FutureWarning: Function safe_indexing is deprecated; safe_indexing is deprecated in version 0.22 and will be removed in version 0.24.\n",
            "  warnings.warn(msg, category=FutureWarning)\n"
          ],
          "name": "stderr"
        },
        {
          "output_type": "stream",
          "text": [
            "[CV]  clf__C=0.001, clf__gamma=1e-05, clf__kernel=rbf, scaler=Normalizer(copy=True, norm='l2'), total= 2.5min\n",
            "[CV] clf__C=0.001, clf__gamma=1e-05, clf__kernel=rbf, scaler=Normalizer(copy=True, norm='l2') \n"
          ],
          "name": "stdout"
        },
        {
          "output_type": "stream",
          "text": [
            "/usr/local/lib/python3.7/dist-packages/sklearn/utils/deprecation.py:87: FutureWarning: Function safe_indexing is deprecated; safe_indexing is deprecated in version 0.22 and will be removed in version 0.24.\n",
            "  warnings.warn(msg, category=FutureWarning)\n"
          ],
          "name": "stderr"
        },
        {
          "output_type": "stream",
          "text": [
            "[CV]  clf__C=0.001, clf__gamma=1e-05, clf__kernel=rbf, scaler=Normalizer(copy=True, norm='l2'), total= 2.5min\n",
            "[CV] clf__C=0.001, clf__gamma=1e-05, clf__kernel=rbf, scaler=Normalizer(copy=True, norm='l2') \n"
          ],
          "name": "stdout"
        },
        {
          "output_type": "stream",
          "text": [
            "/usr/local/lib/python3.7/dist-packages/sklearn/utils/deprecation.py:87: FutureWarning: Function safe_indexing is deprecated; safe_indexing is deprecated in version 0.22 and will be removed in version 0.24.\n",
            "  warnings.warn(msg, category=FutureWarning)\n"
          ],
          "name": "stderr"
        },
        {
          "output_type": "stream",
          "text": [
            "[CV]  clf__C=0.001, clf__gamma=1e-05, clf__kernel=rbf, scaler=Normalizer(copy=True, norm='l2'), total= 2.5min\n",
            "[CV] clf__C=0.001, clf__gamma=0.0001, clf__kernel=rbf, scaler=StandardScaler(copy=True, with_mean=True, with_std=True) \n"
          ],
          "name": "stdout"
        },
        {
          "output_type": "stream",
          "text": [
            "/usr/local/lib/python3.7/dist-packages/sklearn/utils/deprecation.py:87: FutureWarning: Function safe_indexing is deprecated; safe_indexing is deprecated in version 0.22 and will be removed in version 0.24.\n",
            "  warnings.warn(msg, category=FutureWarning)\n"
          ],
          "name": "stderr"
        },
        {
          "output_type": "stream",
          "text": [
            "[CV]  clf__C=0.001, clf__gamma=0.0001, clf__kernel=rbf, scaler=StandardScaler(copy=True, with_mean=True, with_std=True), total= 2.5min\n",
            "[CV] clf__C=0.001, clf__gamma=0.0001, clf__kernel=rbf, scaler=StandardScaler(copy=True, with_mean=True, with_std=True) \n"
          ],
          "name": "stdout"
        },
        {
          "output_type": "stream",
          "text": [
            "/usr/local/lib/python3.7/dist-packages/sklearn/utils/deprecation.py:87: FutureWarning: Function safe_indexing is deprecated; safe_indexing is deprecated in version 0.22 and will be removed in version 0.24.\n",
            "  warnings.warn(msg, category=FutureWarning)\n"
          ],
          "name": "stderr"
        },
        {
          "output_type": "stream",
          "text": [
            "[CV]  clf__C=0.001, clf__gamma=0.0001, clf__kernel=rbf, scaler=StandardScaler(copy=True, with_mean=True, with_std=True), total= 2.5min\n",
            "[CV] clf__C=0.001, clf__gamma=0.0001, clf__kernel=rbf, scaler=StandardScaler(copy=True, with_mean=True, with_std=True) \n"
          ],
          "name": "stdout"
        },
        {
          "output_type": "stream",
          "text": [
            "/usr/local/lib/python3.7/dist-packages/sklearn/utils/deprecation.py:87: FutureWarning: Function safe_indexing is deprecated; safe_indexing is deprecated in version 0.22 and will be removed in version 0.24.\n",
            "  warnings.warn(msg, category=FutureWarning)\n"
          ],
          "name": "stderr"
        },
        {
          "output_type": "stream",
          "text": [
            "[CV]  clf__C=0.001, clf__gamma=0.0001, clf__kernel=rbf, scaler=StandardScaler(copy=True, with_mean=True, with_std=True), total= 2.5min\n",
            "[CV] clf__C=0.001, clf__gamma=0.0001, clf__kernel=rbf, scaler=StandardScaler(copy=True, with_mean=True, with_std=True) \n"
          ],
          "name": "stdout"
        },
        {
          "output_type": "stream",
          "text": [
            "/usr/local/lib/python3.7/dist-packages/sklearn/utils/deprecation.py:87: FutureWarning: Function safe_indexing is deprecated; safe_indexing is deprecated in version 0.22 and will be removed in version 0.24.\n",
            "  warnings.warn(msg, category=FutureWarning)\n"
          ],
          "name": "stderr"
        },
        {
          "output_type": "stream",
          "text": [
            "[CV]  clf__C=0.001, clf__gamma=0.0001, clf__kernel=rbf, scaler=StandardScaler(copy=True, with_mean=True, with_std=True), total= 2.5min\n",
            "[CV] clf__C=0.001, clf__gamma=0.0001, clf__kernel=rbf, scaler=StandardScaler(copy=True, with_mean=True, with_std=True) \n"
          ],
          "name": "stdout"
        },
        {
          "output_type": "stream",
          "text": [
            "/usr/local/lib/python3.7/dist-packages/sklearn/utils/deprecation.py:87: FutureWarning: Function safe_indexing is deprecated; safe_indexing is deprecated in version 0.22 and will be removed in version 0.24.\n",
            "  warnings.warn(msg, category=FutureWarning)\n"
          ],
          "name": "stderr"
        },
        {
          "output_type": "stream",
          "text": [
            "[CV]  clf__C=0.001, clf__gamma=0.0001, clf__kernel=rbf, scaler=StandardScaler(copy=True, with_mean=True, with_std=True), total= 2.5min\n",
            "[CV] clf__C=0.001, clf__gamma=0.0001, clf__kernel=rbf, scaler=MaxAbsScaler(copy=True) \n"
          ],
          "name": "stdout"
        },
        {
          "output_type": "stream",
          "text": [
            "/usr/local/lib/python3.7/dist-packages/sklearn/utils/deprecation.py:87: FutureWarning: Function safe_indexing is deprecated; safe_indexing is deprecated in version 0.22 and will be removed in version 0.24.\n",
            "  warnings.warn(msg, category=FutureWarning)\n"
          ],
          "name": "stderr"
        },
        {
          "output_type": "stream",
          "text": [
            "[CV]  clf__C=0.001, clf__gamma=0.0001, clf__kernel=rbf, scaler=MaxAbsScaler(copy=True), total= 2.5min\n",
            "[CV] clf__C=0.001, clf__gamma=0.0001, clf__kernel=rbf, scaler=MaxAbsScaler(copy=True) \n"
          ],
          "name": "stdout"
        },
        {
          "output_type": "stream",
          "text": [
            "/usr/local/lib/python3.7/dist-packages/sklearn/utils/deprecation.py:87: FutureWarning: Function safe_indexing is deprecated; safe_indexing is deprecated in version 0.22 and will be removed in version 0.24.\n",
            "  warnings.warn(msg, category=FutureWarning)\n"
          ],
          "name": "stderr"
        },
        {
          "output_type": "stream",
          "text": [
            "[CV]  clf__C=0.001, clf__gamma=0.0001, clf__kernel=rbf, scaler=MaxAbsScaler(copy=True), total= 2.5min\n",
            "[CV] clf__C=0.001, clf__gamma=0.0001, clf__kernel=rbf, scaler=MaxAbsScaler(copy=True) \n"
          ],
          "name": "stdout"
        },
        {
          "output_type": "stream",
          "text": [
            "/usr/local/lib/python3.7/dist-packages/sklearn/utils/deprecation.py:87: FutureWarning: Function safe_indexing is deprecated; safe_indexing is deprecated in version 0.22 and will be removed in version 0.24.\n",
            "  warnings.warn(msg, category=FutureWarning)\n"
          ],
          "name": "stderr"
        },
        {
          "output_type": "stream",
          "text": [
            "[CV]  clf__C=0.001, clf__gamma=0.0001, clf__kernel=rbf, scaler=MaxAbsScaler(copy=True), total= 2.5min\n",
            "[CV] clf__C=0.001, clf__gamma=0.0001, clf__kernel=rbf, scaler=MaxAbsScaler(copy=True) \n"
          ],
          "name": "stdout"
        },
        {
          "output_type": "stream",
          "text": [
            "/usr/local/lib/python3.7/dist-packages/sklearn/utils/deprecation.py:87: FutureWarning: Function safe_indexing is deprecated; safe_indexing is deprecated in version 0.22 and will be removed in version 0.24.\n",
            "  warnings.warn(msg, category=FutureWarning)\n"
          ],
          "name": "stderr"
        },
        {
          "output_type": "stream",
          "text": [
            "[CV]  clf__C=0.001, clf__gamma=0.0001, clf__kernel=rbf, scaler=MaxAbsScaler(copy=True), total= 2.5min\n",
            "[CV] clf__C=0.001, clf__gamma=0.0001, clf__kernel=rbf, scaler=MaxAbsScaler(copy=True) \n"
          ],
          "name": "stdout"
        },
        {
          "output_type": "stream",
          "text": [
            "/usr/local/lib/python3.7/dist-packages/sklearn/utils/deprecation.py:87: FutureWarning: Function safe_indexing is deprecated; safe_indexing is deprecated in version 0.22 and will be removed in version 0.24.\n",
            "  warnings.warn(msg, category=FutureWarning)\n"
          ],
          "name": "stderr"
        },
        {
          "output_type": "stream",
          "text": [
            "[CV]  clf__C=0.001, clf__gamma=0.0001, clf__kernel=rbf, scaler=MaxAbsScaler(copy=True), total= 2.5min\n",
            "[CV] clf__C=0.001, clf__gamma=0.0001, clf__kernel=rbf, scaler=Normalizer(copy=True, norm='l2') \n"
          ],
          "name": "stdout"
        },
        {
          "output_type": "stream",
          "text": [
            "/usr/local/lib/python3.7/dist-packages/sklearn/utils/deprecation.py:87: FutureWarning: Function safe_indexing is deprecated; safe_indexing is deprecated in version 0.22 and will be removed in version 0.24.\n",
            "  warnings.warn(msg, category=FutureWarning)\n"
          ],
          "name": "stderr"
        },
        {
          "output_type": "stream",
          "text": [
            "[CV]  clf__C=0.001, clf__gamma=0.0001, clf__kernel=rbf, scaler=Normalizer(copy=True, norm='l2'), total= 2.5min\n",
            "[CV] clf__C=0.001, clf__gamma=0.0001, clf__kernel=rbf, scaler=Normalizer(copy=True, norm='l2') \n"
          ],
          "name": "stdout"
        },
        {
          "output_type": "stream",
          "text": [
            "/usr/local/lib/python3.7/dist-packages/sklearn/utils/deprecation.py:87: FutureWarning: Function safe_indexing is deprecated; safe_indexing is deprecated in version 0.22 and will be removed in version 0.24.\n",
            "  warnings.warn(msg, category=FutureWarning)\n"
          ],
          "name": "stderr"
        },
        {
          "output_type": "stream",
          "text": [
            "[CV]  clf__C=0.001, clf__gamma=0.0001, clf__kernel=rbf, scaler=Normalizer(copy=True, norm='l2'), total= 2.5min\n",
            "[CV] clf__C=0.001, clf__gamma=0.0001, clf__kernel=rbf, scaler=Normalizer(copy=True, norm='l2') \n"
          ],
          "name": "stdout"
        },
        {
          "output_type": "stream",
          "text": [
            "/usr/local/lib/python3.7/dist-packages/sklearn/utils/deprecation.py:87: FutureWarning: Function safe_indexing is deprecated; safe_indexing is deprecated in version 0.22 and will be removed in version 0.24.\n",
            "  warnings.warn(msg, category=FutureWarning)\n"
          ],
          "name": "stderr"
        },
        {
          "output_type": "stream",
          "text": [
            "[CV]  clf__C=0.001, clf__gamma=0.0001, clf__kernel=rbf, scaler=Normalizer(copy=True, norm='l2'), total= 2.5min\n",
            "[CV] clf__C=0.001, clf__gamma=0.0001, clf__kernel=rbf, scaler=Normalizer(copy=True, norm='l2') \n"
          ],
          "name": "stdout"
        },
        {
          "output_type": "stream",
          "text": [
            "/usr/local/lib/python3.7/dist-packages/sklearn/utils/deprecation.py:87: FutureWarning: Function safe_indexing is deprecated; safe_indexing is deprecated in version 0.22 and will be removed in version 0.24.\n",
            "  warnings.warn(msg, category=FutureWarning)\n"
          ],
          "name": "stderr"
        },
        {
          "output_type": "stream",
          "text": [
            "[CV]  clf__C=0.001, clf__gamma=0.0001, clf__kernel=rbf, scaler=Normalizer(copy=True, norm='l2'), total= 2.5min\n",
            "[CV] clf__C=0.001, clf__gamma=0.0001, clf__kernel=rbf, scaler=Normalizer(copy=True, norm='l2') \n"
          ],
          "name": "stdout"
        },
        {
          "output_type": "stream",
          "text": [
            "/usr/local/lib/python3.7/dist-packages/sklearn/utils/deprecation.py:87: FutureWarning: Function safe_indexing is deprecated; safe_indexing is deprecated in version 0.22 and will be removed in version 0.24.\n",
            "  warnings.warn(msg, category=FutureWarning)\n"
          ],
          "name": "stderr"
        },
        {
          "output_type": "stream",
          "text": [
            "[CV]  clf__C=0.001, clf__gamma=0.0001, clf__kernel=rbf, scaler=Normalizer(copy=True, norm='l2'), total= 2.5min\n",
            "[CV] clf__C=0.001, clf__gamma=0.001, clf__kernel=rbf, scaler=StandardScaler(copy=True, with_mean=True, with_std=True) \n"
          ],
          "name": "stdout"
        },
        {
          "output_type": "stream",
          "text": [
            "/usr/local/lib/python3.7/dist-packages/sklearn/utils/deprecation.py:87: FutureWarning: Function safe_indexing is deprecated; safe_indexing is deprecated in version 0.22 and will be removed in version 0.24.\n",
            "  warnings.warn(msg, category=FutureWarning)\n"
          ],
          "name": "stderr"
        },
        {
          "output_type": "stream",
          "text": [
            "[CV]  clf__C=0.001, clf__gamma=0.001, clf__kernel=rbf, scaler=StandardScaler(copy=True, with_mean=True, with_std=True), total= 2.5min\n",
            "[CV] clf__C=0.001, clf__gamma=0.001, clf__kernel=rbf, scaler=StandardScaler(copy=True, with_mean=True, with_std=True) \n"
          ],
          "name": "stdout"
        },
        {
          "output_type": "stream",
          "text": [
            "/usr/local/lib/python3.7/dist-packages/sklearn/utils/deprecation.py:87: FutureWarning: Function safe_indexing is deprecated; safe_indexing is deprecated in version 0.22 and will be removed in version 0.24.\n",
            "  warnings.warn(msg, category=FutureWarning)\n"
          ],
          "name": "stderr"
        },
        {
          "output_type": "stream",
          "text": [
            "[CV]  clf__C=0.001, clf__gamma=0.001, clf__kernel=rbf, scaler=StandardScaler(copy=True, with_mean=True, with_std=True), total= 2.5min\n",
            "[CV] clf__C=0.001, clf__gamma=0.001, clf__kernel=rbf, scaler=StandardScaler(copy=True, with_mean=True, with_std=True) \n"
          ],
          "name": "stdout"
        },
        {
          "output_type": "stream",
          "text": [
            "/usr/local/lib/python3.7/dist-packages/sklearn/utils/deprecation.py:87: FutureWarning: Function safe_indexing is deprecated; safe_indexing is deprecated in version 0.22 and will be removed in version 0.24.\n",
            "  warnings.warn(msg, category=FutureWarning)\n"
          ],
          "name": "stderr"
        },
        {
          "output_type": "stream",
          "text": [
            "[CV]  clf__C=0.001, clf__gamma=0.001, clf__kernel=rbf, scaler=StandardScaler(copy=True, with_mean=True, with_std=True), total= 2.5min\n",
            "[CV] clf__C=0.001, clf__gamma=0.001, clf__kernel=rbf, scaler=StandardScaler(copy=True, with_mean=True, with_std=True) \n"
          ],
          "name": "stdout"
        },
        {
          "output_type": "stream",
          "text": [
            "/usr/local/lib/python3.7/dist-packages/sklearn/utils/deprecation.py:87: FutureWarning: Function safe_indexing is deprecated; safe_indexing is deprecated in version 0.22 and will be removed in version 0.24.\n",
            "  warnings.warn(msg, category=FutureWarning)\n"
          ],
          "name": "stderr"
        },
        {
          "output_type": "stream",
          "text": [
            "[CV]  clf__C=0.001, clf__gamma=0.001, clf__kernel=rbf, scaler=StandardScaler(copy=True, with_mean=True, with_std=True), total= 2.5min\n",
            "[CV] clf__C=0.001, clf__gamma=0.001, clf__kernel=rbf, scaler=StandardScaler(copy=True, with_mean=True, with_std=True) \n"
          ],
          "name": "stdout"
        },
        {
          "output_type": "stream",
          "text": [
            "/usr/local/lib/python3.7/dist-packages/sklearn/utils/deprecation.py:87: FutureWarning: Function safe_indexing is deprecated; safe_indexing is deprecated in version 0.22 and will be removed in version 0.24.\n",
            "  warnings.warn(msg, category=FutureWarning)\n"
          ],
          "name": "stderr"
        },
        {
          "output_type": "stream",
          "text": [
            "[CV]  clf__C=0.001, clf__gamma=0.001, clf__kernel=rbf, scaler=StandardScaler(copy=True, with_mean=True, with_std=True), total= 2.5min\n",
            "[CV] clf__C=0.001, clf__gamma=0.001, clf__kernel=rbf, scaler=MaxAbsScaler(copy=True) \n"
          ],
          "name": "stdout"
        },
        {
          "output_type": "stream",
          "text": [
            "/usr/local/lib/python3.7/dist-packages/sklearn/utils/deprecation.py:87: FutureWarning: Function safe_indexing is deprecated; safe_indexing is deprecated in version 0.22 and will be removed in version 0.24.\n",
            "  warnings.warn(msg, category=FutureWarning)\n"
          ],
          "name": "stderr"
        },
        {
          "output_type": "stream",
          "text": [
            "[CV]  clf__C=0.001, clf__gamma=0.001, clf__kernel=rbf, scaler=MaxAbsScaler(copy=True), total= 2.5min\n",
            "[CV] clf__C=0.001, clf__gamma=0.001, clf__kernel=rbf, scaler=MaxAbsScaler(copy=True) \n"
          ],
          "name": "stdout"
        },
        {
          "output_type": "stream",
          "text": [
            "/usr/local/lib/python3.7/dist-packages/sklearn/utils/deprecation.py:87: FutureWarning: Function safe_indexing is deprecated; safe_indexing is deprecated in version 0.22 and will be removed in version 0.24.\n",
            "  warnings.warn(msg, category=FutureWarning)\n"
          ],
          "name": "stderr"
        },
        {
          "output_type": "stream",
          "text": [
            "[CV]  clf__C=0.001, clf__gamma=0.001, clf__kernel=rbf, scaler=MaxAbsScaler(copy=True), total= 2.5min\n",
            "[CV] clf__C=0.001, clf__gamma=0.001, clf__kernel=rbf, scaler=MaxAbsScaler(copy=True) \n"
          ],
          "name": "stdout"
        },
        {
          "output_type": "stream",
          "text": [
            "/usr/local/lib/python3.7/dist-packages/sklearn/utils/deprecation.py:87: FutureWarning: Function safe_indexing is deprecated; safe_indexing is deprecated in version 0.22 and will be removed in version 0.24.\n",
            "  warnings.warn(msg, category=FutureWarning)\n"
          ],
          "name": "stderr"
        },
        {
          "output_type": "stream",
          "text": [
            "[CV]  clf__C=0.001, clf__gamma=0.001, clf__kernel=rbf, scaler=MaxAbsScaler(copy=True), total= 2.5min\n",
            "[CV] clf__C=0.001, clf__gamma=0.001, clf__kernel=rbf, scaler=MaxAbsScaler(copy=True) \n"
          ],
          "name": "stdout"
        },
        {
          "output_type": "stream",
          "text": [
            "/usr/local/lib/python3.7/dist-packages/sklearn/utils/deprecation.py:87: FutureWarning: Function safe_indexing is deprecated; safe_indexing is deprecated in version 0.22 and will be removed in version 0.24.\n",
            "  warnings.warn(msg, category=FutureWarning)\n"
          ],
          "name": "stderr"
        },
        {
          "output_type": "stream",
          "text": [
            "[CV]  clf__C=0.001, clf__gamma=0.001, clf__kernel=rbf, scaler=MaxAbsScaler(copy=True), total= 2.5min\n",
            "[CV] clf__C=0.001, clf__gamma=0.001, clf__kernel=rbf, scaler=MaxAbsScaler(copy=True) \n"
          ],
          "name": "stdout"
        },
        {
          "output_type": "stream",
          "text": [
            "/usr/local/lib/python3.7/dist-packages/sklearn/utils/deprecation.py:87: FutureWarning: Function safe_indexing is deprecated; safe_indexing is deprecated in version 0.22 and will be removed in version 0.24.\n",
            "  warnings.warn(msg, category=FutureWarning)\n"
          ],
          "name": "stderr"
        },
        {
          "output_type": "stream",
          "text": [
            "[CV]  clf__C=0.001, clf__gamma=0.001, clf__kernel=rbf, scaler=MaxAbsScaler(copy=True), total= 2.5min\n",
            "[CV] clf__C=0.001, clf__gamma=0.001, clf__kernel=rbf, scaler=Normalizer(copy=True, norm='l2') \n"
          ],
          "name": "stdout"
        },
        {
          "output_type": "stream",
          "text": [
            "/usr/local/lib/python3.7/dist-packages/sklearn/utils/deprecation.py:87: FutureWarning: Function safe_indexing is deprecated; safe_indexing is deprecated in version 0.22 and will be removed in version 0.24.\n",
            "  warnings.warn(msg, category=FutureWarning)\n"
          ],
          "name": "stderr"
        },
        {
          "output_type": "stream",
          "text": [
            "[CV]  clf__C=0.001, clf__gamma=0.001, clf__kernel=rbf, scaler=Normalizer(copy=True, norm='l2'), total= 2.5min\n",
            "[CV] clf__C=0.001, clf__gamma=0.001, clf__kernel=rbf, scaler=Normalizer(copy=True, norm='l2') \n"
          ],
          "name": "stdout"
        },
        {
          "output_type": "stream",
          "text": [
            "/usr/local/lib/python3.7/dist-packages/sklearn/utils/deprecation.py:87: FutureWarning: Function safe_indexing is deprecated; safe_indexing is deprecated in version 0.22 and will be removed in version 0.24.\n",
            "  warnings.warn(msg, category=FutureWarning)\n"
          ],
          "name": "stderr"
        },
        {
          "output_type": "stream",
          "text": [
            "[CV]  clf__C=0.001, clf__gamma=0.001, clf__kernel=rbf, scaler=Normalizer(copy=True, norm='l2'), total= 2.5min\n",
            "[CV] clf__C=0.001, clf__gamma=0.001, clf__kernel=rbf, scaler=Normalizer(copy=True, norm='l2') \n"
          ],
          "name": "stdout"
        },
        {
          "output_type": "stream",
          "text": [
            "/usr/local/lib/python3.7/dist-packages/sklearn/utils/deprecation.py:87: FutureWarning: Function safe_indexing is deprecated; safe_indexing is deprecated in version 0.22 and will be removed in version 0.24.\n",
            "  warnings.warn(msg, category=FutureWarning)\n"
          ],
          "name": "stderr"
        },
        {
          "output_type": "stream",
          "text": [
            "[CV]  clf__C=0.001, clf__gamma=0.001, clf__kernel=rbf, scaler=Normalizer(copy=True, norm='l2'), total= 2.5min\n",
            "[CV] clf__C=0.001, clf__gamma=0.001, clf__kernel=rbf, scaler=Normalizer(copy=True, norm='l2') \n"
          ],
          "name": "stdout"
        },
        {
          "output_type": "stream",
          "text": [
            "/usr/local/lib/python3.7/dist-packages/sklearn/utils/deprecation.py:87: FutureWarning: Function safe_indexing is deprecated; safe_indexing is deprecated in version 0.22 and will be removed in version 0.24.\n",
            "  warnings.warn(msg, category=FutureWarning)\n"
          ],
          "name": "stderr"
        },
        {
          "output_type": "stream",
          "text": [
            "[CV]  clf__C=0.001, clf__gamma=0.001, clf__kernel=rbf, scaler=Normalizer(copy=True, norm='l2'), total= 2.5min\n",
            "[CV] clf__C=0.001, clf__gamma=0.001, clf__kernel=rbf, scaler=Normalizer(copy=True, norm='l2') \n"
          ],
          "name": "stdout"
        },
        {
          "output_type": "stream",
          "text": [
            "/usr/local/lib/python3.7/dist-packages/sklearn/utils/deprecation.py:87: FutureWarning: Function safe_indexing is deprecated; safe_indexing is deprecated in version 0.22 and will be removed in version 0.24.\n",
            "  warnings.warn(msg, category=FutureWarning)\n"
          ],
          "name": "stderr"
        },
        {
          "output_type": "stream",
          "text": [
            "[CV]  clf__C=0.001, clf__gamma=0.001, clf__kernel=rbf, scaler=Normalizer(copy=True, norm='l2'), total= 2.5min\n",
            "[CV] clf__C=0.01, clf__gamma=1e-05, clf__kernel=rbf, scaler=StandardScaler(copy=True, with_mean=True, with_std=True) \n"
          ],
          "name": "stdout"
        },
        {
          "output_type": "stream",
          "text": [
            "/usr/local/lib/python3.7/dist-packages/sklearn/utils/deprecation.py:87: FutureWarning: Function safe_indexing is deprecated; safe_indexing is deprecated in version 0.22 and will be removed in version 0.24.\n",
            "  warnings.warn(msg, category=FutureWarning)\n"
          ],
          "name": "stderr"
        },
        {
          "output_type": "stream",
          "text": [
            "[CV]  clf__C=0.01, clf__gamma=1e-05, clf__kernel=rbf, scaler=StandardScaler(copy=True, with_mean=True, with_std=True), total= 2.6min\n",
            "[CV] clf__C=0.01, clf__gamma=1e-05, clf__kernel=rbf, scaler=StandardScaler(copy=True, with_mean=True, with_std=True) \n"
          ],
          "name": "stdout"
        },
        {
          "output_type": "stream",
          "text": [
            "/usr/local/lib/python3.7/dist-packages/sklearn/utils/deprecation.py:87: FutureWarning: Function safe_indexing is deprecated; safe_indexing is deprecated in version 0.22 and will be removed in version 0.24.\n",
            "  warnings.warn(msg, category=FutureWarning)\n"
          ],
          "name": "stderr"
        },
        {
          "output_type": "stream",
          "text": [
            "[CV]  clf__C=0.01, clf__gamma=1e-05, clf__kernel=rbf, scaler=StandardScaler(copy=True, with_mean=True, with_std=True), total= 2.5min\n",
            "[CV] clf__C=0.01, clf__gamma=1e-05, clf__kernel=rbf, scaler=StandardScaler(copy=True, with_mean=True, with_std=True) \n"
          ],
          "name": "stdout"
        },
        {
          "output_type": "stream",
          "text": [
            "/usr/local/lib/python3.7/dist-packages/sklearn/utils/deprecation.py:87: FutureWarning: Function safe_indexing is deprecated; safe_indexing is deprecated in version 0.22 and will be removed in version 0.24.\n",
            "  warnings.warn(msg, category=FutureWarning)\n"
          ],
          "name": "stderr"
        },
        {
          "output_type": "stream",
          "text": [
            "[CV]  clf__C=0.01, clf__gamma=1e-05, clf__kernel=rbf, scaler=StandardScaler(copy=True, with_mean=True, with_std=True), total= 2.5min\n",
            "[CV] clf__C=0.01, clf__gamma=1e-05, clf__kernel=rbf, scaler=StandardScaler(copy=True, with_mean=True, with_std=True) \n"
          ],
          "name": "stdout"
        },
        {
          "output_type": "stream",
          "text": [
            "/usr/local/lib/python3.7/dist-packages/sklearn/utils/deprecation.py:87: FutureWarning: Function safe_indexing is deprecated; safe_indexing is deprecated in version 0.22 and will be removed in version 0.24.\n",
            "  warnings.warn(msg, category=FutureWarning)\n"
          ],
          "name": "stderr"
        },
        {
          "output_type": "stream",
          "text": [
            "[CV]  clf__C=0.01, clf__gamma=1e-05, clf__kernel=rbf, scaler=StandardScaler(copy=True, with_mean=True, with_std=True), total= 2.5min\n",
            "[CV] clf__C=0.01, clf__gamma=1e-05, clf__kernel=rbf, scaler=StandardScaler(copy=True, with_mean=True, with_std=True) \n"
          ],
          "name": "stdout"
        },
        {
          "output_type": "stream",
          "text": [
            "/usr/local/lib/python3.7/dist-packages/sklearn/utils/deprecation.py:87: FutureWarning: Function safe_indexing is deprecated; safe_indexing is deprecated in version 0.22 and will be removed in version 0.24.\n",
            "  warnings.warn(msg, category=FutureWarning)\n"
          ],
          "name": "stderr"
        },
        {
          "output_type": "stream",
          "text": [
            "[CV]  clf__C=0.01, clf__gamma=1e-05, clf__kernel=rbf, scaler=StandardScaler(copy=True, with_mean=True, with_std=True), total= 2.5min\n",
            "[CV] clf__C=0.01, clf__gamma=1e-05, clf__kernel=rbf, scaler=MaxAbsScaler(copy=True) \n"
          ],
          "name": "stdout"
        },
        {
          "output_type": "stream",
          "text": [
            "/usr/local/lib/python3.7/dist-packages/sklearn/utils/deprecation.py:87: FutureWarning: Function safe_indexing is deprecated; safe_indexing is deprecated in version 0.22 and will be removed in version 0.24.\n",
            "  warnings.warn(msg, category=FutureWarning)\n"
          ],
          "name": "stderr"
        },
        {
          "output_type": "stream",
          "text": [
            "[CV]  clf__C=0.01, clf__gamma=1e-05, clf__kernel=rbf, scaler=MaxAbsScaler(copy=True), total= 2.5min\n",
            "[CV] clf__C=0.01, clf__gamma=1e-05, clf__kernel=rbf, scaler=MaxAbsScaler(copy=True) \n"
          ],
          "name": "stdout"
        },
        {
          "output_type": "stream",
          "text": [
            "/usr/local/lib/python3.7/dist-packages/sklearn/utils/deprecation.py:87: FutureWarning: Function safe_indexing is deprecated; safe_indexing is deprecated in version 0.22 and will be removed in version 0.24.\n",
            "  warnings.warn(msg, category=FutureWarning)\n"
          ],
          "name": "stderr"
        },
        {
          "output_type": "stream",
          "text": [
            "[CV]  clf__C=0.01, clf__gamma=1e-05, clf__kernel=rbf, scaler=MaxAbsScaler(copy=True), total= 2.5min\n",
            "[CV] clf__C=0.01, clf__gamma=1e-05, clf__kernel=rbf, scaler=MaxAbsScaler(copy=True) \n"
          ],
          "name": "stdout"
        },
        {
          "output_type": "stream",
          "text": [
            "/usr/local/lib/python3.7/dist-packages/sklearn/utils/deprecation.py:87: FutureWarning: Function safe_indexing is deprecated; safe_indexing is deprecated in version 0.22 and will be removed in version 0.24.\n",
            "  warnings.warn(msg, category=FutureWarning)\n"
          ],
          "name": "stderr"
        },
        {
          "output_type": "stream",
          "text": [
            "[CV]  clf__C=0.01, clf__gamma=1e-05, clf__kernel=rbf, scaler=MaxAbsScaler(copy=True), total= 2.5min\n",
            "[CV] clf__C=0.01, clf__gamma=1e-05, clf__kernel=rbf, scaler=MaxAbsScaler(copy=True) \n"
          ],
          "name": "stdout"
        },
        {
          "output_type": "stream",
          "text": [
            "/usr/local/lib/python3.7/dist-packages/sklearn/utils/deprecation.py:87: FutureWarning: Function safe_indexing is deprecated; safe_indexing is deprecated in version 0.22 and will be removed in version 0.24.\n",
            "  warnings.warn(msg, category=FutureWarning)\n"
          ],
          "name": "stderr"
        },
        {
          "output_type": "stream",
          "text": [
            "[CV]  clf__C=0.01, clf__gamma=1e-05, clf__kernel=rbf, scaler=MaxAbsScaler(copy=True), total= 2.5min\n",
            "[CV] clf__C=0.01, clf__gamma=1e-05, clf__kernel=rbf, scaler=MaxAbsScaler(copy=True) \n"
          ],
          "name": "stdout"
        },
        {
          "output_type": "stream",
          "text": [
            "/usr/local/lib/python3.7/dist-packages/sklearn/utils/deprecation.py:87: FutureWarning: Function safe_indexing is deprecated; safe_indexing is deprecated in version 0.22 and will be removed in version 0.24.\n",
            "  warnings.warn(msg, category=FutureWarning)\n"
          ],
          "name": "stderr"
        },
        {
          "output_type": "stream",
          "text": [
            "[CV]  clf__C=0.01, clf__gamma=1e-05, clf__kernel=rbf, scaler=MaxAbsScaler(copy=True), total= 2.6min\n",
            "[CV] clf__C=0.01, clf__gamma=1e-05, clf__kernel=rbf, scaler=Normalizer(copy=True, norm='l2') \n"
          ],
          "name": "stdout"
        },
        {
          "output_type": "stream",
          "text": [
            "/usr/local/lib/python3.7/dist-packages/sklearn/utils/deprecation.py:87: FutureWarning: Function safe_indexing is deprecated; safe_indexing is deprecated in version 0.22 and will be removed in version 0.24.\n",
            "  warnings.warn(msg, category=FutureWarning)\n"
          ],
          "name": "stderr"
        },
        {
          "output_type": "stream",
          "text": [
            "[CV]  clf__C=0.01, clf__gamma=1e-05, clf__kernel=rbf, scaler=Normalizer(copy=True, norm='l2'), total= 2.5min\n",
            "[CV] clf__C=0.01, clf__gamma=1e-05, clf__kernel=rbf, scaler=Normalizer(copy=True, norm='l2') \n"
          ],
          "name": "stdout"
        },
        {
          "output_type": "stream",
          "text": [
            "/usr/local/lib/python3.7/dist-packages/sklearn/utils/deprecation.py:87: FutureWarning: Function safe_indexing is deprecated; safe_indexing is deprecated in version 0.22 and will be removed in version 0.24.\n",
            "  warnings.warn(msg, category=FutureWarning)\n"
          ],
          "name": "stderr"
        },
        {
          "output_type": "stream",
          "text": [
            "[CV]  clf__C=0.01, clf__gamma=1e-05, clf__kernel=rbf, scaler=Normalizer(copy=True, norm='l2'), total= 2.5min\n",
            "[CV] clf__C=0.01, clf__gamma=1e-05, clf__kernel=rbf, scaler=Normalizer(copy=True, norm='l2') \n"
          ],
          "name": "stdout"
        },
        {
          "output_type": "stream",
          "text": [
            "/usr/local/lib/python3.7/dist-packages/sklearn/utils/deprecation.py:87: FutureWarning: Function safe_indexing is deprecated; safe_indexing is deprecated in version 0.22 and will be removed in version 0.24.\n",
            "  warnings.warn(msg, category=FutureWarning)\n"
          ],
          "name": "stderr"
        },
        {
          "output_type": "stream",
          "text": [
            "[CV]  clf__C=0.01, clf__gamma=1e-05, clf__kernel=rbf, scaler=Normalizer(copy=True, norm='l2'), total= 2.5min\n",
            "[CV] clf__C=0.01, clf__gamma=1e-05, clf__kernel=rbf, scaler=Normalizer(copy=True, norm='l2') \n"
          ],
          "name": "stdout"
        },
        {
          "output_type": "stream",
          "text": [
            "/usr/local/lib/python3.7/dist-packages/sklearn/utils/deprecation.py:87: FutureWarning: Function safe_indexing is deprecated; safe_indexing is deprecated in version 0.22 and will be removed in version 0.24.\n",
            "  warnings.warn(msg, category=FutureWarning)\n"
          ],
          "name": "stderr"
        },
        {
          "output_type": "stream",
          "text": [
            "[CV]  clf__C=0.01, clf__gamma=1e-05, clf__kernel=rbf, scaler=Normalizer(copy=True, norm='l2'), total= 2.5min\n",
            "[CV] clf__C=0.01, clf__gamma=1e-05, clf__kernel=rbf, scaler=Normalizer(copy=True, norm='l2') \n"
          ],
          "name": "stdout"
        },
        {
          "output_type": "stream",
          "text": [
            "/usr/local/lib/python3.7/dist-packages/sklearn/utils/deprecation.py:87: FutureWarning: Function safe_indexing is deprecated; safe_indexing is deprecated in version 0.22 and will be removed in version 0.24.\n",
            "  warnings.warn(msg, category=FutureWarning)\n"
          ],
          "name": "stderr"
        },
        {
          "output_type": "stream",
          "text": [
            "[CV]  clf__C=0.01, clf__gamma=1e-05, clf__kernel=rbf, scaler=Normalizer(copy=True, norm='l2'), total= 2.5min\n",
            "[CV] clf__C=0.01, clf__gamma=0.0001, clf__kernel=rbf, scaler=StandardScaler(copy=True, with_mean=True, with_std=True) \n"
          ],
          "name": "stdout"
        },
        {
          "output_type": "stream",
          "text": [
            "/usr/local/lib/python3.7/dist-packages/sklearn/utils/deprecation.py:87: FutureWarning: Function safe_indexing is deprecated; safe_indexing is deprecated in version 0.22 and will be removed in version 0.24.\n",
            "  warnings.warn(msg, category=FutureWarning)\n"
          ],
          "name": "stderr"
        },
        {
          "output_type": "stream",
          "text": [
            "[CV]  clf__C=0.01, clf__gamma=0.0001, clf__kernel=rbf, scaler=StandardScaler(copy=True, with_mean=True, with_std=True), total= 2.4min\n",
            "[CV] clf__C=0.01, clf__gamma=0.0001, clf__kernel=rbf, scaler=StandardScaler(copy=True, with_mean=True, with_std=True) \n"
          ],
          "name": "stdout"
        },
        {
          "output_type": "stream",
          "text": [
            "/usr/local/lib/python3.7/dist-packages/sklearn/utils/deprecation.py:87: FutureWarning: Function safe_indexing is deprecated; safe_indexing is deprecated in version 0.22 and will be removed in version 0.24.\n",
            "  warnings.warn(msg, category=FutureWarning)\n"
          ],
          "name": "stderr"
        },
        {
          "output_type": "stream",
          "text": [
            "[CV]  clf__C=0.01, clf__gamma=0.0001, clf__kernel=rbf, scaler=StandardScaler(copy=True, with_mean=True, with_std=True), total= 2.4min\n",
            "[CV] clf__C=0.01, clf__gamma=0.0001, clf__kernel=rbf, scaler=StandardScaler(copy=True, with_mean=True, with_std=True) \n"
          ],
          "name": "stdout"
        },
        {
          "output_type": "stream",
          "text": [
            "/usr/local/lib/python3.7/dist-packages/sklearn/utils/deprecation.py:87: FutureWarning: Function safe_indexing is deprecated; safe_indexing is deprecated in version 0.22 and will be removed in version 0.24.\n",
            "  warnings.warn(msg, category=FutureWarning)\n"
          ],
          "name": "stderr"
        },
        {
          "output_type": "stream",
          "text": [
            "[CV]  clf__C=0.01, clf__gamma=0.0001, clf__kernel=rbf, scaler=StandardScaler(copy=True, with_mean=True, with_std=True), total= 2.4min\n",
            "[CV] clf__C=0.01, clf__gamma=0.0001, clf__kernel=rbf, scaler=StandardScaler(copy=True, with_mean=True, with_std=True) \n"
          ],
          "name": "stdout"
        },
        {
          "output_type": "stream",
          "text": [
            "/usr/local/lib/python3.7/dist-packages/sklearn/utils/deprecation.py:87: FutureWarning: Function safe_indexing is deprecated; safe_indexing is deprecated in version 0.22 and will be removed in version 0.24.\n",
            "  warnings.warn(msg, category=FutureWarning)\n"
          ],
          "name": "stderr"
        },
        {
          "output_type": "stream",
          "text": [
            "[CV]  clf__C=0.01, clf__gamma=0.0001, clf__kernel=rbf, scaler=StandardScaler(copy=True, with_mean=True, with_std=True), total= 2.4min\n",
            "[CV] clf__C=0.01, clf__gamma=0.0001, clf__kernel=rbf, scaler=StandardScaler(copy=True, with_mean=True, with_std=True) \n"
          ],
          "name": "stdout"
        },
        {
          "output_type": "stream",
          "text": [
            "/usr/local/lib/python3.7/dist-packages/sklearn/utils/deprecation.py:87: FutureWarning: Function safe_indexing is deprecated; safe_indexing is deprecated in version 0.22 and will be removed in version 0.24.\n",
            "  warnings.warn(msg, category=FutureWarning)\n"
          ],
          "name": "stderr"
        },
        {
          "output_type": "stream",
          "text": [
            "[CV]  clf__C=0.01, clf__gamma=0.0001, clf__kernel=rbf, scaler=StandardScaler(copy=True, with_mean=True, with_std=True), total= 2.4min\n",
            "[CV] clf__C=0.01, clf__gamma=0.0001, clf__kernel=rbf, scaler=MaxAbsScaler(copy=True) \n"
          ],
          "name": "stdout"
        },
        {
          "output_type": "stream",
          "text": [
            "/usr/local/lib/python3.7/dist-packages/sklearn/utils/deprecation.py:87: FutureWarning: Function safe_indexing is deprecated; safe_indexing is deprecated in version 0.22 and will be removed in version 0.24.\n",
            "  warnings.warn(msg, category=FutureWarning)\n"
          ],
          "name": "stderr"
        },
        {
          "output_type": "stream",
          "text": [
            "[CV]  clf__C=0.01, clf__gamma=0.0001, clf__kernel=rbf, scaler=MaxAbsScaler(copy=True), total= 2.5min\n",
            "[CV] clf__C=0.01, clf__gamma=0.0001, clf__kernel=rbf, scaler=MaxAbsScaler(copy=True) \n"
          ],
          "name": "stdout"
        },
        {
          "output_type": "stream",
          "text": [
            "/usr/local/lib/python3.7/dist-packages/sklearn/utils/deprecation.py:87: FutureWarning: Function safe_indexing is deprecated; safe_indexing is deprecated in version 0.22 and will be removed in version 0.24.\n",
            "  warnings.warn(msg, category=FutureWarning)\n"
          ],
          "name": "stderr"
        },
        {
          "output_type": "stream",
          "text": [
            "[CV]  clf__C=0.01, clf__gamma=0.0001, clf__kernel=rbf, scaler=MaxAbsScaler(copy=True), total= 2.5min\n",
            "[CV] clf__C=0.01, clf__gamma=0.0001, clf__kernel=rbf, scaler=MaxAbsScaler(copy=True) \n"
          ],
          "name": "stdout"
        },
        {
          "output_type": "stream",
          "text": [
            "/usr/local/lib/python3.7/dist-packages/sklearn/utils/deprecation.py:87: FutureWarning: Function safe_indexing is deprecated; safe_indexing is deprecated in version 0.22 and will be removed in version 0.24.\n",
            "  warnings.warn(msg, category=FutureWarning)\n"
          ],
          "name": "stderr"
        },
        {
          "output_type": "stream",
          "text": [
            "[CV]  clf__C=0.01, clf__gamma=0.0001, clf__kernel=rbf, scaler=MaxAbsScaler(copy=True), total= 2.5min\n",
            "[CV] clf__C=0.01, clf__gamma=0.0001, clf__kernel=rbf, scaler=MaxAbsScaler(copy=True) \n"
          ],
          "name": "stdout"
        },
        {
          "output_type": "stream",
          "text": [
            "/usr/local/lib/python3.7/dist-packages/sklearn/utils/deprecation.py:87: FutureWarning: Function safe_indexing is deprecated; safe_indexing is deprecated in version 0.22 and will be removed in version 0.24.\n",
            "  warnings.warn(msg, category=FutureWarning)\n"
          ],
          "name": "stderr"
        },
        {
          "output_type": "stream",
          "text": [
            "[CV]  clf__C=0.01, clf__gamma=0.0001, clf__kernel=rbf, scaler=MaxAbsScaler(copy=True), total= 2.5min\n",
            "[CV] clf__C=0.01, clf__gamma=0.0001, clf__kernel=rbf, scaler=MaxAbsScaler(copy=True) \n"
          ],
          "name": "stdout"
        },
        {
          "output_type": "stream",
          "text": [
            "/usr/local/lib/python3.7/dist-packages/sklearn/utils/deprecation.py:87: FutureWarning: Function safe_indexing is deprecated; safe_indexing is deprecated in version 0.22 and will be removed in version 0.24.\n",
            "  warnings.warn(msg, category=FutureWarning)\n"
          ],
          "name": "stderr"
        },
        {
          "output_type": "stream",
          "text": [
            "[CV]  clf__C=0.01, clf__gamma=0.0001, clf__kernel=rbf, scaler=MaxAbsScaler(copy=True), total= 2.5min\n",
            "[CV] clf__C=0.01, clf__gamma=0.0001, clf__kernel=rbf, scaler=Normalizer(copy=True, norm='l2') \n"
          ],
          "name": "stdout"
        },
        {
          "output_type": "stream",
          "text": [
            "/usr/local/lib/python3.7/dist-packages/sklearn/utils/deprecation.py:87: FutureWarning: Function safe_indexing is deprecated; safe_indexing is deprecated in version 0.22 and will be removed in version 0.24.\n",
            "  warnings.warn(msg, category=FutureWarning)\n"
          ],
          "name": "stderr"
        },
        {
          "output_type": "stream",
          "text": [
            "[CV]  clf__C=0.01, clf__gamma=0.0001, clf__kernel=rbf, scaler=Normalizer(copy=True, norm='l2'), total= 2.5min\n",
            "[CV] clf__C=0.01, clf__gamma=0.0001, clf__kernel=rbf, scaler=Normalizer(copy=True, norm='l2') \n"
          ],
          "name": "stdout"
        },
        {
          "output_type": "stream",
          "text": [
            "/usr/local/lib/python3.7/dist-packages/sklearn/utils/deprecation.py:87: FutureWarning: Function safe_indexing is deprecated; safe_indexing is deprecated in version 0.22 and will be removed in version 0.24.\n",
            "  warnings.warn(msg, category=FutureWarning)\n"
          ],
          "name": "stderr"
        },
        {
          "output_type": "stream",
          "text": [
            "[CV]  clf__C=0.01, clf__gamma=0.0001, clf__kernel=rbf, scaler=Normalizer(copy=True, norm='l2'), total= 2.5min\n",
            "[CV] clf__C=0.01, clf__gamma=0.0001, clf__kernel=rbf, scaler=Normalizer(copy=True, norm='l2') \n"
          ],
          "name": "stdout"
        },
        {
          "output_type": "stream",
          "text": [
            "/usr/local/lib/python3.7/dist-packages/sklearn/utils/deprecation.py:87: FutureWarning: Function safe_indexing is deprecated; safe_indexing is deprecated in version 0.22 and will be removed in version 0.24.\n",
            "  warnings.warn(msg, category=FutureWarning)\n"
          ],
          "name": "stderr"
        },
        {
          "output_type": "stream",
          "text": [
            "[CV]  clf__C=0.01, clf__gamma=0.0001, clf__kernel=rbf, scaler=Normalizer(copy=True, norm='l2'), total= 2.5min\n",
            "[CV] clf__C=0.01, clf__gamma=0.0001, clf__kernel=rbf, scaler=Normalizer(copy=True, norm='l2') \n"
          ],
          "name": "stdout"
        },
        {
          "output_type": "stream",
          "text": [
            "/usr/local/lib/python3.7/dist-packages/sklearn/utils/deprecation.py:87: FutureWarning: Function safe_indexing is deprecated; safe_indexing is deprecated in version 0.22 and will be removed in version 0.24.\n",
            "  warnings.warn(msg, category=FutureWarning)\n"
          ],
          "name": "stderr"
        },
        {
          "output_type": "stream",
          "text": [
            "[CV]  clf__C=0.01, clf__gamma=0.0001, clf__kernel=rbf, scaler=Normalizer(copy=True, norm='l2'), total= 2.5min\n",
            "[CV] clf__C=0.01, clf__gamma=0.0001, clf__kernel=rbf, scaler=Normalizer(copy=True, norm='l2') \n"
          ],
          "name": "stdout"
        },
        {
          "output_type": "stream",
          "text": [
            "/usr/local/lib/python3.7/dist-packages/sklearn/utils/deprecation.py:87: FutureWarning: Function safe_indexing is deprecated; safe_indexing is deprecated in version 0.22 and will be removed in version 0.24.\n",
            "  warnings.warn(msg, category=FutureWarning)\n"
          ],
          "name": "stderr"
        },
        {
          "output_type": "stream",
          "text": [
            "[CV]  clf__C=0.01, clf__gamma=0.0001, clf__kernel=rbf, scaler=Normalizer(copy=True, norm='l2'), total= 2.5min\n",
            "[CV] clf__C=0.01, clf__gamma=0.001, clf__kernel=rbf, scaler=StandardScaler(copy=True, with_mean=True, with_std=True) \n"
          ],
          "name": "stdout"
        },
        {
          "output_type": "stream",
          "text": [
            "/usr/local/lib/python3.7/dist-packages/sklearn/utils/deprecation.py:87: FutureWarning: Function safe_indexing is deprecated; safe_indexing is deprecated in version 0.22 and will be removed in version 0.24.\n",
            "  warnings.warn(msg, category=FutureWarning)\n"
          ],
          "name": "stderr"
        },
        {
          "output_type": "stream",
          "text": [
            "[CV]  clf__C=0.01, clf__gamma=0.001, clf__kernel=rbf, scaler=StandardScaler(copy=True, with_mean=True, with_std=True), total= 2.5min\n",
            "[CV] clf__C=0.01, clf__gamma=0.001, clf__kernel=rbf, scaler=StandardScaler(copy=True, with_mean=True, with_std=True) \n"
          ],
          "name": "stdout"
        },
        {
          "output_type": "stream",
          "text": [
            "/usr/local/lib/python3.7/dist-packages/sklearn/utils/deprecation.py:87: FutureWarning: Function safe_indexing is deprecated; safe_indexing is deprecated in version 0.22 and will be removed in version 0.24.\n",
            "  warnings.warn(msg, category=FutureWarning)\n"
          ],
          "name": "stderr"
        },
        {
          "output_type": "stream",
          "text": [
            "[CV]  clf__C=0.01, clf__gamma=0.001, clf__kernel=rbf, scaler=StandardScaler(copy=True, with_mean=True, with_std=True), total= 2.5min\n",
            "[CV] clf__C=0.01, clf__gamma=0.001, clf__kernel=rbf, scaler=StandardScaler(copy=True, with_mean=True, with_std=True) \n"
          ],
          "name": "stdout"
        },
        {
          "output_type": "stream",
          "text": [
            "/usr/local/lib/python3.7/dist-packages/sklearn/utils/deprecation.py:87: FutureWarning: Function safe_indexing is deprecated; safe_indexing is deprecated in version 0.22 and will be removed in version 0.24.\n",
            "  warnings.warn(msg, category=FutureWarning)\n"
          ],
          "name": "stderr"
        },
        {
          "output_type": "stream",
          "text": [
            "[CV]  clf__C=0.01, clf__gamma=0.001, clf__kernel=rbf, scaler=StandardScaler(copy=True, with_mean=True, with_std=True), total= 2.5min\n",
            "[CV] clf__C=0.01, clf__gamma=0.001, clf__kernel=rbf, scaler=StandardScaler(copy=True, with_mean=True, with_std=True) \n"
          ],
          "name": "stdout"
        },
        {
          "output_type": "stream",
          "text": [
            "/usr/local/lib/python3.7/dist-packages/sklearn/utils/deprecation.py:87: FutureWarning: Function safe_indexing is deprecated; safe_indexing is deprecated in version 0.22 and will be removed in version 0.24.\n",
            "  warnings.warn(msg, category=FutureWarning)\n"
          ],
          "name": "stderr"
        },
        {
          "output_type": "stream",
          "text": [
            "[CV]  clf__C=0.01, clf__gamma=0.001, clf__kernel=rbf, scaler=StandardScaler(copy=True, with_mean=True, with_std=True), total= 2.5min\n",
            "[CV] clf__C=0.01, clf__gamma=0.001, clf__kernel=rbf, scaler=StandardScaler(copy=True, with_mean=True, with_std=True) \n"
          ],
          "name": "stdout"
        },
        {
          "output_type": "stream",
          "text": [
            "/usr/local/lib/python3.7/dist-packages/sklearn/utils/deprecation.py:87: FutureWarning: Function safe_indexing is deprecated; safe_indexing is deprecated in version 0.22 and will be removed in version 0.24.\n",
            "  warnings.warn(msg, category=FutureWarning)\n"
          ],
          "name": "stderr"
        },
        {
          "output_type": "stream",
          "text": [
            "[CV]  clf__C=0.01, clf__gamma=0.001, clf__kernel=rbf, scaler=StandardScaler(copy=True, with_mean=True, with_std=True), total= 2.5min\n",
            "[CV] clf__C=0.01, clf__gamma=0.001, clf__kernel=rbf, scaler=MaxAbsScaler(copy=True) \n"
          ],
          "name": "stdout"
        },
        {
          "output_type": "stream",
          "text": [
            "/usr/local/lib/python3.7/dist-packages/sklearn/utils/deprecation.py:87: FutureWarning: Function safe_indexing is deprecated; safe_indexing is deprecated in version 0.22 and will be removed in version 0.24.\n",
            "  warnings.warn(msg, category=FutureWarning)\n"
          ],
          "name": "stderr"
        },
        {
          "output_type": "stream",
          "text": [
            "[CV]  clf__C=0.01, clf__gamma=0.001, clf__kernel=rbf, scaler=MaxAbsScaler(copy=True), total= 2.5min\n",
            "[CV] clf__C=0.01, clf__gamma=0.001, clf__kernel=rbf, scaler=MaxAbsScaler(copy=True) \n"
          ],
          "name": "stdout"
        },
        {
          "output_type": "stream",
          "text": [
            "/usr/local/lib/python3.7/dist-packages/sklearn/utils/deprecation.py:87: FutureWarning: Function safe_indexing is deprecated; safe_indexing is deprecated in version 0.22 and will be removed in version 0.24.\n",
            "  warnings.warn(msg, category=FutureWarning)\n"
          ],
          "name": "stderr"
        },
        {
          "output_type": "stream",
          "text": [
            "[CV]  clf__C=0.01, clf__gamma=0.001, clf__kernel=rbf, scaler=MaxAbsScaler(copy=True), total= 2.5min\n",
            "[CV] clf__C=0.01, clf__gamma=0.001, clf__kernel=rbf, scaler=MaxAbsScaler(copy=True) \n"
          ],
          "name": "stdout"
        },
        {
          "output_type": "stream",
          "text": [
            "/usr/local/lib/python3.7/dist-packages/sklearn/utils/deprecation.py:87: FutureWarning: Function safe_indexing is deprecated; safe_indexing is deprecated in version 0.22 and will be removed in version 0.24.\n",
            "  warnings.warn(msg, category=FutureWarning)\n"
          ],
          "name": "stderr"
        },
        {
          "output_type": "stream",
          "text": [
            "[CV]  clf__C=0.01, clf__gamma=0.001, clf__kernel=rbf, scaler=MaxAbsScaler(copy=True), total= 2.5min\n",
            "[CV] clf__C=0.01, clf__gamma=0.001, clf__kernel=rbf, scaler=MaxAbsScaler(copy=True) \n"
          ],
          "name": "stdout"
        },
        {
          "output_type": "stream",
          "text": [
            "/usr/local/lib/python3.7/dist-packages/sklearn/utils/deprecation.py:87: FutureWarning: Function safe_indexing is deprecated; safe_indexing is deprecated in version 0.22 and will be removed in version 0.24.\n",
            "  warnings.warn(msg, category=FutureWarning)\n"
          ],
          "name": "stderr"
        },
        {
          "output_type": "stream",
          "text": [
            "[CV]  clf__C=0.01, clf__gamma=0.001, clf__kernel=rbf, scaler=MaxAbsScaler(copy=True), total= 2.5min\n",
            "[CV] clf__C=0.01, clf__gamma=0.001, clf__kernel=rbf, scaler=MaxAbsScaler(copy=True) \n"
          ],
          "name": "stdout"
        },
        {
          "output_type": "stream",
          "text": [
            "/usr/local/lib/python3.7/dist-packages/sklearn/utils/deprecation.py:87: FutureWarning: Function safe_indexing is deprecated; safe_indexing is deprecated in version 0.22 and will be removed in version 0.24.\n",
            "  warnings.warn(msg, category=FutureWarning)\n"
          ],
          "name": "stderr"
        },
        {
          "output_type": "stream",
          "text": [
            "[CV]  clf__C=0.01, clf__gamma=0.001, clf__kernel=rbf, scaler=MaxAbsScaler(copy=True), total= 2.5min\n",
            "[CV] clf__C=0.01, clf__gamma=0.001, clf__kernel=rbf, scaler=Normalizer(copy=True, norm='l2') \n"
          ],
          "name": "stdout"
        },
        {
          "output_type": "stream",
          "text": [
            "/usr/local/lib/python3.7/dist-packages/sklearn/utils/deprecation.py:87: FutureWarning: Function safe_indexing is deprecated; safe_indexing is deprecated in version 0.22 and will be removed in version 0.24.\n",
            "  warnings.warn(msg, category=FutureWarning)\n"
          ],
          "name": "stderr"
        },
        {
          "output_type": "stream",
          "text": [
            "[CV]  clf__C=0.01, clf__gamma=0.001, clf__kernel=rbf, scaler=Normalizer(copy=True, norm='l2'), total= 2.5min\n",
            "[CV] clf__C=0.01, clf__gamma=0.001, clf__kernel=rbf, scaler=Normalizer(copy=True, norm='l2') \n"
          ],
          "name": "stdout"
        },
        {
          "output_type": "stream",
          "text": [
            "/usr/local/lib/python3.7/dist-packages/sklearn/utils/deprecation.py:87: FutureWarning: Function safe_indexing is deprecated; safe_indexing is deprecated in version 0.22 and will be removed in version 0.24.\n",
            "  warnings.warn(msg, category=FutureWarning)\n"
          ],
          "name": "stderr"
        },
        {
          "output_type": "stream",
          "text": [
            "[CV]  clf__C=0.01, clf__gamma=0.001, clf__kernel=rbf, scaler=Normalizer(copy=True, norm='l2'), total= 2.5min\n",
            "[CV] clf__C=0.01, clf__gamma=0.001, clf__kernel=rbf, scaler=Normalizer(copy=True, norm='l2') \n"
          ],
          "name": "stdout"
        },
        {
          "output_type": "stream",
          "text": [
            "/usr/local/lib/python3.7/dist-packages/sklearn/utils/deprecation.py:87: FutureWarning: Function safe_indexing is deprecated; safe_indexing is deprecated in version 0.22 and will be removed in version 0.24.\n",
            "  warnings.warn(msg, category=FutureWarning)\n"
          ],
          "name": "stderr"
        },
        {
          "output_type": "stream",
          "text": [
            "[CV]  clf__C=0.01, clf__gamma=0.001, clf__kernel=rbf, scaler=Normalizer(copy=True, norm='l2'), total= 2.5min\n",
            "[CV] clf__C=0.01, clf__gamma=0.001, clf__kernel=rbf, scaler=Normalizer(copy=True, norm='l2') \n"
          ],
          "name": "stdout"
        },
        {
          "output_type": "stream",
          "text": [
            "/usr/local/lib/python3.7/dist-packages/sklearn/utils/deprecation.py:87: FutureWarning: Function safe_indexing is deprecated; safe_indexing is deprecated in version 0.22 and will be removed in version 0.24.\n",
            "  warnings.warn(msg, category=FutureWarning)\n"
          ],
          "name": "stderr"
        },
        {
          "output_type": "stream",
          "text": [
            "[CV]  clf__C=0.01, clf__gamma=0.001, clf__kernel=rbf, scaler=Normalizer(copy=True, norm='l2'), total= 2.5min\n",
            "[CV] clf__C=0.01, clf__gamma=0.001, clf__kernel=rbf, scaler=Normalizer(copy=True, norm='l2') \n"
          ],
          "name": "stdout"
        },
        {
          "output_type": "stream",
          "text": [
            "/usr/local/lib/python3.7/dist-packages/sklearn/utils/deprecation.py:87: FutureWarning: Function safe_indexing is deprecated; safe_indexing is deprecated in version 0.22 and will be removed in version 0.24.\n",
            "  warnings.warn(msg, category=FutureWarning)\n"
          ],
          "name": "stderr"
        },
        {
          "output_type": "stream",
          "text": [
            "[CV]  clf__C=0.01, clf__gamma=0.001, clf__kernel=rbf, scaler=Normalizer(copy=True, norm='l2'), total= 2.5min\n",
            "[CV] clf__C=0.1, clf__gamma=1e-05, clf__kernel=rbf, scaler=StandardScaler(copy=True, with_mean=True, with_std=True) \n"
          ],
          "name": "stdout"
        },
        {
          "output_type": "stream",
          "text": [
            "/usr/local/lib/python3.7/dist-packages/sklearn/utils/deprecation.py:87: FutureWarning: Function safe_indexing is deprecated; safe_indexing is deprecated in version 0.22 and will be removed in version 0.24.\n",
            "  warnings.warn(msg, category=FutureWarning)\n"
          ],
          "name": "stderr"
        },
        {
          "output_type": "stream",
          "text": [
            "[CV]  clf__C=0.1, clf__gamma=1e-05, clf__kernel=rbf, scaler=StandardScaler(copy=True, with_mean=True, with_std=True), total= 2.2min\n",
            "[CV] clf__C=0.1, clf__gamma=1e-05, clf__kernel=rbf, scaler=StandardScaler(copy=True, with_mean=True, with_std=True) \n"
          ],
          "name": "stdout"
        },
        {
          "output_type": "stream",
          "text": [
            "/usr/local/lib/python3.7/dist-packages/sklearn/utils/deprecation.py:87: FutureWarning: Function safe_indexing is deprecated; safe_indexing is deprecated in version 0.22 and will be removed in version 0.24.\n",
            "  warnings.warn(msg, category=FutureWarning)\n"
          ],
          "name": "stderr"
        },
        {
          "output_type": "stream",
          "text": [
            "[CV]  clf__C=0.1, clf__gamma=1e-05, clf__kernel=rbf, scaler=StandardScaler(copy=True, with_mean=True, with_std=True), total= 2.3min\n",
            "[CV] clf__C=0.1, clf__gamma=1e-05, clf__kernel=rbf, scaler=StandardScaler(copy=True, with_mean=True, with_std=True) \n"
          ],
          "name": "stdout"
        },
        {
          "output_type": "stream",
          "text": [
            "/usr/local/lib/python3.7/dist-packages/sklearn/utils/deprecation.py:87: FutureWarning: Function safe_indexing is deprecated; safe_indexing is deprecated in version 0.22 and will be removed in version 0.24.\n",
            "  warnings.warn(msg, category=FutureWarning)\n"
          ],
          "name": "stderr"
        },
        {
          "output_type": "stream",
          "text": [
            "[CV]  clf__C=0.1, clf__gamma=1e-05, clf__kernel=rbf, scaler=StandardScaler(copy=True, with_mean=True, with_std=True), total= 2.2min\n",
            "[CV] clf__C=0.1, clf__gamma=1e-05, clf__kernel=rbf, scaler=StandardScaler(copy=True, with_mean=True, with_std=True) \n"
          ],
          "name": "stdout"
        },
        {
          "output_type": "stream",
          "text": [
            "/usr/local/lib/python3.7/dist-packages/sklearn/utils/deprecation.py:87: FutureWarning: Function safe_indexing is deprecated; safe_indexing is deprecated in version 0.22 and will be removed in version 0.24.\n",
            "  warnings.warn(msg, category=FutureWarning)\n"
          ],
          "name": "stderr"
        },
        {
          "output_type": "stream",
          "text": [
            "[CV]  clf__C=0.1, clf__gamma=1e-05, clf__kernel=rbf, scaler=StandardScaler(copy=True, with_mean=True, with_std=True), total= 2.3min\n",
            "[CV] clf__C=0.1, clf__gamma=1e-05, clf__kernel=rbf, scaler=StandardScaler(copy=True, with_mean=True, with_std=True) \n"
          ],
          "name": "stdout"
        },
        {
          "output_type": "stream",
          "text": [
            "/usr/local/lib/python3.7/dist-packages/sklearn/utils/deprecation.py:87: FutureWarning: Function safe_indexing is deprecated; safe_indexing is deprecated in version 0.22 and will be removed in version 0.24.\n",
            "  warnings.warn(msg, category=FutureWarning)\n"
          ],
          "name": "stderr"
        },
        {
          "output_type": "stream",
          "text": [
            "[CV]  clf__C=0.1, clf__gamma=1e-05, clf__kernel=rbf, scaler=StandardScaler(copy=True, with_mean=True, with_std=True), total= 2.2min\n",
            "[CV] clf__C=0.1, clf__gamma=1e-05, clf__kernel=rbf, scaler=MaxAbsScaler(copy=True) \n"
          ],
          "name": "stdout"
        },
        {
          "output_type": "stream",
          "text": [
            "/usr/local/lib/python3.7/dist-packages/sklearn/utils/deprecation.py:87: FutureWarning: Function safe_indexing is deprecated; safe_indexing is deprecated in version 0.22 and will be removed in version 0.24.\n",
            "  warnings.warn(msg, category=FutureWarning)\n"
          ],
          "name": "stderr"
        },
        {
          "output_type": "stream",
          "text": [
            "[CV]  clf__C=0.1, clf__gamma=1e-05, clf__kernel=rbf, scaler=MaxAbsScaler(copy=True), total= 2.5min\n",
            "[CV] clf__C=0.1, clf__gamma=1e-05, clf__kernel=rbf, scaler=MaxAbsScaler(copy=True) \n"
          ],
          "name": "stdout"
        },
        {
          "output_type": "stream",
          "text": [
            "/usr/local/lib/python3.7/dist-packages/sklearn/utils/deprecation.py:87: FutureWarning: Function safe_indexing is deprecated; safe_indexing is deprecated in version 0.22 and will be removed in version 0.24.\n",
            "  warnings.warn(msg, category=FutureWarning)\n"
          ],
          "name": "stderr"
        },
        {
          "output_type": "stream",
          "text": [
            "[CV]  clf__C=0.1, clf__gamma=1e-05, clf__kernel=rbf, scaler=MaxAbsScaler(copy=True), total= 2.5min\n",
            "[CV] clf__C=0.1, clf__gamma=1e-05, clf__kernel=rbf, scaler=MaxAbsScaler(copy=True) \n"
          ],
          "name": "stdout"
        },
        {
          "output_type": "stream",
          "text": [
            "/usr/local/lib/python3.7/dist-packages/sklearn/utils/deprecation.py:87: FutureWarning: Function safe_indexing is deprecated; safe_indexing is deprecated in version 0.22 and will be removed in version 0.24.\n",
            "  warnings.warn(msg, category=FutureWarning)\n"
          ],
          "name": "stderr"
        },
        {
          "output_type": "stream",
          "text": [
            "[CV]  clf__C=0.1, clf__gamma=1e-05, clf__kernel=rbf, scaler=MaxAbsScaler(copy=True), total= 2.5min\n",
            "[CV] clf__C=0.1, clf__gamma=1e-05, clf__kernel=rbf, scaler=MaxAbsScaler(copy=True) \n"
          ],
          "name": "stdout"
        },
        {
          "output_type": "stream",
          "text": [
            "/usr/local/lib/python3.7/dist-packages/sklearn/utils/deprecation.py:87: FutureWarning: Function safe_indexing is deprecated; safe_indexing is deprecated in version 0.22 and will be removed in version 0.24.\n",
            "  warnings.warn(msg, category=FutureWarning)\n"
          ],
          "name": "stderr"
        },
        {
          "output_type": "stream",
          "text": [
            "[CV]  clf__C=0.1, clf__gamma=1e-05, clf__kernel=rbf, scaler=MaxAbsScaler(copy=True), total= 2.5min\n",
            "[CV] clf__C=0.1, clf__gamma=1e-05, clf__kernel=rbf, scaler=MaxAbsScaler(copy=True) \n"
          ],
          "name": "stdout"
        },
        {
          "output_type": "stream",
          "text": [
            "/usr/local/lib/python3.7/dist-packages/sklearn/utils/deprecation.py:87: FutureWarning: Function safe_indexing is deprecated; safe_indexing is deprecated in version 0.22 and will be removed in version 0.24.\n",
            "  warnings.warn(msg, category=FutureWarning)\n"
          ],
          "name": "stderr"
        },
        {
          "output_type": "stream",
          "text": [
            "[CV]  clf__C=0.1, clf__gamma=1e-05, clf__kernel=rbf, scaler=MaxAbsScaler(copy=True), total= 2.5min\n",
            "[CV] clf__C=0.1, clf__gamma=1e-05, clf__kernel=rbf, scaler=Normalizer(copy=True, norm='l2') \n"
          ],
          "name": "stdout"
        },
        {
          "output_type": "stream",
          "text": [
            "/usr/local/lib/python3.7/dist-packages/sklearn/utils/deprecation.py:87: FutureWarning: Function safe_indexing is deprecated; safe_indexing is deprecated in version 0.22 and will be removed in version 0.24.\n",
            "  warnings.warn(msg, category=FutureWarning)\n"
          ],
          "name": "stderr"
        },
        {
          "output_type": "stream",
          "text": [
            "[CV]  clf__C=0.1, clf__gamma=1e-05, clf__kernel=rbf, scaler=Normalizer(copy=True, norm='l2'), total= 2.5min\n",
            "[CV] clf__C=0.1, clf__gamma=1e-05, clf__kernel=rbf, scaler=Normalizer(copy=True, norm='l2') \n"
          ],
          "name": "stdout"
        },
        {
          "output_type": "stream",
          "text": [
            "/usr/local/lib/python3.7/dist-packages/sklearn/utils/deprecation.py:87: FutureWarning: Function safe_indexing is deprecated; safe_indexing is deprecated in version 0.22 and will be removed in version 0.24.\n",
            "  warnings.warn(msg, category=FutureWarning)\n"
          ],
          "name": "stderr"
        },
        {
          "output_type": "stream",
          "text": [
            "[CV]  clf__C=0.1, clf__gamma=1e-05, clf__kernel=rbf, scaler=Normalizer(copy=True, norm='l2'), total= 2.5min\n",
            "[CV] clf__C=0.1, clf__gamma=1e-05, clf__kernel=rbf, scaler=Normalizer(copy=True, norm='l2') \n"
          ],
          "name": "stdout"
        },
        {
          "output_type": "stream",
          "text": [
            "/usr/local/lib/python3.7/dist-packages/sklearn/utils/deprecation.py:87: FutureWarning: Function safe_indexing is deprecated; safe_indexing is deprecated in version 0.22 and will be removed in version 0.24.\n",
            "  warnings.warn(msg, category=FutureWarning)\n"
          ],
          "name": "stderr"
        },
        {
          "output_type": "stream",
          "text": [
            "[CV]  clf__C=0.1, clf__gamma=1e-05, clf__kernel=rbf, scaler=Normalizer(copy=True, norm='l2'), total= 2.5min\n",
            "[CV] clf__C=0.1, clf__gamma=1e-05, clf__kernel=rbf, scaler=Normalizer(copy=True, norm='l2') \n"
          ],
          "name": "stdout"
        },
        {
          "output_type": "stream",
          "text": [
            "/usr/local/lib/python3.7/dist-packages/sklearn/utils/deprecation.py:87: FutureWarning: Function safe_indexing is deprecated; safe_indexing is deprecated in version 0.22 and will be removed in version 0.24.\n",
            "  warnings.warn(msg, category=FutureWarning)\n"
          ],
          "name": "stderr"
        },
        {
          "output_type": "stream",
          "text": [
            "[CV]  clf__C=0.1, clf__gamma=1e-05, clf__kernel=rbf, scaler=Normalizer(copy=True, norm='l2'), total= 2.5min\n",
            "[CV] clf__C=0.1, clf__gamma=1e-05, clf__kernel=rbf, scaler=Normalizer(copy=True, norm='l2') \n"
          ],
          "name": "stdout"
        },
        {
          "output_type": "stream",
          "text": [
            "/usr/local/lib/python3.7/dist-packages/sklearn/utils/deprecation.py:87: FutureWarning: Function safe_indexing is deprecated; safe_indexing is deprecated in version 0.22 and will be removed in version 0.24.\n",
            "  warnings.warn(msg, category=FutureWarning)\n"
          ],
          "name": "stderr"
        },
        {
          "output_type": "stream",
          "text": [
            "[CV]  clf__C=0.1, clf__gamma=1e-05, clf__kernel=rbf, scaler=Normalizer(copy=True, norm='l2'), total= 2.5min\n",
            "[CV] clf__C=0.1, clf__gamma=0.0001, clf__kernel=rbf, scaler=StandardScaler(copy=True, with_mean=True, with_std=True) \n"
          ],
          "name": "stdout"
        },
        {
          "output_type": "stream",
          "text": [
            "/usr/local/lib/python3.7/dist-packages/sklearn/utils/deprecation.py:87: FutureWarning: Function safe_indexing is deprecated; safe_indexing is deprecated in version 0.22 and will be removed in version 0.24.\n",
            "  warnings.warn(msg, category=FutureWarning)\n"
          ],
          "name": "stderr"
        },
        {
          "output_type": "stream",
          "text": [
            "[CV]  clf__C=0.1, clf__gamma=0.0001, clf__kernel=rbf, scaler=StandardScaler(copy=True, with_mean=True, with_std=True), total= 1.9min\n",
            "[CV] clf__C=0.1, clf__gamma=0.0001, clf__kernel=rbf, scaler=StandardScaler(copy=True, with_mean=True, with_std=True) \n"
          ],
          "name": "stdout"
        },
        {
          "output_type": "stream",
          "text": [
            "/usr/local/lib/python3.7/dist-packages/sklearn/utils/deprecation.py:87: FutureWarning: Function safe_indexing is deprecated; safe_indexing is deprecated in version 0.22 and will be removed in version 0.24.\n",
            "  warnings.warn(msg, category=FutureWarning)\n"
          ],
          "name": "stderr"
        },
        {
          "output_type": "stream",
          "text": [
            "[CV]  clf__C=0.1, clf__gamma=0.0001, clf__kernel=rbf, scaler=StandardScaler(copy=True, with_mean=True, with_std=True), total= 1.9min\n",
            "[CV] clf__C=0.1, clf__gamma=0.0001, clf__kernel=rbf, scaler=StandardScaler(copy=True, with_mean=True, with_std=True) \n"
          ],
          "name": "stdout"
        },
        {
          "output_type": "stream",
          "text": [
            "/usr/local/lib/python3.7/dist-packages/sklearn/utils/deprecation.py:87: FutureWarning: Function safe_indexing is deprecated; safe_indexing is deprecated in version 0.22 and will be removed in version 0.24.\n",
            "  warnings.warn(msg, category=FutureWarning)\n"
          ],
          "name": "stderr"
        },
        {
          "output_type": "stream",
          "text": [
            "[CV]  clf__C=0.1, clf__gamma=0.0001, clf__kernel=rbf, scaler=StandardScaler(copy=True, with_mean=True, with_std=True), total= 1.9min\n",
            "[CV] clf__C=0.1, clf__gamma=0.0001, clf__kernel=rbf, scaler=StandardScaler(copy=True, with_mean=True, with_std=True) \n"
          ],
          "name": "stdout"
        },
        {
          "output_type": "stream",
          "text": [
            "/usr/local/lib/python3.7/dist-packages/sklearn/utils/deprecation.py:87: FutureWarning: Function safe_indexing is deprecated; safe_indexing is deprecated in version 0.22 and will be removed in version 0.24.\n",
            "  warnings.warn(msg, category=FutureWarning)\n"
          ],
          "name": "stderr"
        },
        {
          "output_type": "stream",
          "text": [
            "[CV]  clf__C=0.1, clf__gamma=0.0001, clf__kernel=rbf, scaler=StandardScaler(copy=True, with_mean=True, with_std=True), total= 2.0min\n",
            "[CV] clf__C=0.1, clf__gamma=0.0001, clf__kernel=rbf, scaler=StandardScaler(copy=True, with_mean=True, with_std=True) \n"
          ],
          "name": "stdout"
        },
        {
          "output_type": "stream",
          "text": [
            "/usr/local/lib/python3.7/dist-packages/sklearn/utils/deprecation.py:87: FutureWarning: Function safe_indexing is deprecated; safe_indexing is deprecated in version 0.22 and will be removed in version 0.24.\n",
            "  warnings.warn(msg, category=FutureWarning)\n"
          ],
          "name": "stderr"
        },
        {
          "output_type": "stream",
          "text": [
            "[CV]  clf__C=0.1, clf__gamma=0.0001, clf__kernel=rbf, scaler=StandardScaler(copy=True, with_mean=True, with_std=True), total= 1.9min\n",
            "[CV] clf__C=0.1, clf__gamma=0.0001, clf__kernel=rbf, scaler=MaxAbsScaler(copy=True) \n"
          ],
          "name": "stdout"
        },
        {
          "output_type": "stream",
          "text": [
            "/usr/local/lib/python3.7/dist-packages/sklearn/utils/deprecation.py:87: FutureWarning: Function safe_indexing is deprecated; safe_indexing is deprecated in version 0.22 and will be removed in version 0.24.\n",
            "  warnings.warn(msg, category=FutureWarning)\n"
          ],
          "name": "stderr"
        },
        {
          "output_type": "stream",
          "text": [
            "[CV]  clf__C=0.1, clf__gamma=0.0001, clf__kernel=rbf, scaler=MaxAbsScaler(copy=True), total= 2.6min\n",
            "[CV] clf__C=0.1, clf__gamma=0.0001, clf__kernel=rbf, scaler=MaxAbsScaler(copy=True) \n"
          ],
          "name": "stdout"
        },
        {
          "output_type": "stream",
          "text": [
            "/usr/local/lib/python3.7/dist-packages/sklearn/utils/deprecation.py:87: FutureWarning: Function safe_indexing is deprecated; safe_indexing is deprecated in version 0.22 and will be removed in version 0.24.\n",
            "  warnings.warn(msg, category=FutureWarning)\n"
          ],
          "name": "stderr"
        },
        {
          "output_type": "stream",
          "text": [
            "[CV]  clf__C=0.1, clf__gamma=0.0001, clf__kernel=rbf, scaler=MaxAbsScaler(copy=True), total= 2.6min\n",
            "[CV] clf__C=0.1, clf__gamma=0.0001, clf__kernel=rbf, scaler=MaxAbsScaler(copy=True) \n"
          ],
          "name": "stdout"
        },
        {
          "output_type": "stream",
          "text": [
            "/usr/local/lib/python3.7/dist-packages/sklearn/utils/deprecation.py:87: FutureWarning: Function safe_indexing is deprecated; safe_indexing is deprecated in version 0.22 and will be removed in version 0.24.\n",
            "  warnings.warn(msg, category=FutureWarning)\n"
          ],
          "name": "stderr"
        },
        {
          "output_type": "stream",
          "text": [
            "[CV]  clf__C=0.1, clf__gamma=0.0001, clf__kernel=rbf, scaler=MaxAbsScaler(copy=True), total= 2.6min\n",
            "[CV] clf__C=0.1, clf__gamma=0.0001, clf__kernel=rbf, scaler=MaxAbsScaler(copy=True) \n"
          ],
          "name": "stdout"
        },
        {
          "output_type": "stream",
          "text": [
            "/usr/local/lib/python3.7/dist-packages/sklearn/utils/deprecation.py:87: FutureWarning: Function safe_indexing is deprecated; safe_indexing is deprecated in version 0.22 and will be removed in version 0.24.\n",
            "  warnings.warn(msg, category=FutureWarning)\n"
          ],
          "name": "stderr"
        },
        {
          "output_type": "stream",
          "text": [
            "[CV]  clf__C=0.1, clf__gamma=0.0001, clf__kernel=rbf, scaler=MaxAbsScaler(copy=True), total= 2.6min\n",
            "[CV] clf__C=0.1, clf__gamma=0.0001, clf__kernel=rbf, scaler=MaxAbsScaler(copy=True) \n"
          ],
          "name": "stdout"
        },
        {
          "output_type": "stream",
          "text": [
            "/usr/local/lib/python3.7/dist-packages/sklearn/utils/deprecation.py:87: FutureWarning: Function safe_indexing is deprecated; safe_indexing is deprecated in version 0.22 and will be removed in version 0.24.\n",
            "  warnings.warn(msg, category=FutureWarning)\n"
          ],
          "name": "stderr"
        },
        {
          "output_type": "stream",
          "text": [
            "[CV]  clf__C=0.1, clf__gamma=0.0001, clf__kernel=rbf, scaler=MaxAbsScaler(copy=True), total= 2.5min\n",
            "[CV] clf__C=0.1, clf__gamma=0.0001, clf__kernel=rbf, scaler=Normalizer(copy=True, norm='l2') \n"
          ],
          "name": "stdout"
        },
        {
          "output_type": "stream",
          "text": [
            "/usr/local/lib/python3.7/dist-packages/sklearn/utils/deprecation.py:87: FutureWarning: Function safe_indexing is deprecated; safe_indexing is deprecated in version 0.22 and will be removed in version 0.24.\n",
            "  warnings.warn(msg, category=FutureWarning)\n"
          ],
          "name": "stderr"
        },
        {
          "output_type": "stream",
          "text": [
            "[CV]  clf__C=0.1, clf__gamma=0.0001, clf__kernel=rbf, scaler=Normalizer(copy=True, norm='l2'), total= 2.5min\n",
            "[CV] clf__C=0.1, clf__gamma=0.0001, clf__kernel=rbf, scaler=Normalizer(copy=True, norm='l2') \n"
          ],
          "name": "stdout"
        },
        {
          "output_type": "stream",
          "text": [
            "/usr/local/lib/python3.7/dist-packages/sklearn/utils/deprecation.py:87: FutureWarning: Function safe_indexing is deprecated; safe_indexing is deprecated in version 0.22 and will be removed in version 0.24.\n",
            "  warnings.warn(msg, category=FutureWarning)\n"
          ],
          "name": "stderr"
        },
        {
          "output_type": "stream",
          "text": [
            "[CV]  clf__C=0.1, clf__gamma=0.0001, clf__kernel=rbf, scaler=Normalizer(copy=True, norm='l2'), total= 2.5min\n",
            "[CV] clf__C=0.1, clf__gamma=0.0001, clf__kernel=rbf, scaler=Normalizer(copy=True, norm='l2') \n"
          ],
          "name": "stdout"
        },
        {
          "output_type": "stream",
          "text": [
            "/usr/local/lib/python3.7/dist-packages/sklearn/utils/deprecation.py:87: FutureWarning: Function safe_indexing is deprecated; safe_indexing is deprecated in version 0.22 and will be removed in version 0.24.\n",
            "  warnings.warn(msg, category=FutureWarning)\n"
          ],
          "name": "stderr"
        },
        {
          "output_type": "stream",
          "text": [
            "[CV]  clf__C=0.1, clf__gamma=0.0001, clf__kernel=rbf, scaler=Normalizer(copy=True, norm='l2'), total= 2.5min\n",
            "[CV] clf__C=0.1, clf__gamma=0.0001, clf__kernel=rbf, scaler=Normalizer(copy=True, norm='l2') \n"
          ],
          "name": "stdout"
        },
        {
          "output_type": "stream",
          "text": [
            "/usr/local/lib/python3.7/dist-packages/sklearn/utils/deprecation.py:87: FutureWarning: Function safe_indexing is deprecated; safe_indexing is deprecated in version 0.22 and will be removed in version 0.24.\n",
            "  warnings.warn(msg, category=FutureWarning)\n"
          ],
          "name": "stderr"
        },
        {
          "output_type": "stream",
          "text": [
            "[CV]  clf__C=0.1, clf__gamma=0.0001, clf__kernel=rbf, scaler=Normalizer(copy=True, norm='l2'), total= 2.5min\n",
            "[CV] clf__C=0.1, clf__gamma=0.0001, clf__kernel=rbf, scaler=Normalizer(copy=True, norm='l2') \n"
          ],
          "name": "stdout"
        },
        {
          "output_type": "stream",
          "text": [
            "/usr/local/lib/python3.7/dist-packages/sklearn/utils/deprecation.py:87: FutureWarning: Function safe_indexing is deprecated; safe_indexing is deprecated in version 0.22 and will be removed in version 0.24.\n",
            "  warnings.warn(msg, category=FutureWarning)\n"
          ],
          "name": "stderr"
        },
        {
          "output_type": "stream",
          "text": [
            "[CV]  clf__C=0.1, clf__gamma=0.0001, clf__kernel=rbf, scaler=Normalizer(copy=True, norm='l2'), total= 2.5min\n",
            "[CV] clf__C=0.1, clf__gamma=0.001, clf__kernel=rbf, scaler=StandardScaler(copy=True, with_mean=True, with_std=True) \n"
          ],
          "name": "stdout"
        },
        {
          "output_type": "stream",
          "text": [
            "/usr/local/lib/python3.7/dist-packages/sklearn/utils/deprecation.py:87: FutureWarning: Function safe_indexing is deprecated; safe_indexing is deprecated in version 0.22 and will be removed in version 0.24.\n",
            "  warnings.warn(msg, category=FutureWarning)\n"
          ],
          "name": "stderr"
        },
        {
          "output_type": "stream",
          "text": [
            "[CV]  clf__C=0.1, clf__gamma=0.001, clf__kernel=rbf, scaler=StandardScaler(copy=True, with_mean=True, with_std=True), total= 2.3min\n",
            "[CV] clf__C=0.1, clf__gamma=0.001, clf__kernel=rbf, scaler=StandardScaler(copy=True, with_mean=True, with_std=True) \n"
          ],
          "name": "stdout"
        },
        {
          "output_type": "stream",
          "text": [
            "/usr/local/lib/python3.7/dist-packages/sklearn/utils/deprecation.py:87: FutureWarning: Function safe_indexing is deprecated; safe_indexing is deprecated in version 0.22 and will be removed in version 0.24.\n",
            "  warnings.warn(msg, category=FutureWarning)\n"
          ],
          "name": "stderr"
        },
        {
          "output_type": "stream",
          "text": [
            "[CV]  clf__C=0.1, clf__gamma=0.001, clf__kernel=rbf, scaler=StandardScaler(copy=True, with_mean=True, with_std=True), total= 2.3min\n",
            "[CV] clf__C=0.1, clf__gamma=0.001, clf__kernel=rbf, scaler=StandardScaler(copy=True, with_mean=True, with_std=True) \n"
          ],
          "name": "stdout"
        },
        {
          "output_type": "stream",
          "text": [
            "/usr/local/lib/python3.7/dist-packages/sklearn/utils/deprecation.py:87: FutureWarning: Function safe_indexing is deprecated; safe_indexing is deprecated in version 0.22 and will be removed in version 0.24.\n",
            "  warnings.warn(msg, category=FutureWarning)\n"
          ],
          "name": "stderr"
        },
        {
          "output_type": "stream",
          "text": [
            "[CV]  clf__C=0.1, clf__gamma=0.001, clf__kernel=rbf, scaler=StandardScaler(copy=True, with_mean=True, with_std=True), total= 2.3min\n",
            "[CV] clf__C=0.1, clf__gamma=0.001, clf__kernel=rbf, scaler=StandardScaler(copy=True, with_mean=True, with_std=True) \n"
          ],
          "name": "stdout"
        },
        {
          "output_type": "stream",
          "text": [
            "/usr/local/lib/python3.7/dist-packages/sklearn/utils/deprecation.py:87: FutureWarning: Function safe_indexing is deprecated; safe_indexing is deprecated in version 0.22 and will be removed in version 0.24.\n",
            "  warnings.warn(msg, category=FutureWarning)\n"
          ],
          "name": "stderr"
        },
        {
          "output_type": "stream",
          "text": [
            "[CV]  clf__C=0.1, clf__gamma=0.001, clf__kernel=rbf, scaler=StandardScaler(copy=True, with_mean=True, with_std=True), total= 2.3min\n",
            "[CV] clf__C=0.1, clf__gamma=0.001, clf__kernel=rbf, scaler=StandardScaler(copy=True, with_mean=True, with_std=True) \n"
          ],
          "name": "stdout"
        },
        {
          "output_type": "stream",
          "text": [
            "/usr/local/lib/python3.7/dist-packages/sklearn/utils/deprecation.py:87: FutureWarning: Function safe_indexing is deprecated; safe_indexing is deprecated in version 0.22 and will be removed in version 0.24.\n",
            "  warnings.warn(msg, category=FutureWarning)\n"
          ],
          "name": "stderr"
        },
        {
          "output_type": "stream",
          "text": [
            "[CV]  clf__C=0.1, clf__gamma=0.001, clf__kernel=rbf, scaler=StandardScaler(copy=True, with_mean=True, with_std=True), total= 2.3min\n",
            "[CV] clf__C=0.1, clf__gamma=0.001, clf__kernel=rbf, scaler=MaxAbsScaler(copy=True) \n"
          ],
          "name": "stdout"
        },
        {
          "output_type": "stream",
          "text": [
            "/usr/local/lib/python3.7/dist-packages/sklearn/utils/deprecation.py:87: FutureWarning: Function safe_indexing is deprecated; safe_indexing is deprecated in version 0.22 and will be removed in version 0.24.\n",
            "  warnings.warn(msg, category=FutureWarning)\n"
          ],
          "name": "stderr"
        },
        {
          "output_type": "stream",
          "text": [
            "[CV]  clf__C=0.1, clf__gamma=0.001, clf__kernel=rbf, scaler=MaxAbsScaler(copy=True), total= 2.2min\n",
            "[CV] clf__C=0.1, clf__gamma=0.001, clf__kernel=rbf, scaler=MaxAbsScaler(copy=True) \n"
          ],
          "name": "stdout"
        },
        {
          "output_type": "stream",
          "text": [
            "/usr/local/lib/python3.7/dist-packages/sklearn/utils/deprecation.py:87: FutureWarning: Function safe_indexing is deprecated; safe_indexing is deprecated in version 0.22 and will be removed in version 0.24.\n",
            "  warnings.warn(msg, category=FutureWarning)\n"
          ],
          "name": "stderr"
        },
        {
          "output_type": "stream",
          "text": [
            "[CV]  clf__C=0.1, clf__gamma=0.001, clf__kernel=rbf, scaler=MaxAbsScaler(copy=True), total= 2.2min\n",
            "[CV] clf__C=0.1, clf__gamma=0.001, clf__kernel=rbf, scaler=MaxAbsScaler(copy=True) \n"
          ],
          "name": "stdout"
        },
        {
          "output_type": "stream",
          "text": [
            "/usr/local/lib/python3.7/dist-packages/sklearn/utils/deprecation.py:87: FutureWarning: Function safe_indexing is deprecated; safe_indexing is deprecated in version 0.22 and will be removed in version 0.24.\n",
            "  warnings.warn(msg, category=FutureWarning)\n"
          ],
          "name": "stderr"
        },
        {
          "output_type": "stream",
          "text": [
            "[CV]  clf__C=0.1, clf__gamma=0.001, clf__kernel=rbf, scaler=MaxAbsScaler(copy=True), total= 2.2min\n",
            "[CV] clf__C=0.1, clf__gamma=0.001, clf__kernel=rbf, scaler=MaxAbsScaler(copy=True) \n"
          ],
          "name": "stdout"
        },
        {
          "output_type": "stream",
          "text": [
            "/usr/local/lib/python3.7/dist-packages/sklearn/utils/deprecation.py:87: FutureWarning: Function safe_indexing is deprecated; safe_indexing is deprecated in version 0.22 and will be removed in version 0.24.\n",
            "  warnings.warn(msg, category=FutureWarning)\n"
          ],
          "name": "stderr"
        },
        {
          "output_type": "stream",
          "text": [
            "[CV]  clf__C=0.1, clf__gamma=0.001, clf__kernel=rbf, scaler=MaxAbsScaler(copy=True), total= 2.2min\n",
            "[CV] clf__C=0.1, clf__gamma=0.001, clf__kernel=rbf, scaler=MaxAbsScaler(copy=True) \n"
          ],
          "name": "stdout"
        },
        {
          "output_type": "stream",
          "text": [
            "/usr/local/lib/python3.7/dist-packages/sklearn/utils/deprecation.py:87: FutureWarning: Function safe_indexing is deprecated; safe_indexing is deprecated in version 0.22 and will be removed in version 0.24.\n",
            "  warnings.warn(msg, category=FutureWarning)\n"
          ],
          "name": "stderr"
        },
        {
          "output_type": "stream",
          "text": [
            "[CV]  clf__C=0.1, clf__gamma=0.001, clf__kernel=rbf, scaler=MaxAbsScaler(copy=True), total= 2.2min\n",
            "[CV] clf__C=0.1, clf__gamma=0.001, clf__kernel=rbf, scaler=Normalizer(copy=True, norm='l2') \n"
          ],
          "name": "stdout"
        },
        {
          "output_type": "stream",
          "text": [
            "/usr/local/lib/python3.7/dist-packages/sklearn/utils/deprecation.py:87: FutureWarning: Function safe_indexing is deprecated; safe_indexing is deprecated in version 0.22 and will be removed in version 0.24.\n",
            "  warnings.warn(msg, category=FutureWarning)\n"
          ],
          "name": "stderr"
        },
        {
          "output_type": "stream",
          "text": [
            "[CV]  clf__C=0.1, clf__gamma=0.001, clf__kernel=rbf, scaler=Normalizer(copy=True, norm='l2'), total= 2.5min\n",
            "[CV] clf__C=0.1, clf__gamma=0.001, clf__kernel=rbf, scaler=Normalizer(copy=True, norm='l2') \n"
          ],
          "name": "stdout"
        },
        {
          "output_type": "stream",
          "text": [
            "/usr/local/lib/python3.7/dist-packages/sklearn/utils/deprecation.py:87: FutureWarning: Function safe_indexing is deprecated; safe_indexing is deprecated in version 0.22 and will be removed in version 0.24.\n",
            "  warnings.warn(msg, category=FutureWarning)\n"
          ],
          "name": "stderr"
        },
        {
          "output_type": "stream",
          "text": [
            "[CV]  clf__C=0.1, clf__gamma=0.001, clf__kernel=rbf, scaler=Normalizer(copy=True, norm='l2'), total= 2.5min\n",
            "[CV] clf__C=0.1, clf__gamma=0.001, clf__kernel=rbf, scaler=Normalizer(copy=True, norm='l2') \n"
          ],
          "name": "stdout"
        },
        {
          "output_type": "stream",
          "text": [
            "/usr/local/lib/python3.7/dist-packages/sklearn/utils/deprecation.py:87: FutureWarning: Function safe_indexing is deprecated; safe_indexing is deprecated in version 0.22 and will be removed in version 0.24.\n",
            "  warnings.warn(msg, category=FutureWarning)\n"
          ],
          "name": "stderr"
        },
        {
          "output_type": "stream",
          "text": [
            "[CV]  clf__C=0.1, clf__gamma=0.001, clf__kernel=rbf, scaler=Normalizer(copy=True, norm='l2'), total= 2.5min\n",
            "[CV] clf__C=0.1, clf__gamma=0.001, clf__kernel=rbf, scaler=Normalizer(copy=True, norm='l2') \n"
          ],
          "name": "stdout"
        },
        {
          "output_type": "stream",
          "text": [
            "/usr/local/lib/python3.7/dist-packages/sklearn/utils/deprecation.py:87: FutureWarning: Function safe_indexing is deprecated; safe_indexing is deprecated in version 0.22 and will be removed in version 0.24.\n",
            "  warnings.warn(msg, category=FutureWarning)\n"
          ],
          "name": "stderr"
        },
        {
          "output_type": "stream",
          "text": [
            "[CV]  clf__C=0.1, clf__gamma=0.001, clf__kernel=rbf, scaler=Normalizer(copy=True, norm='l2'), total= 2.6min\n",
            "[CV] clf__C=0.1, clf__gamma=0.001, clf__kernel=rbf, scaler=Normalizer(copy=True, norm='l2') \n"
          ],
          "name": "stdout"
        },
        {
          "output_type": "stream",
          "text": [
            "/usr/local/lib/python3.7/dist-packages/sklearn/utils/deprecation.py:87: FutureWarning: Function safe_indexing is deprecated; safe_indexing is deprecated in version 0.22 and will be removed in version 0.24.\n",
            "  warnings.warn(msg, category=FutureWarning)\n"
          ],
          "name": "stderr"
        },
        {
          "output_type": "stream",
          "text": [
            "[CV]  clf__C=0.1, clf__gamma=0.001, clf__kernel=rbf, scaler=Normalizer(copy=True, norm='l2'), total= 2.6min\n"
          ],
          "name": "stdout"
        },
        {
          "output_type": "stream",
          "text": [
            "[Parallel(n_jobs=1)]: Done 180 out of 180 | elapsed: 673.3min finished\n",
            "/usr/local/lib/python3.7/dist-packages/sklearn/utils/deprecation.py:87: FutureWarning: Function safe_indexing is deprecated; safe_indexing is deprecated in version 0.22 and will be removed in version 0.24.\n",
            "  warnings.warn(msg, category=FutureWarning)\n"
          ],
          "name": "stderr"
        },
        {
          "output_type": "stream",
          "text": [
            "{'mean_fit_time': array([135.76563396, 135.23377213, 131.97484145, 131.86179652,\n",
            "       132.93340616, 132.08376184, 132.33876009, 130.61156592,\n",
            "       130.82215152, 130.675142  , 130.46551423, 131.44200902,\n",
            "       130.87586527, 130.47310452, 131.23238268, 132.14507813,\n",
            "       131.63717937, 131.5033915 , 133.22788191, 133.18645802,\n",
            "       132.65147595, 127.52937884, 132.32354922, 132.04201393,\n",
            "       131.90371857, 131.80949574, 131.22147326, 118.6269032 ,\n",
            "       130.8662673 , 131.6031549 , 103.79807463, 133.63230777,\n",
            "       131.9108273 , 120.05320296, 117.55436263, 133.37848902]), 'std_fit_time': array([0.30055127, 1.31333371, 0.32040411, 0.27138303, 0.70222683,\n",
            "       0.19860008, 0.20869334, 0.26788835, 0.17728708, 0.17925918,\n",
            "       0.41534648, 0.64596018, 0.29081251, 0.29626215, 0.70162554,\n",
            "       0.26788704, 0.3774254 , 0.41340482, 0.22562936, 0.32970119,\n",
            "       0.55060755, 0.62215089, 0.43896171, 0.65924003, 0.46114818,\n",
            "       0.84433849, 0.55594194, 0.44300223, 0.2441974 , 0.4547579 ,\n",
            "       0.98814324, 0.57148121, 0.56470006, 0.48860468, 0.37864866,\n",
            "       0.75255944]), 'mean_score_time': array([19.91319132, 19.70430927, 19.36155529, 19.38033137, 19.42625718,\n",
            "       19.36215568, 19.5107945 , 19.17758107, 19.19547205, 19.18342547,\n",
            "       19.13293729, 19.27061133, 19.2349833 , 19.11310282, 19.31237898,\n",
            "       19.43125391, 19.32011309, 19.25539298, 19.60756183, 19.54373298,\n",
            "       19.4097991 , 18.16591582, 19.38886185, 19.42120767, 19.43840523,\n",
            "       19.4191359 , 19.2681437 , 16.29972882, 19.28361907, 19.36740155,\n",
            "       12.18035545, 19.65250793, 19.34282908, 16.23747115, 15.95853524,\n",
            "       19.60694098]), 'std_score_time': array([0.29801899, 0.1200555 , 0.10063585, 0.05802167, 0.05800914,\n",
            "       0.05406848, 0.16476735, 0.03302437, 0.05173742, 0.04977137,\n",
            "       0.07498341, 0.04494073, 0.04242304, 0.06621606, 0.14317216,\n",
            "       0.04305185, 0.06177423, 0.02458813, 0.12552152, 0.07340052,\n",
            "       0.05509818, 0.14166139, 0.07816588, 0.09330675, 0.08957167,\n",
            "       0.07715026, 0.07441298, 0.11644773, 0.03926972, 0.11755447,\n",
            "       0.17486633, 0.13268031, 0.13676071, 0.06409952, 0.0988372 ,\n",
            "       0.17257334]), 'param_clf__C': masked_array(data=[0.0001, 0.0001, 0.0001, 0.0001, 0.0001, 0.0001, 0.0001,\n",
            "                   0.0001, 0.0001, 0.001, 0.001, 0.001, 0.001, 0.001,\n",
            "                   0.001, 0.001, 0.001, 0.001, 0.01, 0.01, 0.01, 0.01,\n",
            "                   0.01, 0.01, 0.01, 0.01, 0.01, 0.1, 0.1, 0.1, 0.1, 0.1,\n",
            "                   0.1, 0.1, 0.1, 0.1],\n",
            "             mask=[False, False, False, False, False, False, False, False,\n",
            "                   False, False, False, False, False, False, False, False,\n",
            "                   False, False, False, False, False, False, False, False,\n",
            "                   False, False, False, False, False, False, False, False,\n",
            "                   False, False, False, False],\n",
            "       fill_value='?',\n",
            "            dtype=object), 'param_clf__gamma': masked_array(data=[1e-05, 1e-05, 1e-05, 0.0001, 0.0001, 0.0001, 0.001,\n",
            "                   0.001, 0.001, 1e-05, 1e-05, 1e-05, 0.0001, 0.0001,\n",
            "                   0.0001, 0.001, 0.001, 0.001, 1e-05, 1e-05, 1e-05,\n",
            "                   0.0001, 0.0001, 0.0001, 0.001, 0.001, 0.001, 1e-05,\n",
            "                   1e-05, 1e-05, 0.0001, 0.0001, 0.0001, 0.001, 0.001,\n",
            "                   0.001],\n",
            "             mask=[False, False, False, False, False, False, False, False,\n",
            "                   False, False, False, False, False, False, False, False,\n",
            "                   False, False, False, False, False, False, False, False,\n",
            "                   False, False, False, False, False, False, False, False,\n",
            "                   False, False, False, False],\n",
            "       fill_value='?',\n",
            "            dtype=object), 'param_clf__kernel': masked_array(data=['rbf', 'rbf', 'rbf', 'rbf', 'rbf', 'rbf', 'rbf', 'rbf',\n",
            "                   'rbf', 'rbf', 'rbf', 'rbf', 'rbf', 'rbf', 'rbf', 'rbf',\n",
            "                   'rbf', 'rbf', 'rbf', 'rbf', 'rbf', 'rbf', 'rbf', 'rbf',\n",
            "                   'rbf', 'rbf', 'rbf', 'rbf', 'rbf', 'rbf', 'rbf', 'rbf',\n",
            "                   'rbf', 'rbf', 'rbf', 'rbf'],\n",
            "             mask=[False, False, False, False, False, False, False, False,\n",
            "                   False, False, False, False, False, False, False, False,\n",
            "                   False, False, False, False, False, False, False, False,\n",
            "                   False, False, False, False, False, False, False, False,\n",
            "                   False, False, False, False],\n",
            "       fill_value='?',\n",
            "            dtype=object), 'param_scaler': masked_array(data=[StandardScaler(copy=True, with_mean=True, with_std=True),\n",
            "                   MaxAbsScaler(copy=True),\n",
            "                   Normalizer(copy=True, norm='l2'),\n",
            "                   StandardScaler(copy=True, with_mean=True, with_std=True),\n",
            "                   MaxAbsScaler(copy=True),\n",
            "                   Normalizer(copy=True, norm='l2'),\n",
            "                   StandardScaler(copy=True, with_mean=True, with_std=True),\n",
            "                   MaxAbsScaler(copy=True),\n",
            "                   Normalizer(copy=True, norm='l2'),\n",
            "                   StandardScaler(copy=True, with_mean=True, with_std=True),\n",
            "                   MaxAbsScaler(copy=True),\n",
            "                   Normalizer(copy=True, norm='l2'),\n",
            "                   StandardScaler(copy=True, with_mean=True, with_std=True),\n",
            "                   MaxAbsScaler(copy=True),\n",
            "                   Normalizer(copy=True, norm='l2'),\n",
            "                   StandardScaler(copy=True, with_mean=True, with_std=True),\n",
            "                   MaxAbsScaler(copy=True),\n",
            "                   Normalizer(copy=True, norm='l2'),\n",
            "                   StandardScaler(copy=True, with_mean=True, with_std=True),\n",
            "                   MaxAbsScaler(copy=True),\n",
            "                   Normalizer(copy=True, norm='l2'),\n",
            "                   StandardScaler(copy=True, with_mean=True, with_std=True),\n",
            "                   MaxAbsScaler(copy=True),\n",
            "                   Normalizer(copy=True, norm='l2'),\n",
            "                   StandardScaler(copy=True, with_mean=True, with_std=True),\n",
            "                   MaxAbsScaler(copy=True),\n",
            "                   Normalizer(copy=True, norm='l2'),\n",
            "                   StandardScaler(copy=True, with_mean=True, with_std=True),\n",
            "                   MaxAbsScaler(copy=True),\n",
            "                   Normalizer(copy=True, norm='l2'),\n",
            "                   StandardScaler(copy=True, with_mean=True, with_std=True),\n",
            "                   MaxAbsScaler(copy=True),\n",
            "                   Normalizer(copy=True, norm='l2'),\n",
            "                   StandardScaler(copy=True, with_mean=True, with_std=True),\n",
            "                   MaxAbsScaler(copy=True),\n",
            "                   Normalizer(copy=True, norm='l2')],\n",
            "             mask=[False, False, False, False, False, False, False, False,\n",
            "                   False, False, False, False, False, False, False, False,\n",
            "                   False, False, False, False, False, False, False, False,\n",
            "                   False, False, False, False, False, False, False, False,\n",
            "                   False, False, False, False],\n",
            "       fill_value='?',\n",
            "            dtype=object), 'params': [{'clf__C': 0.0001, 'clf__gamma': 1e-05, 'clf__kernel': 'rbf', 'scaler': StandardScaler(copy=True, with_mean=True, with_std=True)}, {'clf__C': 0.0001, 'clf__gamma': 1e-05, 'clf__kernel': 'rbf', 'scaler': MaxAbsScaler(copy=True)}, {'clf__C': 0.0001, 'clf__gamma': 1e-05, 'clf__kernel': 'rbf', 'scaler': Normalizer(copy=True, norm='l2')}, {'clf__C': 0.0001, 'clf__gamma': 0.0001, 'clf__kernel': 'rbf', 'scaler': StandardScaler(copy=True, with_mean=True, with_std=True)}, {'clf__C': 0.0001, 'clf__gamma': 0.0001, 'clf__kernel': 'rbf', 'scaler': MaxAbsScaler(copy=True)}, {'clf__C': 0.0001, 'clf__gamma': 0.0001, 'clf__kernel': 'rbf', 'scaler': Normalizer(copy=True, norm='l2')}, {'clf__C': 0.0001, 'clf__gamma': 0.001, 'clf__kernel': 'rbf', 'scaler': StandardScaler(copy=True, with_mean=True, with_std=True)}, {'clf__C': 0.0001, 'clf__gamma': 0.001, 'clf__kernel': 'rbf', 'scaler': MaxAbsScaler(copy=True)}, {'clf__C': 0.0001, 'clf__gamma': 0.001, 'clf__kernel': 'rbf', 'scaler': Normalizer(copy=True, norm='l2')}, {'clf__C': 0.001, 'clf__gamma': 1e-05, 'clf__kernel': 'rbf', 'scaler': StandardScaler(copy=True, with_mean=True, with_std=True)}, {'clf__C': 0.001, 'clf__gamma': 1e-05, 'clf__kernel': 'rbf', 'scaler': MaxAbsScaler(copy=True)}, {'clf__C': 0.001, 'clf__gamma': 1e-05, 'clf__kernel': 'rbf', 'scaler': Normalizer(copy=True, norm='l2')}, {'clf__C': 0.001, 'clf__gamma': 0.0001, 'clf__kernel': 'rbf', 'scaler': StandardScaler(copy=True, with_mean=True, with_std=True)}, {'clf__C': 0.001, 'clf__gamma': 0.0001, 'clf__kernel': 'rbf', 'scaler': MaxAbsScaler(copy=True)}, {'clf__C': 0.001, 'clf__gamma': 0.0001, 'clf__kernel': 'rbf', 'scaler': Normalizer(copy=True, norm='l2')}, {'clf__C': 0.001, 'clf__gamma': 0.001, 'clf__kernel': 'rbf', 'scaler': StandardScaler(copy=True, with_mean=True, with_std=True)}, {'clf__C': 0.001, 'clf__gamma': 0.001, 'clf__kernel': 'rbf', 'scaler': MaxAbsScaler(copy=True)}, {'clf__C': 0.001, 'clf__gamma': 0.001, 'clf__kernel': 'rbf', 'scaler': Normalizer(copy=True, norm='l2')}, {'clf__C': 0.01, 'clf__gamma': 1e-05, 'clf__kernel': 'rbf', 'scaler': StandardScaler(copy=True, with_mean=True, with_std=True)}, {'clf__C': 0.01, 'clf__gamma': 1e-05, 'clf__kernel': 'rbf', 'scaler': MaxAbsScaler(copy=True)}, {'clf__C': 0.01, 'clf__gamma': 1e-05, 'clf__kernel': 'rbf', 'scaler': Normalizer(copy=True, norm='l2')}, {'clf__C': 0.01, 'clf__gamma': 0.0001, 'clf__kernel': 'rbf', 'scaler': StandardScaler(copy=True, with_mean=True, with_std=True)}, {'clf__C': 0.01, 'clf__gamma': 0.0001, 'clf__kernel': 'rbf', 'scaler': MaxAbsScaler(copy=True)}, {'clf__C': 0.01, 'clf__gamma': 0.0001, 'clf__kernel': 'rbf', 'scaler': Normalizer(copy=True, norm='l2')}, {'clf__C': 0.01, 'clf__gamma': 0.001, 'clf__kernel': 'rbf', 'scaler': StandardScaler(copy=True, with_mean=True, with_std=True)}, {'clf__C': 0.01, 'clf__gamma': 0.001, 'clf__kernel': 'rbf', 'scaler': MaxAbsScaler(copy=True)}, {'clf__C': 0.01, 'clf__gamma': 0.001, 'clf__kernel': 'rbf', 'scaler': Normalizer(copy=True, norm='l2')}, {'clf__C': 0.1, 'clf__gamma': 1e-05, 'clf__kernel': 'rbf', 'scaler': StandardScaler(copy=True, with_mean=True, with_std=True)}, {'clf__C': 0.1, 'clf__gamma': 1e-05, 'clf__kernel': 'rbf', 'scaler': MaxAbsScaler(copy=True)}, {'clf__C': 0.1, 'clf__gamma': 1e-05, 'clf__kernel': 'rbf', 'scaler': Normalizer(copy=True, norm='l2')}, {'clf__C': 0.1, 'clf__gamma': 0.0001, 'clf__kernel': 'rbf', 'scaler': StandardScaler(copy=True, with_mean=True, with_std=True)}, {'clf__C': 0.1, 'clf__gamma': 0.0001, 'clf__kernel': 'rbf', 'scaler': MaxAbsScaler(copy=True)}, {'clf__C': 0.1, 'clf__gamma': 0.0001, 'clf__kernel': 'rbf', 'scaler': Normalizer(copy=True, norm='l2')}, {'clf__C': 0.1, 'clf__gamma': 0.001, 'clf__kernel': 'rbf', 'scaler': StandardScaler(copy=True, with_mean=True, with_std=True)}, {'clf__C': 0.1, 'clf__gamma': 0.001, 'clf__kernel': 'rbf', 'scaler': MaxAbsScaler(copy=True)}, {'clf__C': 0.1, 'clf__gamma': 0.001, 'clf__kernel': 'rbf', 'scaler': Normalizer(copy=True, norm='l2')}], 'split0_test_score': array([0.81509528, 0.81665688, 0.80540639, 0.81793412, 0.81681071,\n",
            "       0.80563713, 0.80648086, 0.81716032, 0.80597742, 0.81602758,\n",
            "       0.81662192, 0.80566976, 0.81786187, 0.8170298 , 0.80631072,\n",
            "       0.80774645, 0.81736309, 0.80591915, 0.81573157, 0.81670349,\n",
            "       0.80501482, 0.8182581 , 0.81709273, 0.80577231, 0.80563713,\n",
            "       0.81652636, 0.80576765, 0.81688762, 0.81682469, 0.80583291,\n",
            "       0.82594022, 0.81701581, 0.8050055 , 0.81525144, 0.81836531,\n",
            "       0.80575833]), 'split1_test_score': array([0.84949339, 0.84973386, 0.8459915 , 0.85091983, 0.84975487,\n",
            "       0.8459308 , 0.829012  , 0.84992763, 0.8459168 , 0.84937199,\n",
            "       0.85001167, 0.84635336, 0.85020544, 0.84971751, 0.84620862,\n",
            "       0.83117383, 0.8500537 , 0.84559229, 0.84923425, 0.84965681,\n",
            "       0.84633002, 0.85241397, 0.84975954, 0.84629033, 0.83147266,\n",
            "       0.84936499, 0.84590279, 0.85294626, 0.84971051, 0.84590746,\n",
            "       0.86531961, 0.84963347, 0.84585143, 0.84160247, 0.8539548 ,\n",
            "       0.84603586]), 'split2_test_score': array([0.82529299, 0.8239506 , 0.81736938, 0.82565952, 0.82422842,\n",
            "       0.81758416, 0.80800299, 0.82357473, 0.81705888, 0.82502451,\n",
            "       0.8242681 , 0.81777093, 0.82581828, 0.82427044, 0.81732269,\n",
            "       0.80740066, 0.82477238, 0.81757482, 0.82508054, 0.8239506 ,\n",
            "       0.81794369, 0.82772564, 0.82446888, 0.81749545, 0.80774852,\n",
            "       0.8247537 , 0.81772891, 0.82948359, 0.82408134, 0.81730635,\n",
            "       0.84200868, 0.82403931, 0.81749078, 0.81581921, 0.82940421,\n",
            "       0.81770556]), 'split3_test_score': array([0.85785007, 0.85814883, 0.8486843 , 0.85690012, 0.85768435,\n",
            "       0.84961558, 0.82831048, 0.85749063, 0.84903207, 0.85811382,\n",
            "       0.85802512, 0.84935417, 0.85655001, 0.85759099, 0.84950588,\n",
            "       0.82886132, 0.85764468, 0.84895972, 0.85797144, 0.85757232,\n",
            "       0.8490204 , 0.85810915, 0.85766335, 0.84926548, 0.82874928,\n",
            "       0.85768435, 0.8491301 , 0.8599437 , 0.85772403, 0.84946621,\n",
            "       0.86772305, 0.85735759, 0.84878467, 0.83959322, 0.86020512,\n",
            "       0.84917212]), 'split4_test_score': array([0.84052684, 0.8407299 , 0.83900038, 0.84252011, 0.8407369 ,\n",
            "       0.83909841, 0.8261515 , 0.84107067, 0.83900271, 0.84030277,\n",
            "       0.84076258, 0.83815312, 0.84212799, 0.8406342 , 0.83902839,\n",
            "       0.82807475, 0.84108001, 0.83828616, 0.8404078 , 0.84059453,\n",
            "       0.83827216, 0.84400689, 0.84046149, 0.83827449, 0.82790203,\n",
            "       0.84088862, 0.83823248, 0.84393453, 0.84052451, 0.83874597,\n",
            "       0.85542267, 0.84058986, 0.83894436, 0.83727786, 0.84468843,\n",
            "       0.8387343 ]), 'mean_test_score': array([0.83765172, 0.83784401, 0.83129039, 0.83878674, 0.83784305,\n",
            "       0.83157322, 0.81959157, 0.83784479, 0.83139758, 0.83776813,\n",
            "       0.83793788, 0.83146027, 0.83851272, 0.83784859, 0.83167526,\n",
            "       0.8206514 , 0.83818277, 0.83126643, 0.83768512, 0.83769555,\n",
            "       0.83131622, 0.84010275, 0.8378892 , 0.83141961, 0.82030192,\n",
            "       0.8378436 , 0.83135239, 0.84063914, 0.83777302, 0.83145178,\n",
            "       0.85128285, 0.83772721, 0.83121535, 0.82990884, 0.84132357,\n",
            "       0.83148123]), 'std_test_score': array([0.01560766, 0.01551711, 0.0169817 , 0.0148081 , 0.01530791,\n",
            "       0.01706851, 0.01013886, 0.01532216, 0.01691983, 0.01542772,\n",
            "       0.01548216, 0.01696666, 0.01457903, 0.01520646, 0.01692675,\n",
            "       0.01072707, 0.01510878, 0.01671828, 0.01544774, 0.01533722,\n",
            "       0.01707528, 0.01497612, 0.01517324, 0.01696036, 0.01119419,\n",
            "       0.015241  , 0.01682424, 0.01564335, 0.01532587, 0.01698888,\n",
            "       0.01557375, 0.01517647, 0.01707603, 0.01181683, 0.01546956,\n",
            "       0.01690472]), 'rank_test_score': array([20, 12, 30,  5, 14, 22, 36, 11, 27, 16,  8, 24,  6, 10, 21, 34,  7,\n",
            "       31, 19, 18, 29,  4,  9, 26, 35, 13, 28,  3, 15, 25,  1, 17, 32, 33,\n",
            "        2, 23], dtype=int32), 'split0_train_score': array([0.84644469, 0.84601299, 0.8405078 , 0.84730722, 0.84621929,\n",
            "       0.84035928, 0.8496163 , 0.84651166, 0.84087108, 0.84656316,\n",
            "       0.84641114, 0.84063444, 0.847269  , 0.84618981, 0.84097933,\n",
            "       0.85047985, 0.84637933, 0.84102223, 0.84670424, 0.8462117 ,\n",
            "       0.84005071, 0.84940052, 0.84638094, 0.84063633, 0.84861765,\n",
            "       0.84653544, 0.84058075, 0.85055148, 0.8462899 , 0.84084934,\n",
            "       0.8691583 , 0.84634578, 0.84014817, 0.88853297, 0.8509416 ,\n",
            "       0.84082921]), 'split1_train_score': array([0.83734631, 0.83714316, 0.8307823 , 0.83887028, 0.83711574,\n",
            "       0.83042559, 0.84215389, 0.83723008, 0.83021675, 0.83744373,\n",
            "       0.8373167 , 0.83107455, 0.83845115, 0.83719231, 0.83094155,\n",
            "       0.84370586, 0.83739925, 0.83028894, 0.83744358, 0.83691566,\n",
            "       0.83099405, 0.84068096, 0.83719829, 0.83081643, 0.84361704,\n",
            "       0.83718691, 0.83051746, 0.84077284, 0.83724145, 0.83048932,\n",
            "       0.8598194 , 0.83715979, 0.83055859, 0.88375331, 0.84087186,\n",
            "       0.83064944]), 'split2_train_score': array([0.84279702, 0.8429395 , 0.83692762, 0.8441454 , 0.84285477,\n",
            "       0.83663697, 0.85119373, 0.84246801, 0.83661101, 0.84285958,\n",
            "       0.84290143, 0.83676691, 0.84449234, 0.842929  , 0.83680235,\n",
            "       0.84978832, 0.84314862, 0.83693097, 0.84277718, 0.84271404,\n",
            "       0.83693958, 0.84590402, 0.84299827, 0.83693287, 0.85032747,\n",
            "       0.8435154 , 0.83705056, 0.84608777, 0.84286498, 0.83682189,\n",
            "       0.86409249, 0.84280562, 0.83684274, 0.89044318, 0.84695986,\n",
            "       0.83706149]), 'split3_train_score': array([0.83517742, 0.8353345 , 0.82835226, 0.83733109, 0.83533712,\n",
            "       0.82906076, 0.84504794, 0.83542871, 0.82835138, 0.83524291,\n",
            "       0.83557616, 0.82891156, 0.83684208, 0.83517173, 0.82866159,\n",
            "       0.84550239, 0.83564631, 0.82854783, 0.83529526, 0.83545292,\n",
            "       0.82826008, 0.83892705, 0.8355079 , 0.82835051, 0.84421678,\n",
            "       0.83580105, 0.82841263, 0.83935685, 0.83526668, 0.82871453,\n",
            "       0.85920347, 0.83525268, 0.82832192, 0.88858124, 0.83975602,\n",
            "       0.82851064]), 'split4_train_score': array([0.83928145, 0.83897328, 0.83237957, 0.84065281, 0.83889744,\n",
            "       0.83201073, 0.8448213 , 0.8392988 , 0.83249522, 0.83945923,\n",
            "       0.8388375 , 0.83145813, 0.84005267, 0.83895986, 0.83207913,\n",
            "       0.84696024, 0.83913094, 0.83165546, 0.83941519, 0.83879783,\n",
            "       0.83112692, 0.8422234 , 0.83883327, 0.8312471 , 0.8469318 ,\n",
            "       0.83909156, 0.83160558, 0.84277687, 0.83877698, 0.83169104,\n",
            "       0.86176506, 0.83890474, 0.83195458, 0.88585456, 0.84324897,\n",
            "       0.83196377]), 'mean_train_score': array([0.84020938, 0.84008069, 0.83378991, 0.84166136, 0.84008487,\n",
            "       0.83369867, 0.84656663, 0.84018745, 0.83370909, 0.84031372,\n",
            "       0.84020859, 0.83376912, 0.84142145, 0.84008854, 0.83389279,\n",
            "       0.84728733, 0.84034089, 0.83368909, 0.84032709, 0.84001843,\n",
            "       0.83347427, 0.84342719, 0.84018373, 0.83359665, 0.84674215,\n",
            "       0.84042607, 0.8336334 , 0.84390916, 0.840088  , 0.83371322,\n",
            "       0.86280775, 0.84009372, 0.8335652 , 0.88743305, 0.84435566,\n",
            "       0.83380291]), 'std_train_score': array([0.00399885, 0.00389222, 0.00437214, 0.00362229, 0.00395146,\n",
            "       0.0041969 , 0.00333273, 0.0039339 , 0.00451863, 0.00400542,\n",
            "       0.00393511, 0.0042969 , 0.00388049, 0.00397821, 0.0044283 ,\n",
            "       0.00255214, 0.00391159, 0.00461333, 0.00402831, 0.00393913,\n",
            "       0.00433837, 0.00376981, 0.00397308, 0.00450466, 0.00255154,\n",
            "       0.00401328, 0.00449489, 0.00401768, 0.003981  , 0.00447343,\n",
            "       0.00360523, 0.0039975 , 0.00431749, 0.00235037, 0.00411521,\n",
            "       0.0045016 ])}\n",
            "Best: 0.851283 using {'clf__C': 0.1, 'clf__gamma': 0.0001, 'clf__kernel': 'rbf', 'scaler': StandardScaler(copy=True, with_mean=True, with_std=True)}\n"
          ],
          "name": "stdout"
        }
      ]
    },
    {
      "cell_type": "code",
      "metadata": {
        "colab": {
          "base_uri": "https://localhost:8080/"
        },
        "id": "JCxrNckPixYS",
        "outputId": "c061bce4-83ac-4067-d71c-b4a9187f3b29"
      },
      "source": [
        "# summarize results\n",
        "print(\"Best: %f using %s\" % (grid.best_score_, grid.best_params_)) # Returns the best score and the best hyperparameters.\n",
        "means = grid.cv_results_['mean_test_score'] # column that records the mean test scores. \n",
        "stds = grid.cv_results_['std_test_score']  # column that records the std test scores.\n",
        "params = grid.cv_results_['params'] # column that records the parameters used. \n",
        "for mean, stdev, param in zip(means, stds, params):\n",
        "    print(\"%f (%f) with: %r\" % (mean, stdev, param)) # return the mean, std , param values for each case that was investigated."
      ],
      "execution_count": null,
      "outputs": [
        {
          "output_type": "stream",
          "text": [
            "Best: 0.851283 using {'clf__C': 0.1, 'clf__gamma': 0.0001, 'clf__kernel': 'rbf', 'scaler': StandardScaler(copy=True, with_mean=True, with_std=True)}\n",
            "0.837652 (0.015608) with: {'clf__C': 0.0001, 'clf__gamma': 1e-05, 'clf__kernel': 'rbf', 'scaler': StandardScaler(copy=True, with_mean=True, with_std=True)}\n",
            "0.837844 (0.015517) with: {'clf__C': 0.0001, 'clf__gamma': 1e-05, 'clf__kernel': 'rbf', 'scaler': MaxAbsScaler(copy=True)}\n",
            "0.831290 (0.016982) with: {'clf__C': 0.0001, 'clf__gamma': 1e-05, 'clf__kernel': 'rbf', 'scaler': Normalizer(copy=True, norm='l2')}\n",
            "0.838787 (0.014808) with: {'clf__C': 0.0001, 'clf__gamma': 0.0001, 'clf__kernel': 'rbf', 'scaler': StandardScaler(copy=True, with_mean=True, with_std=True)}\n",
            "0.837843 (0.015308) with: {'clf__C': 0.0001, 'clf__gamma': 0.0001, 'clf__kernel': 'rbf', 'scaler': MaxAbsScaler(copy=True)}\n",
            "0.831573 (0.017069) with: {'clf__C': 0.0001, 'clf__gamma': 0.0001, 'clf__kernel': 'rbf', 'scaler': Normalizer(copy=True, norm='l2')}\n",
            "0.819592 (0.010139) with: {'clf__C': 0.0001, 'clf__gamma': 0.001, 'clf__kernel': 'rbf', 'scaler': StandardScaler(copy=True, with_mean=True, with_std=True)}\n",
            "0.837845 (0.015322) with: {'clf__C': 0.0001, 'clf__gamma': 0.001, 'clf__kernel': 'rbf', 'scaler': MaxAbsScaler(copy=True)}\n",
            "0.831398 (0.016920) with: {'clf__C': 0.0001, 'clf__gamma': 0.001, 'clf__kernel': 'rbf', 'scaler': Normalizer(copy=True, norm='l2')}\n",
            "0.837768 (0.015428) with: {'clf__C': 0.001, 'clf__gamma': 1e-05, 'clf__kernel': 'rbf', 'scaler': StandardScaler(copy=True, with_mean=True, with_std=True)}\n",
            "0.837938 (0.015482) with: {'clf__C': 0.001, 'clf__gamma': 1e-05, 'clf__kernel': 'rbf', 'scaler': MaxAbsScaler(copy=True)}\n",
            "0.831460 (0.016967) with: {'clf__C': 0.001, 'clf__gamma': 1e-05, 'clf__kernel': 'rbf', 'scaler': Normalizer(copy=True, norm='l2')}\n",
            "0.838513 (0.014579) with: {'clf__C': 0.001, 'clf__gamma': 0.0001, 'clf__kernel': 'rbf', 'scaler': StandardScaler(copy=True, with_mean=True, with_std=True)}\n",
            "0.837849 (0.015206) with: {'clf__C': 0.001, 'clf__gamma': 0.0001, 'clf__kernel': 'rbf', 'scaler': MaxAbsScaler(copy=True)}\n",
            "0.831675 (0.016927) with: {'clf__C': 0.001, 'clf__gamma': 0.0001, 'clf__kernel': 'rbf', 'scaler': Normalizer(copy=True, norm='l2')}\n",
            "0.820651 (0.010727) with: {'clf__C': 0.001, 'clf__gamma': 0.001, 'clf__kernel': 'rbf', 'scaler': StandardScaler(copy=True, with_mean=True, with_std=True)}\n",
            "0.838183 (0.015109) with: {'clf__C': 0.001, 'clf__gamma': 0.001, 'clf__kernel': 'rbf', 'scaler': MaxAbsScaler(copy=True)}\n",
            "0.831266 (0.016718) with: {'clf__C': 0.001, 'clf__gamma': 0.001, 'clf__kernel': 'rbf', 'scaler': Normalizer(copy=True, norm='l2')}\n",
            "0.837685 (0.015448) with: {'clf__C': 0.01, 'clf__gamma': 1e-05, 'clf__kernel': 'rbf', 'scaler': StandardScaler(copy=True, with_mean=True, with_std=True)}\n",
            "0.837696 (0.015337) with: {'clf__C': 0.01, 'clf__gamma': 1e-05, 'clf__kernel': 'rbf', 'scaler': MaxAbsScaler(copy=True)}\n",
            "0.831316 (0.017075) with: {'clf__C': 0.01, 'clf__gamma': 1e-05, 'clf__kernel': 'rbf', 'scaler': Normalizer(copy=True, norm='l2')}\n",
            "0.840103 (0.014976) with: {'clf__C': 0.01, 'clf__gamma': 0.0001, 'clf__kernel': 'rbf', 'scaler': StandardScaler(copy=True, with_mean=True, with_std=True)}\n",
            "0.837889 (0.015173) with: {'clf__C': 0.01, 'clf__gamma': 0.0001, 'clf__kernel': 'rbf', 'scaler': MaxAbsScaler(copy=True)}\n",
            "0.831420 (0.016960) with: {'clf__C': 0.01, 'clf__gamma': 0.0001, 'clf__kernel': 'rbf', 'scaler': Normalizer(copy=True, norm='l2')}\n",
            "0.820302 (0.011194) with: {'clf__C': 0.01, 'clf__gamma': 0.001, 'clf__kernel': 'rbf', 'scaler': StandardScaler(copy=True, with_mean=True, with_std=True)}\n",
            "0.837844 (0.015241) with: {'clf__C': 0.01, 'clf__gamma': 0.001, 'clf__kernel': 'rbf', 'scaler': MaxAbsScaler(copy=True)}\n",
            "0.831352 (0.016824) with: {'clf__C': 0.01, 'clf__gamma': 0.001, 'clf__kernel': 'rbf', 'scaler': Normalizer(copy=True, norm='l2')}\n",
            "0.840639 (0.015643) with: {'clf__C': 0.1, 'clf__gamma': 1e-05, 'clf__kernel': 'rbf', 'scaler': StandardScaler(copy=True, with_mean=True, with_std=True)}\n",
            "0.837773 (0.015326) with: {'clf__C': 0.1, 'clf__gamma': 1e-05, 'clf__kernel': 'rbf', 'scaler': MaxAbsScaler(copy=True)}\n",
            "0.831452 (0.016989) with: {'clf__C': 0.1, 'clf__gamma': 1e-05, 'clf__kernel': 'rbf', 'scaler': Normalizer(copy=True, norm='l2')}\n",
            "0.851283 (0.015574) with: {'clf__C': 0.1, 'clf__gamma': 0.0001, 'clf__kernel': 'rbf', 'scaler': StandardScaler(copy=True, with_mean=True, with_std=True)}\n",
            "0.837727 (0.015176) with: {'clf__C': 0.1, 'clf__gamma': 0.0001, 'clf__kernel': 'rbf', 'scaler': MaxAbsScaler(copy=True)}\n",
            "0.831215 (0.017076) with: {'clf__C': 0.1, 'clf__gamma': 0.0001, 'clf__kernel': 'rbf', 'scaler': Normalizer(copy=True, norm='l2')}\n",
            "0.829909 (0.011817) with: {'clf__C': 0.1, 'clf__gamma': 0.001, 'clf__kernel': 'rbf', 'scaler': StandardScaler(copy=True, with_mean=True, with_std=True)}\n",
            "0.841324 (0.015470) with: {'clf__C': 0.1, 'clf__gamma': 0.001, 'clf__kernel': 'rbf', 'scaler': MaxAbsScaler(copy=True)}\n",
            "0.831481 (0.016905) with: {'clf__C': 0.1, 'clf__gamma': 0.001, 'clf__kernel': 'rbf', 'scaler': Normalizer(copy=True, norm='l2')}\n"
          ],
          "name": "stdout"
        }
      ]
    },
    {
      "cell_type": "markdown",
      "metadata": {
        "id": "8_AThoZWrpH1"
      },
      "source": [
        "# Data Visualization"
      ]
    },
    {
      "cell_type": "code",
      "metadata": {
        "id": "_cspCFImHicr"
      },
      "source": [
        "data = pd.DataFrame(grid.cv_results_) # convert the results into a dataframe\n",
        "data.index.name = 'slice' # index name \n",
        "cropped = data[['mean_test_score', 'std_test_score','param_clf__C','param_clf__gamma','param_scaler','mean_train_score']] #obtaining only the columns that I am interested for the visualization later.\n",
        "ind_list1 = np.arange(0,34,3) # slicing the rows that are related to the standardscaled values\n",
        "StandardValues = cropped.iloc[ind_list1]\n",
        "ind_list2 = np.arange(1,35,3) # slicing the rows that are related to the maxabscaled values\n",
        "AbsValues = cropped.iloc[ind_list2]\n",
        "ind_list3 = np.arange(2,36,3) # # slicing the rows that are related to the normalized values\n",
        "NormalValues = cropped.iloc[ind_list3]"
      ],
      "execution_count": null,
      "outputs": []
    },
    {
      "cell_type": "code",
      "metadata": {
        "id": "tUUoDOLy6RuY"
      },
      "source": [
        "# function which will give the average score vs the hyperparameter values\n",
        "def plot_grid_search(cv_results, grid_param_1, grid_param_2, name_param_1, name_param_2):\n",
        "    # Get Test Scores Mean and std for each grid search\n",
        "    scores_mean = cv_results['mean_test_score'] # will take the column related to the mean test scores\n",
        "    scores_mean = np.array(scores_mean).reshape(len(grid_param_2),len(grid_param_1)) # reshape to fit the dimension(4,3)\n",
        "\n",
        "    scores_sd = cv_results['std_test_score'] # will take the column related to the mean std scores\n",
        "    scores_sd = np.array(scores_sd).reshape(len(grid_param_2),len(grid_param_1))\n",
        "\n",
        "    # Plot Grid search scores\n",
        "    _, ax = plt.subplots(1,1)\n",
        "\n",
        "    # Param1 is the X-axis, Param 2 is represented as a different curve (color line)\n",
        "    for idx, val in enumerate(grid_param_2):\n",
        "        ax.plot(grid_param_1, scores_mean[idx,:], '-o', label= name_param_2 + ': ' + str(val))\n",
        "\n",
        "    ax.set_title(\"Grid Search Scores\", fontsize=20, fontweight='bold')\n",
        "    ax.set_xlabel(name_param_1, fontsize=16)\n",
        "    ax.set_ylabel('Average Score', fontsize=16)\n",
        "    ax.legend(loc=\"best\", fontsize=8)\n",
        "    ax.grid('on')"
      ],
      "execution_count": null,
      "outputs": []
    },
    {
      "cell_type": "code",
      "metadata": {
        "colab": {
          "base_uri": "https://localhost:8080/",
          "height": 305
        },
        "id": "-0NoaJy4CSx8",
        "outputId": "2ed98bc2-636e-46dd-db4f-4b2d9a632517"
      },
      "source": [
        "# Plot of the StandardScaled values\n",
        "plot_grid_search(StandardValues, gamma_to_test, C_to_test, 'Gamma', 'C')"
      ],
      "execution_count": null,
      "outputs": [
        {
          "output_type": "display_data",
          "data": {
            "image/png": "[encoded data removed]",
            "text/plain": [
              "<Figure size 432x288 with 1 Axes>"
            ]
          },
          "metadata": {
            "tags": [],
            "needs_background": "light"
          }
        }
      ]
    },
    {
      "cell_type": "code",
      "metadata": {
        "colab": {
          "base_uri": "https://localhost:8080/",
          "height": 305
        },
        "id": "xu3G98W5E55H",
        "outputId": "7ffb4970-b589-41af-f988-92d29259840a"
      },
      "source": [
        "# Plot of the MaxAbsScaled values\n",
        "plot_grid_search(AbsValues, gamma_to_test, C_to_test, 'Gamma', 'C')"
      ],
      "execution_count": null,
      "outputs": [
        {
          "output_type": "display_data",
          "data": {
            "image/png": "[encoded data removed]",
            "text/plain": [
              "<Figure size 432x288 with 1 Axes>"
            ]
          },
          "metadata": {
            "tags": [],
            "needs_background": "light"
          }
        }
      ]
    },
    {
      "cell_type": "code",
      "metadata": {
        "colab": {
          "base_uri": "https://localhost:8080/",
          "height": 305
        },
        "id": "VTDGVoVdDxtM",
        "outputId": "1dec2f6f-9b43-4947-e78c-e155bad0db50"
      },
      "source": [
        "# Plot of the Normalized values\n",
        "plot_grid_search(NormalValues, gamma_to_test, C_to_test, 'Gamma', 'C')"
      ],
      "execution_count": null,
      "outputs": [
        {
          "output_type": "display_data",
          "data": {
            "image/png": "[encoded data removed]",
            "text/plain": [
              "<Figure size 432x288 with 1 Axes>"
            ]
          },
          "metadata": {
            "tags": [],
            "needs_background": "light"
          }
        }
      ]
    },
    {
      "cell_type": "markdown",
      "metadata": {
        "id": "460aVVBm7F-k"
      },
      "source": [
        "# Model Architecture\n"
      ]
    },
    {
      "cell_type": "code",
      "metadata": {
        "colab": {
          "base_uri": "https://localhost:8080/"
        },
        "id": "YWgukG0NRPHq",
        "outputId": "dfda8f03-cbae-4376-88b8-5fe51c2c9fde"
      },
      "source": [
        "# Now that the investigation is done we are gonna use (grid.best_score_, grid.best_params_) to train the \n",
        "# entire training dataset.\n",
        "\n",
        "oversample = SMOTE() \n",
        "balanced_feat,balanced_lab = oversample.fit_resample(arr_feat, arr_lab) #perform oversampling to the entire training dataset."
      ],
      "execution_count": null,
      "outputs": [
        {
          "output_type": "stream",
          "text": [
            "/usr/local/lib/python3.7/dist-packages/sklearn/utils/deprecation.py:87: FutureWarning: Function safe_indexing is deprecated; safe_indexing is deprecated in version 0.22 and will be removed in version 0.24.\n",
            "  warnings.warn(msg, category=FutureWarning)\n"
          ],
          "name": "stderr"
        }
      ]
    },
    {
      "cell_type": "code",
      "metadata": {
        "id": "sDUZW4ZPTZII"
      },
      "source": [
        "Standardize = StandardScaler()\n",
        "scaled_training = Standardize.fit_transform(balanced_feat) # fitting and transforming the best scaling method to the entire training dataset.\n",
        "scaled_testing = Standardize.transform(testing) # we transform the testing dataset based on the fittin that was done to the training dataset.\n",
        "Reduction = SelectKBest(score_func=f_classif, k=2400) # in the next lines we do the same for the feature selection.\n",
        "Reduced_training = Reduction.fit_transform(scaled_training,balanced_lab)\n",
        "Reduced_testing = Reduction.transform(scaled_testing)"
      ],
      "execution_count": null,
      "outputs": []
    },
    {
      "cell_type": "code",
      "metadata": {
        "id": "iputcVuzVANC"
      },
      "source": [
        "clf = SVC(kernel='rbf',C=0.1,gamma=0.0001) # initialising the classifier, with the best hyperparameters.\n",
        "clf.fit(Reduced_training,balanced_lab) # fitting the classifier to the scaled and dimensionality reduced dataset.\n",
        "prediction = clf.predict(Reduced_testing) # predicting the unlabeled testing dataset."
      ],
      "execution_count": null,
      "outputs": []
    },
    {
      "cell_type": "code",
      "metadata": {
        "id": "MGCohEm8VJg6"
      },
      "source": [
        "my_submission = pd.DataFrame(prediction.T,columns = ['prediction']) # creating one column dataframe recording the prediction.\n",
        "my_submission.index += 1 # making index to start from 1, so it can fit to the sample submission."
      ],
      "execution_count": null,
      "outputs": []
    },
    {
      "cell_type": "code",
      "metadata": {
        "colab": {
          "base_uri": "https://localhost:8080/"
        },
        "id": "Mm3hd-cLba2f",
        "outputId": "f9224819-f3c8-4089-e04d-19e5d9f0a87b"
      },
      "source": [
        "# checking the label proportions to see if they are similar with the given one\n",
        "# to form an opinion of possible overfitting. #Class: 1 has to be occured slightly more than Class:0 \n",
        "print(my_submission['prediction'].value_counts()) "
      ],
      "execution_count": null,
      "outputs": [
        {
          "output_type": "stream",
          "text": [
            "1    2894\n",
            "0    1608\n",
            "Name: prediction, dtype: int64\n"
          ],
          "name": "stdout"
        }
      ]
    },
    {
      "cell_type": "code",
      "metadata": {
        "id": "_JdbFB-YVZ0f"
      },
      "source": [
        "my_submission.to_csv('/content/drive/My Drive/Colab Notebooks/SVM_RBF_tuned_2400.csv', index_label='ID') # converting the dataframe to csv so as to be in the correct form for the submission."
      ],
      "execution_count": null,
      "outputs": []
    }
  ]
}